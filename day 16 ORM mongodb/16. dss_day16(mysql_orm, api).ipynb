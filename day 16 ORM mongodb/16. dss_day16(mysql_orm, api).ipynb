{
 "cells": [
  {
   "cell_type": "markdown",
   "metadata": {},
   "source": [
    "# ORM, WEB API"
   ]
  },
  {
   "cell_type": "markdown",
   "metadata": {},
   "source": [
    "## 학습목표 \n",
    " 1. SQLAlchemy ORM을 이용한 mysql 데이터 다루기\n",
    " 2. Flask 설치 및 API 실습\n",
    " 3. cron, tmux의 이해 및 숙지"
   ]
  },
  {
   "cell_type": "markdown",
   "metadata": {},
   "source": [
    "* ORM\n",
    "  - Object Relation Mapping\n",
    "  - DB에서 데이터를 가져오거나 데이터를 저장할 때, tuple이나 dict등의 자료가 아닌 해당 row에 맞는 객체를 이용하는 방법\n",
    "  - 각 언어와 환경에 맞는 다양한 ORM이 존재.\n",
    "  - python의 경우 SQLAlchemy가 가장 많이 사용 됨."
   ]
  },
  {
   "cell_type": "code",
   "execution_count": 2,
   "metadata": {
    "collapsed": true
   },
   "outputs": [
    {
     "ename": "NameError",
     "evalue": "name 'server' is not defined",
     "output_type": "error",
     "traceback": [
      "\u001b[0;31m---------------------------------------------------------------------------\u001b[0m",
      "\u001b[0;31mNameError\u001b[0m                                 Traceback (most recent call last)",
      "\u001b[0;32m<ipython-input-2-5ac2f77257a6>\u001b[0m in \u001b[0;36m<module>\u001b[0;34m()\u001b[0m\n\u001b[1;32m      1\u001b[0m \u001b[1;31m#server =\u001b[0m\u001b[1;33m\u001b[0m\u001b[1;33m\u001b[0m\u001b[0m\n\u001b[0;32m----> 2\u001b[0;31m \u001b[0mconnection_string\u001b[0m \u001b[1;33m=\u001b[0m \u001b[1;34m'mysql+mysqldb://root:pass@{}:3306/test'\u001b[0m\u001b[1;33m.\u001b[0m\u001b[0mformat\u001b[0m\u001b[1;33m(\u001b[0m\u001b[0mserver\u001b[0m\u001b[1;33m)\u001b[0m\u001b[1;33m\u001b[0m\u001b[0m\n\u001b[0m\u001b[1;32m      3\u001b[0m \u001b[1;32mprint\u001b[0m \u001b[0mconnection_string\u001b[0m\u001b[1;33m\u001b[0m\u001b[0m\n",
      "\u001b[0;31mNameError\u001b[0m: name 'server' is not defined"
     ]
    }
   ],
   "source": [
    "#server = \n",
    "connection_string = 'mysql+mysqldb://root:pass@{}:3306/test'.format(server)\n",
    "print connection_string"
   ]
  },
  {
   "cell_type": "markdown",
   "metadata": {},
   "source": [
    "* model 생성"
   ]
  },
  {
   "cell_type": "code",
   "execution_count": 14,
   "metadata": {
    "collapsed": false
   },
   "outputs": [],
   "source": [
    "# -*- coding: utf-8 -*-\n",
    "\n",
    "#import sys\n",
    "#reload(sys)\n",
    "#sys.setdefaultencoding('utf-8')\n",
    "\n",
    "import os\n",
    "import sys\n",
    "from sqlalchemy import Column, ForeignKey, Integer, CHAR, Date, String, Time, Index, DateTime, TIMESTAMP, func\n",
    "from sqlalchemy.dialects.mysql import INTEGER, BIT, TINYINT, TIME, DOUBLE, TEXT\n",
    "from sqlalchemy.ext.declarative import declarative_base\n",
    "from sqlalchemy.orm import relationship\n",
    "from sqlalchemy import create_engine\n",
    "from sqlalchemy import PrimaryKeyConstraint\n",
    "from sqlalchemy.orm import sessionmaker\n",
    "\n",
    "Base = declarative_base()\n",
    "\n",
    "class Student(Base):\n",
    "    __tablename__ = 'students'\n",
    "\n",
    "    ID              = Column(Integer, primary_key = True, nullable = False, autoincrement = True)\n",
    "    Name            = Column(CHAR(35), nullable = False)\n",
    "    Age             = Column(Integer, nullable = False, default = 25)\n",
    "    MajorCode       = Column(String(10), nullable = True, default = None)\n",
    "    \n",
    "class Major(Base):\n",
    "    __tablename__ = 'majors'\n",
    "    \n",
    "    ID              = Column(Integer, primary_key = True, nullable = False, autoincrement = True)\n",
    "    Code            = Column(String(10), nullable = False)\n",
    "    Name            = Column(String(45), nullable = False)\n",
    "    Description     = Column(String(45), nullable = False, default = None)\n",
    "    \n",
    "\n",
    "class Course(Base):\n",
    "    __tablename__ = 'courses'\n",
    "    \n",
    "    Code            = Column(String(20), primary_key = True, nullable = False, unique = True)\n",
    "    Name            = Column(String(100), nullable = False)\n",
    "    \n",
    "class Score(Base):\n",
    "    __tablename__ = 'scores'\n",
    "    \n",
    "    ID              = Column(Integer, primary_key = True, nullable = False, autoincrement = True)\n",
    "    StudentID       = Column(Integer, nullable = False)\n",
    "    CourseCode      = Column(String(20), nullable = False)\n",
    "    Score           = Column(Integer, nullable = False, default = 0)"
   ]
  },
  {
   "cell_type": "code",
   "execution_count": 15,
   "metadata": {
    "collapsed": false
   },
   "outputs": [
    {
     "name": "stdout",
     "output_type": "stream",
     "text": [
      "hello\n"
     ]
    }
   ],
   "source": [
    "print 'hello'"
   ]
  },
  {
   "cell_type": "markdown",
   "metadata": {},
   "source": [
    "* select"
   ]
  },
  {
   "cell_type": "code",
   "execution_count": 17,
   "metadata": {
    "collapsed": false
   },
   "outputs": [
    {
     "name": "stdout",
     "output_type": "stream",
     "text": [
      "<type 'str'> 24\n",
      "<type 'str'> 25\n",
      "<type 'str'> 25\n",
      "<type 'str'> 27\n",
      "<type 'str'> 22\n",
      "<type 'str'> 20\n",
      "[<__main__.Student object at 0x03E21150>, <__main__.Student object at 0x03BC6650>, <__main__.Student object at 0x03E21190>, <__main__.Student object at 0x03E211D0>, <__main__.Student object at 0x03E21210>, <__main__.Student object at 0x03E212B0>]\n"
     ]
    }
   ],
   "source": [
    "\n",
    "engine = create_engine(connection_string, pool_recycle = 3600, encoding='utf-8')\n",
    "Session = sessionmaker(bind=engine)\n",
    "\n",
    "session = Session()\n",
    "\n",
    "#result = session.query(Student)  \\  #select\n",
    "#        .filter(Student.Age < 30)  \\  #where\n",
    "#        .all()  #하나만 가져오고 싶으면 one()\n",
    "\n",
    "result = session.query(Student).filter(Student.Age < 30).all()\n",
    "for row in result:\n",
    "    print type(row.Name), row.Age\n"
   ]
  },
  {
   "cell_type": "markdown",
   "metadata": {
    "collapsed": true
   },
   "source": [
    "* insert / update"
   ]
  },
  {
   "cell_type": "code",
   "execution_count": null,
   "metadata": {
    "collapsed": true
   },
   "outputs": [],
   "source": [
    "# insert\n",
    "s2 = Student(Name = 'Kevin', Age = 40, MajorCode = 'CS')\n",
    "session.add(s2)\n",
    "session.commit()\n",
    "\n",
    "# update\n",
    "# one vs first\n",
    "# one은 한개만 찾아옴. 없거나 복수개 있다면 exception 발생\n",
    "# first는 가장 상위에 있는 한개만 찾아옴. 없으면 None 반환\n",
    "row = session.query(Student).filter(Student.Name == 'Kevin').one()\n",
    "row.Name = 'Cindy'\n",
    "session.commit()"
   ]
  },
  {
   "cell_type": "markdown",
   "metadata": {},
   "source": [
    " * delete"
   ]
  },
  {
   "cell_type": "code",
   "execution_count": null,
   "metadata": {
    "collapsed": true
   },
   "outputs": [],
   "source": [
    "session.query(Student).filter(Student.Name == 'Cindy').delete()\n",
    "session.commit()"
   ]
  },
  {
   "cell_type": "markdown",
   "metadata": {},
   "source": [
    " * group by"
   ]
  },
  {
   "cell_type": "code",
   "execution_count": null,
   "metadata": {
    "collapsed": true
   },
   "outputs": [],
   "source": [
    "result = session.query(Student).group_by(Student.MajorCode).all()\n",
    "for row in result:\n",
    "    print row"
   ]
  },
  {
   "cell_type": "markdown",
   "metadata": {},
   "source": [
    "* order by"
   ]
  },
  {
   "cell_type": "code",
   "execution_count": null,
   "metadata": {
    "collapsed": true
   },
   "outputs": [],
   "source": [
    "# 기본적으로 오름차순, 내림차순의 경우 desc 이용\n",
    "from sqlalchemy import desc\n",
    "\n",
    "session.query(Student).order_by(Student.Age).all()\n",
    "for row in result:\n",
    "    print row\n",
    "    \n",
    "session.query(Student).order_by(desc(Student.Age)).all()\n",
    "for row in result:\n",
    "    print row\n",
    "    \n",
    "session.query(Student).order_by(desc(Student.Age), MajorCode).all()\n",
    "for row in result:\n",
    "    print row"
   ]
  },
  {
   "cell_type": "markdown",
   "metadata": {},
   "source": [
    " * subquery"
   ]
  },
  {
   "cell_type": "code",
   "execution_count": null,
   "metadata": {
    "collapsed": true
   },
   "outputs": [],
   "source": [
    "stmt = session.query(func.avg(Score.Score)).subquery()\n",
    "result = session.query(Score).group_by(Score.StudentID).having(func.avg(Score.Score) < stmt)\n",
    "for row in result:\n",
    "    print row.StudentId, row.Score"
   ]
  },
  {
   "cell_type": "markdown",
   "metadata": {},
   "source": [
    " * join"
   ]
  },
  {
   "cell_type": "code",
   "execution_count": null,
   "metadata": {
    "collapsed": true
   },
   "outputs": [],
   "source": [
    "'''select sc.StudentID, s.Name, avg(sc.Score) \n",
    "\tfrom scores sc\n",
    "    join students s\n",
    "    on sc.StudentID = s.ID\n",
    "    group by sc.StudentID;'''\n",
    "\n",
    "from sqlalchemy import func\n",
    "result = session.query(Score.StudentID, Student.Name, func.avg(Score.Score)) \\\n",
    "                .join(Student, Score.StudentID == Student.ID) \\\n",
    "                .group_by(Score.StudentID) \\\n",
    "                .all()\n",
    "            \n",
    "for row in result:\n",
    "    print row\n",
    "    \n",
    "# 모든 필드를 가져옴\n",
    "result = session.query(Score, Student) \\\n",
    "                .join(Student, Score.StudentID == Student.ID) \\\n",
    "                .group_by(Score.StudentID) \\\n",
    "                .all()\n",
    "            \n",
    "for row in result:\n",
    "    print row.Student.ID, row.Student.Name"
   ]
  },
  {
   "cell_type": "markdown",
   "metadata": {},
   "source": [
    "* 연습문제)\n",
    " 0. python orm 으로 진행하시면 됩니다.\n",
    " 1. 나이가 30 이상인 학생들의 평균성적은 얼마인가요?\n",
    " 2. 나이가 27 이하인 학생들은 어떤 과목을 수강하나요?\n",
    " 3. 과목별 평균 성적을 구하세요.\n"
   ]
  },
  {
   "cell_type": "code",
   "execution_count": null,
   "metadata": {
    "collapsed": true
   },
   "outputs": [],
   "source": []
  },
  {
   "cell_type": "markdown",
   "metadata": {},
   "source": [
    "* 연습문제)\n",
    "  1. world database로 선택해서 진행하시면 됩니다.\n",
    "  2. GNP가 가장 높은 나라는?\n",
    "  3. 각 나라의 주요 도시별 평균 인구수는?\n",
    "  4. 기대수명이 평균보다 낮은 나라들의 평균 GNP는?\n",
    "  "
   ]
  },
  {
   "cell_type": "code",
   "execution_count": null,
   "metadata": {
    "collapsed": true
   },
   "outputs": [],
   "source": []
  },
  {
   "cell_type": "markdown",
   "metadata": {},
   "source": [
    "* API\n",
    " - HTTP request를 받아 document(HTML, json, xml 등의)를 response로 반환\n",
    " - python의 경우, Django, Flask, Tornado 등의 module 이용 가능\n",
    " - 거의 99% 이상의 api가 DB에서 값을 가져오거나 DB에 값을 쓰게 동작 함\n",
    " \n",
    "* REST API\n",
    " - Representational state transfer \n",
    " - 웹에 존재하는 모든 리소스를 URL과 매핑하고, CRUD 동작과 HTTP method를 연결하여 사용"
   ]
  },
  {
   "cell_type": "code",
   "execution_count": 6,
   "metadata": {
    "collapsed": true
   },
   "outputs": [
    {
     "ename": "ImportError",
     "evalue": "No module named flask",
     "output_type": "error",
     "traceback": [
      "\u001b[0;31m---------------------------------------------------------------------------\u001b[0m",
      "\u001b[0;31mImportError\u001b[0m                               Traceback (most recent call last)",
      "\u001b[0;32m<ipython-input-6-57649067146a>\u001b[0m in \u001b[0;36m<module>\u001b[0;34m()\u001b[0m\n\u001b[0;32m----> 1\u001b[0;31m \u001b[0;32mfrom\u001b[0m \u001b[0mflask\u001b[0m \u001b[0;32mimport\u001b[0m \u001b[0mFlask\u001b[0m\u001b[0;34m,\u001b[0m \u001b[0mjsonify\u001b[0m\u001b[0;34m\u001b[0m\u001b[0m\n\u001b[0m\u001b[1;32m      2\u001b[0m \u001b[0;34m\u001b[0m\u001b[0m\n\u001b[1;32m      3\u001b[0m \u001b[0mapp\u001b[0m \u001b[0;34m=\u001b[0m \u001b[0mFlask\u001b[0m\u001b[0;34m(\u001b[0m\u001b[0m__name__\u001b[0m\u001b[0;34m)\u001b[0m\u001b[0;34m\u001b[0m\u001b[0m\n\u001b[1;32m      4\u001b[0m \u001b[0;34m\u001b[0m\u001b[0m\n\u001b[1;32m      5\u001b[0m \u001b[0;34m@\u001b[0m\u001b[0mapp\u001b[0m\u001b[0;34m.\u001b[0m\u001b[0mroute\u001b[0m\u001b[0;34m(\u001b[0m\u001b[0;34m'/'\u001b[0m\u001b[0;34m)\u001b[0m\u001b[0;34m\u001b[0m\u001b[0m\n",
      "\u001b[0;31mImportError\u001b[0m: No module named flask"
     ]
    }
   ],
   "source": [
    "from flask import Flask, jsonify\n",
    "from models import Student\n",
    "from orm_test2 import Session\n",
    "\n",
    "app = Flask(__name__)\n",
    "\n",
    "@app.route('/')\n",
    "def hello_world():\n",
    "    return 'Hello, World!'\n",
    "\n",
    "@app.route('/test')\n",
    "def hello_json():\n",
    "    data = {'name' : 'Aaron', 'family' : 'Byun'}\n",
    "    return jsonify(data)\n",
    "\n",
    "@app.route('/users/<user_name>')\n",
    "def get_user(user_name):\n",
    "    session = Session()\n",
    "    result = session.query(Student).filter(Student.Name == user_name).all()\n",
    "    \n",
    "    data = []\n",
    "    for row in result:\n",
    "        data.append({'name' : row.Name, 'age' : row.Age, 'major_code' : row.MajorCode})\n",
    "        \n",
    "    return jsonify(data)\n",
    "    \n",
    "\n",
    "if __name__ == '__main__':\n",
    "    app.run(debug = True, host = '0.0.0.0', port = 5000)"
   ]
  },
  {
   "cell_type": "markdown",
   "metadata": {},
   "source": [
    "* 실습 및 과제)\n",
    " - 배운 것으로 종합적 설계를 진행해보아요.\n",
    "   + 뉴스 크롤러 및 뉴스 검색 시스템 설계\n",
    "   + 요구사항\n",
    "     1. 매일 특정한 시각에 그날의 네이버 IT 뉴스(타이틀, 내용)를 모두 긁어오는 모듈이 필요\n",
    "     2. 크롤러는 데이터를 rdb에 저장 (타이틀, 내용, 저장시각)\n",
    "     3. 사용자는 API를 이용하여 키워드로 뉴스 검색이 가능\n",
    "   + 해야할일\n",
    "     1. class 설계 및 구현\n",
    "     2. table scheme 설계 및 생성\n",
    "     3. flask web API 구현\n",
    "  \n",
    " "
   ]
  },
  {
   "cell_type": "code",
   "execution_count": null,
   "metadata": {
    "collapsed": true
   },
   "outputs": [],
   "source": []
  },
  {
   "cell_type": "markdown",
   "metadata": {},
   "source": [
    "* 실습 및 과제를 위해 필요한 것들\n",
    " - cron, tmux, vi"
   ]
  },
  {
   "cell_type": "markdown",
   "metadata": {
    "collapsed": false
   },
   "source": [
    "  - crontab 사용법\n",
    "    + cron 파일 위치 (/etc/crontab)\n",
    "      - m h dom mon dow user command (분, 시각, 일, 월, 요일, 사용자, 명령어)\n",
    "      - 30 09 10 06 * ubuntu python test.py       6월 10일 9시 30분에 실행\n",
    "      - 00 11,16 * * * ubuntu python test.py      매일 11시, 16시에 실행\n",
    "      - 00 09-18 * * 1-5 ubuntu python test.py    월-금 9시, 10시...18시에 실행\n",
    "      - 00/10 * * * *    ubuntu python test.py     10분마다 실행\n",
    "      \n",
    "    \n",
    "  - tmux 사용법\n",
    "    + tmux new -s [session]  새로운 세션 생성\n",
    "    + tmux attach -t [session] 세션에 접속\n",
    "    + tmux ls 현재 실행중인 세션 나열\n",
    "    \n",
    "    + ctrl + b, c - 세션 새 윈도우 생성\n",
    "    + ctrl + b, w - 세션 윈도우 리스트로 이동\n",
    "    + ctrl + b, , - 윈도우 이름 변경\n",
    "    + ctrl + b, [ - 윈도우 스크롤링\n",
    "    + ctrl + b, & - 윈도우 삭제\n",
    "    \n",
    "    * tmux script 작성\n",
    "      + tmux send -t [session]:[no] \"command\" ENTER\n",
    "      + e.g)\n",
    "       + tmux send -t dev:7 \"python /home/dev/test.py\" ENTER\n",
    "       \n",
    "       \n",
    "  - vi에서 한글 작성 중 한글이 깨져보일 시\n",
    "    - sudo apt-get install language-pack-ko\n",
    "    - sudo locale-gen ko_KR.UTF-8\n",
    "    - sudo dpkg-reconfigure locales\n",
    "    + vi ~/.vimrc 에서 아래 두 줄 추가  \n",
    "      - set encoding=utf-8\n",
    "      - set fileencodings=utf-8,euckr"
   ]
  },
  {
   "cell_type": "code",
   "execution_count": null,
   "metadata": {
    "collapsed": true
   },
   "outputs": [],
   "source": []
  }
 ],
 "metadata": {
  "kernelspec": {
   "display_name": "Python 2",
   "language": "python",
   "name": "python2"
  },
  "language_info": {
   "codemirror_mode": {
    "name": "ipython",
    "version": 2
   },
   "file_extension": ".py",
   "mimetype": "text/x-python",
   "name": "python",
   "nbconvert_exporter": "python",
   "pygments_lexer": "ipython2",
   "version": "2.7.13"
  }
 },
 "nbformat": 4,
 "nbformat_minor": 1
}
