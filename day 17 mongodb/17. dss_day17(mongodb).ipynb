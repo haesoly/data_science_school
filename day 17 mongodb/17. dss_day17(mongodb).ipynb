{
 "cells": [
  {
   "cell_type": "markdown",
   "metadata": {},
   "source": [
    "# MongoDB"
   ]
  },
  {
   "cell_type": "markdown",
   "metadata": {},
   "source": [
    "## 학습목표\n",
    "\n",
    " 1. mongodb 설치\n",
    " 2. mongodb CRUD\n",
    " 3. mongoimport / mongoexport 사용\n",
    " 3. mongodb aggregation 이해 및 숙지\n",
    " 4. pymongo 모듈을 통한 실습"
   ]
  },
  {
   "cell_type": "raw",
   "metadata": {},
   "source": []
  },
  {
   "cell_type": "markdown",
   "metadata": {},
   "source": [
    "### mongodb 설치\n",
    " * https://docs.mongodb.com/manual/installation/\n",
    " * community edition 설치\n",
    " \n",
    " * terminal에서 아래의 명령어 차례대로 수행\n",
    "   * sudo apt-key adv --keyserver hkp://keyserver.ubuntu.com:80 --recv 0C49F3730359A14518585931BC711F9BA15703C6\n",
    "   * lsb_release -a  (ubuntu 버젼 확인)\n",
    "   * ubuntu 12.04의 경우\n",
    "     * echo \"deb [ arch=amd64 ] http://repo.mongodb.org/apt/ubuntu precise/mongodb-org/3.4 multiverse\" | sudo tee /etc/apt/sources.list.d/mongodb-org-3.4.list\n",
    "   * ubuntu 14.04의 경우\n",
    "     * echo \"deb [ arch=amd64 ] http://repo.mongodb.org/apt/ubuntu trusty/mongodb-org/3.4 multiverse\" | sudo tee /etc/apt/sources.list.d/mongodb-org-3.4.list\n",
    "   * ubuntu 16.04의 경우\n",
    "     * echo \"deb [ arch=amd64,arm64 ] http://repo.mongodb.org/apt/ubuntu xenial/mongodb-org/3.4 multiverse\" | sudo tee /etc/apt/sources.list.d/mongodb-org-3.4.list\n",
    "   * sudo apt-get update\n",
    "   * sudo apt-get install -y mongodb-org\n",
    "   \n",
    "   * sudo vi /etc/mongod.conf\n",
    "     * bindIp: 127.0.0.1 -> 0.0.0.0으로 변경\n",
    "    \n",
    "   * sudo service mongod start or restart\n",
    "   * sudo service mongod status\n",
    "   "
   ]
  },
  {
   "cell_type": "markdown",
   "metadata": {},
   "source": [
    "## mongodb 삭제\n",
    " * sudo apt-get purge mongodb-org*"
   ]
  },
  {
   "cell_type": "raw",
   "metadata": {},
   "source": []
  },
  {
   "cell_type": "markdown",
   "metadata": {},
   "source": [
    "* 설치 확인\n",
    " - 터미널에서 mongo 입력\n",
    " - mongo shell이 뜨는지 확인"
   ]
  },
  {
   "cell_type": "markdown",
   "metadata": {},
   "source": []
  },
  {
   "cell_type": "markdown",
   "metadata": {},
   "source": [
    "* local에서 접속 확인\n",
    "  * local에서 mongo 설치 (client)\n",
    "    * Mac OSX \n",
    "      - brew install mongo\n",
    "    * Windows \n",
    "      - https://www.mongodb.com/download-center?jmp=nav#community\n",
    "      - msi installer download\n",
    "      - path에 설치된 경로 추가 후 \n",
    "      \n",
    "  * mongo --host AWS_HOST --port 27017"
   ]
  },
  {
   "cell_type": "markdown",
   "metadata": {},
   "source": []
  },
  {
   "cell_type": "markdown",
   "metadata": {},
   "source": [
    "### Why mongodb?\n",
    " * rdb의 경우, 테이블 구조에 프로그램 객체를 맞추는 문제로 인해 개발 생산성이 떨어짐\n",
    "   - ORM 기술이 있긴 하지만, 개발자 입장에서 여전히 부자연 스러움\n",
    " * scheme 미리 정해져 있지 않기 때문에, 개발 생산성이 좋음\n",
    " * join, transaction을 지원하지 않기 때문에, 속도가 빠름\n"
   ]
  },
  {
   "cell_type": "raw",
   "metadata": {},
   "source": []
  },
  {
   "cell_type": "markdown",
   "metadata": {},
   "source": [
    "### mongodb의 데이터 구성\n",
    " - db, collection으로 구성\n",
    " - 데이터는 collection의 document 형식(python dictionary)으로 저장 됨\n",
    " - collection들의 논리적인 집합이 database\n",
    " \n",
    "### database 선택\n",
    " - show dbs - 전체 데이터베이스 열람\n",
    " - use [DB 이름] - 데이터베이스 선택\n",
    "   * e.g) use test - test 데이터베이스 선택\n",
    "   \n",
    " \n",
    " - show collections - 선택된 데이터베이스의 콜렉션 열람\n",
    " - db.[Collection 이름].함수() 로 해당 컬렉션의 데이터 열람 및 조작\n",
    "   * e.g) db.actors.find() - actors 컬렉션에서 검색\n",
    "          db.actors.insertOne() - actors 컬렉션에서 삽입"
   ]
  },
  {
   "cell_type": "raw",
   "metadata": {},
   "source": []
  },
  {
   "cell_type": "markdown",
   "metadata": {},
   "source": [
    "* Mongodb CRUD (deprecated)\n",
    "   - insert\n",
    "     * db.person.insert({ \"name\" : \"aaron\", \"age\" : 31, \"regdate\" : new Date() })\n",
    "     \n",
    "   - update\n",
    "     *  db.person.update({ name : \"aaron\" }, { $set : { gender : \"M\" }})\n",
    "     \n",
    "   - find / findOne\n",
    "   \n",
    "     * db.person.find()\n",
    "     * db.person.findOne()\n",
    "     * db.person.find({ name : \"aaron\" })\n",
    "     * db.person.find({ name : \"aaron\", or : [{ age : 30 }, { age : 21 }] })\n",
    "     * db.person.find({ name : \"aaron\", nor : [{ age : 20 }, { age : 21 }] })\n",
    "     * db.person.find({ age : { in : [20, 21] }})\n",
    "     * db.person.find({ age : { nin : [20, 21] }})\n",
    "     * db.person.findOne({name : 'Aaron'}, {name : 1, regdate : 1})\n",
    "     * db.person.find({ name : null })\n",
    "     * db.person.find().sort({ name : 1 }) # DESC\n",
    "     * db.person.find().sort({ name : -1 }) # ASC\n",
    "     * db.person.find().limit(2)\n",
    "     * db.person.find().limit(2).skip(2) # 2건너 뛰고 2개 가져옴\n",
    "     * db.person.find({ name : { $exists : false } }) # 특정 필드가 없는 문제 가져옴\n",
    "   - count\n",
    "     * db.person.count()\n",
    "     * db.person.find({ name : \"aaron\" }).count()\n",
    "   - remove\n",
    "     * db.person.remove({ name : \"aaron\" })\n",
    "   - drop - collection 삭제\n",
    "     * db.person.drop()"
   ]
  },
  {
   "cell_type": "raw",
   "metadata": {},
   "source": []
  },
  {
   "cell_type": "markdown",
   "metadata": {},
   "source": [
    "* mongodb CRUD \n",
    "  - insertOne, insertMany\n",
    "    - insertOne - 한개의 document 생성\n",
    "    - insertMany - list of document 생성\n",
    "  - findOne, find\n",
    "    - findOne - 매칭되는 한개의 document 검색\n",
    "    - find    - 매칭되는 list of document 검색 \n",
    "  - updateOne, updateMany\n",
    "    - updateOne - 매칭되는 한개의 document 업데이트\n",
    "    - updateMany - 매칭되는 list of document 업데이트\n",
    "  - removeOne, removeMany\n",
    "    - removeOne - 매칭되는 한개의 document 삭제\n",
    "    - removeMany - 매칭되는 list of document 삭제\n",
    "  "
   ]
  },
  {
   "cell_type": "raw",
   "metadata": {},
   "source": []
  },
  {
   "cell_type": "markdown",
   "metadata": {},
   "source": [
    "### mongo shell\n",
    " - 로컬에서 서버가 돌아갈 경우,\n",
    "   - mongo\n",
    " - 원격 서버에 접속할 경우 \n",
    "   - mongo --host 'host_address' --port 'port'\n",
    "   - e.g) mongo --host 1111.111.11.111 --port 27017\n"
   ]
  },
  {
   "cell_type": "raw",
   "metadata": {},
   "source": []
  },
  {
   "cell_type": "markdown",
   "metadata": {},
   "source": [
    "### pymongo\n",
    " - mongodb python module\n",
    " - https://api.mongodb.com/python/current/\n",
    " - pip install pymongo"
   ]
  },
  {
   "cell_type": "markdown",
   "metadata": {},
   "source": []
  },
  {
   "cell_type": "code",
   "execution_count": 2,
   "metadata": {
    "collapsed": true
   },
   "outputs": [],
   "source": [
    "mongo_server = ''"
   ]
  },
  {
   "cell_type": "markdown",
   "metadata": {},
   "source": [
    "### insertion 예제"
   ]
  },
  {
   "cell_type": "markdown",
   "metadata": {},
   "source": [
    "* insert one"
   ]
  },
  {
   "cell_type": "code",
   "execution_count": 15,
   "metadata": {
    "collapsed": false
   },
   "outputs": [
    {
     "name": "stdout",
     "output_type": "stream",
     "text": [
      "유해진 송강호 이동휘 공유 조정석 한지민 현빈 이준 이병헌 정우성 엄지원 강동원 김주혁 조윤희 신성록 장영남 도경수 임지연 김우빈 김남길 이해영 조인성 오달수 정진영 엄태구 김대명 문정희 김아중\n"
     ]
    }
   ],
   "source": [
    "# insert_one으로 하나씩 삽입\n",
    "import requests\n",
    "import re\n",
    "import datetime\n",
    "from bs4 import BeautifulSoup\n",
    "from pymongo import MongoClient\n",
    "\n",
    "\n",
    "def get_hot_actors():\n",
    "    cine_url = 'http://www.cine21.com/rank/person/content'\n",
    "    \n",
    "    # mongo driver 생성\n",
    "    mongo = MongoClient(mongo_server, 27017)\n",
    "    \n",
    "    # cine21 database -> actor collection\n",
    "    actor = mongo.cine21.actor\n",
    "    \n",
    "    data1 = {}\n",
    "    data1['section'] = 'actor'\n",
    "    data1['period_start'] = '2016-09'\n",
    "    data1['gender'] = 'all'\n",
    "    \n",
    "    actors = []\n",
    "    for i in xrange(1, 5):\n",
    "        data1['page'] = i\n",
    "\n",
    "        res = requests.post(cine_url, data = data1)\n",
    "        \n",
    "        soup = BeautifulSoup(res.text)\n",
    "        # 이렇게 바로 utf-8으로 설정 할 수 도 있음\n",
    "        #soup = BeautifulSoup(res.content, from_encoding='utf-8')\n",
    "\n",
    "        names = soup.find_all('div', attrs = {'class' : 'name'})\n",
    "        for name in names:\n",
    "            actor_name = name.get_text()\n",
    "            actor_name = re.sub('\\(.+\\)', '', actor_name)\n",
    "            name = actor_name.encode('utf-8')\n",
    "            print name,\n",
    "            actor.insert_one({\"actor_name\" : name, 'datetime' : datetime.datetime.now()})\n",
    "            \n",
    "get_hot_actors()"
   ]
  },
  {
   "cell_type": "markdown",
   "metadata": {},
   "source": [
    "* insert many"
   ]
  },
  {
   "cell_type": "code",
   "execution_count": 28,
   "metadata": {
    "collapsed": false
   },
   "outputs": [
    {
     "name": "stdout",
     "output_type": "stream",
     "text": [
      "유해진 송강호 이동휘 공유 조정석 한지민 현빈 이준 이병헌 정우성 엄지원 강동원 김주혁 조윤희 신성록 장영남 도경수 임지연 김우빈 김남길 이해영 조인성 오달수 정진영 엄태구 김대명 문정희 김아중\n"
     ]
    }
   ],
   "source": [
    "# insert_many로 한꺼번에 삽입\n",
    "import requests\n",
    "import re\n",
    "from bs4 import BeautifulSoup\n",
    "from pymongo import MongoClient\n",
    "\n",
    "\n",
    "def get_hot_actors():\n",
    "    cine_url = 'http://www.cine21.com/rank/person/content'\n",
    "    \n",
    "    # mongo driver 생성\n",
    "    mongo = MongoClient(mongo_server, 27017)\n",
    "    \n",
    "    # cine21 database -> actor collection\n",
    "    actor = mongo.cine21.actor\n",
    "    \n",
    "    data1 = {}\n",
    "    data1['section'] = 'actor'\n",
    "    data1['period_start'] = '2016-09'\n",
    "    data1['gender'] = 'all'\n",
    "    \n",
    "    actors = []\n",
    "    for i in xrange(1, 5):\n",
    "        data1['page'] = i\n",
    "\n",
    "        res = requests.post(cine_url, data = data1)\n",
    "        \n",
    "        soup = BeautifulSoup(res.text)\n",
    "        # 이렇게 바로 utf-8으로 설정 할 수 도 있음\n",
    "        #soup = BeautifulSoup(res.content, from_encoding='utf-8')\n",
    "\n",
    "        names = soup.find_all('div', attrs = {'class' : 'name'})\n",
    "        for name in names:\n",
    "            actor_name = name.get_text()\n",
    "            actor_name = re.sub('\\(.+\\)', '', actor_name)\n",
    "            name = actor_name.encode('utf-8')\n",
    "            print name,\n",
    "            actors.append({'name' : name})\n",
    "            \n",
    "    # insert_many를 이용하여 list를 한꺼번에 삽입\n",
    "    actor.insert_many(actors)\n",
    "            \n",
    "get_hot_actors()"
   ]
  },
  {
   "cell_type": "raw",
   "metadata": {},
   "source": []
  },
  {
   "cell_type": "markdown",
   "metadata": {},
   "source": [
    "* list, dict insertion\n",
    " - list와 dictionary로 삽입 가능\n",
    " - 빠른 개발 생산성과 직결됨"
   ]
  },
  {
   "cell_type": "code",
   "execution_count": 85,
   "metadata": {
    "collapsed": false
   },
   "outputs": [
    {
     "data": {
      "text/plain": [
       "<pymongo.results.InsertOneResult at 0x104032780>"
      ]
     },
     "execution_count": 85,
     "metadata": {},
     "output_type": "execute_result"
    }
   ],
   "source": [
    "mongo = MongoClient(mongo_server, 27017)\n",
    "movie = mongo.test.movie\n",
    "\n",
    "# 리스트, 객체 삽입 가능\n",
    "movie.insert_one({'title' : '암살', 'castings' : ['이정재', '전지현', '하정우']})\n",
    "movie.insert_one({'title' : '실미도', 'castings' : ['설경구', '안성기'], \n",
    "                              'datetime' : {'year' : '2003', 'month' : 3}})"
   ]
  },
  {
   "cell_type": "code",
   "execution_count": 46,
   "metadata": {
    "collapsed": false
   },
   "outputs": [
    {
     "data": {
      "text/plain": [
       "<pymongo.results.InsertManyResult at 0x104032280>"
      ]
     },
     "execution_count": 46,
     "metadata": {},
     "output_type": "execute_result"
    }
   ],
   "source": [
    "data = []\n",
    "data.append({'name' : 'aaron', 'age' : 20})\n",
    "data.append({'name' : 'bob', 'age' : 30})\n",
    "data.append({'name' : 'cathy', 'age' : 25})\n",
    "data.append({'name' : 'david', 'age' : 27})\n",
    "data.append({'name' : 'erick', 'age' : 28})\n",
    "data.append({'name' : 'fox', 'age' : 32})\n",
    "data.append({'name' : 'hmm'})\n",
    "\n",
    "tmp = mongo.test.temp\n",
    "tmp.insert_many(data)"
   ]
  },
  {
   "cell_type": "markdown",
   "metadata": {},
   "source": [
    "### Find 예제"
   ]
  },
  {
   "cell_type": "markdown",
   "metadata": {},
   "source": [
    "* find_one, find"
   ]
  },
  {
   "cell_type": "code",
   "execution_count": 19,
   "metadata": {
    "collapsed": false
   },
   "outputs": [
    {
     "name": "stdout",
     "output_type": "stream",
     "text": [
      "None\n",
      "{u'_id': ObjectId('58b7accef6f40702d4f553d1'), u'name': u'\\uc1a1\\uac15\\ud638'}\n",
      "{u'_id': ObjectId('58b7accef6f40702d4f553d1'), u'name': u'\\uc1a1\\uac15\\ud638'}\n"
     ]
    }
   ],
   "source": [
    "# findOne으로 찾기\n",
    "mongo = MongoClient(mongo_server, 27017)\n",
    "actor = mongo.cine21.actor\n",
    "\n",
    "result = actor.find_one({'name' : '변영효'})\n",
    "print result\n",
    "\n",
    "result = actor.find_one({'name' : '송강호'})\n",
    "print result\n",
    "\n",
    "# find 의 경우 cursor 반환\n",
    "result = actor.find({'name' : '송강호'})\n",
    "for record in result:\n",
    "    print record"
   ]
  },
  {
   "cell_type": "markdown",
   "metadata": {},
   "source": [
    "* sort\n",
    " - mysql의 order by에 해당\n",
    " - find로 데이터 열람 시, 정렬 조건 명시 가능"
   ]
  },
  {
   "cell_type": "code",
   "execution_count": 44,
   "metadata": {
    "collapsed": true
   },
   "outputs": [
    {
     "name": "stdout",
     "output_type": "stream",
     "text": [
      "{u'actor_name': u'\\uc720\\ud574\\uc9c4', u'_id': ObjectId('58b7ad3ef6f40702d4f553ed'), u'datetime': datetime.datetime(2017, 3, 2, 14, 27, 26, 287000)}\n",
      "{u'actor_name': u'\\uc1a1\\uac15\\ud638', u'_id': ObjectId('58b7ad3ff6f40702d4f553ee'), u'datetime': datetime.datetime(2017, 3, 2, 14, 27, 27, 560000)}\n",
      "{u'actor_name': u'\\uc774\\ub3d9\\ud718', u'_id': ObjectId('58b7ad3ff6f40702d4f553ef'), u'datetime': datetime.datetime(2017, 3, 2, 14, 27, 27, 864000)}\n",
      "{u'actor_name': u'\\uacf5\\uc720', u'_id': ObjectId('58b7ad40f6f40702d4f553f0'), u'datetime': datetime.datetime(2017, 3, 2, 14, 27, 28, 479000)}\n",
      "{u'actor_name': u'\\uc870\\uc815\\uc11d', u'_id': ObjectId('58b7ad40f6f40702d4f553f1'), u'datetime': datetime.datetime(2017, 3, 2, 14, 27, 28, 787000)}\n",
      "{u'actor_name': u'\\ud55c\\uc9c0\\ubbfc', u'_id': ObjectId('58b7ad41f6f40702d4f553f2'), u'datetime': datetime.datetime(2017, 3, 2, 14, 27, 29, 94000)}\n",
      "{u'actor_name': u'\\ud604\\ube48', u'_id': ObjectId('58b7ad41f6f40702d4f553f3'), u'datetime': datetime.datetime(2017, 3, 2, 14, 27, 29, 248000)}\n",
      "{u'actor_name': u'\\uc774\\uc900', u'_id': ObjectId('58b7ad41f6f40702d4f553f4'), u'datetime': datetime.datetime(2017, 3, 2, 14, 27, 29, 718000)}\n",
      "{u'actor_name': u'\\uc774\\ubcd1\\ud5cc', u'_id': ObjectId('58b7ad42f6f40702d4f553f5'), u'datetime': datetime.datetime(2017, 3, 2, 14, 27, 30, 17000)}\n",
      "{u'actor_name': u'\\uc815\\uc6b0\\uc131', u'_id': ObjectId('58b7ad42f6f40702d4f553f6'), u'datetime': datetime.datetime(2017, 3, 2, 14, 27, 30, 178000)}\n",
      "{u'actor_name': u'\\uc5c4\\uc9c0\\uc6d0', u'_id': ObjectId('58b7ad42f6f40702d4f553f7'), u'datetime': datetime.datetime(2017, 3, 2, 14, 27, 30, 629000)}\n",
      "{u'actor_name': u'\\uac15\\ub3d9\\uc6d0', u'_id': ObjectId('58b7ad42f6f40702d4f553f8'), u'datetime': datetime.datetime(2017, 3, 2, 14, 27, 30, 937000)}\n",
      "{u'actor_name': u'\\uae40\\uc8fc\\ud601', u'_id': ObjectId('58b7ad43f6f40702d4f553f9'), u'datetime': datetime.datetime(2017, 3, 2, 14, 27, 31, 246000)}\n",
      "{u'actor_name': u'\\uc870\\uc724\\ud76c', u'_id': ObjectId('58b7ad43f6f40702d4f553fa'), u'datetime': datetime.datetime(2017, 3, 2, 14, 27, 31, 554000)}\n",
      "{u'actor_name': u'\\uc2e0\\uc131\\ub85d', u'_id': ObjectId('58b7ad44f6f40702d4f553fb'), u'datetime': datetime.datetime(2017, 3, 2, 14, 27, 32, 41000)}\n",
      "{u'actor_name': u'\\uc7a5\\uc601\\ub0a8', u'_id': ObjectId('58b7ad44f6f40702d4f553fc'), u'datetime': datetime.datetime(2017, 3, 2, 14, 27, 32, 293000)}\n",
      "{u'actor_name': u'\\ub3c4\\uacbd\\uc218', u'_id': ObjectId('58b7ad44f6f40702d4f553fd'), u'datetime': datetime.datetime(2017, 3, 2, 14, 27, 32, 448000)}\n",
      "{u'actor_name': u'\\uc784\\uc9c0\\uc5f0', u'_id': ObjectId('58b7ad44f6f40702d4f553fe'), u'datetime': datetime.datetime(2017, 3, 2, 14, 27, 32, 606000)}\n",
      "{u'actor_name': u'\\uae40\\uc6b0\\ube48', u'_id': ObjectId('58b7ad44f6f40702d4f553ff'), u'datetime': datetime.datetime(2017, 3, 2, 14, 27, 32, 761000)}\n",
      "{u'actor_name': u'\\uae40\\ub0a8\\uae38', u'_id': ObjectId('58b7ad44f6f40702d4f55400'), u'datetime': datetime.datetime(2017, 3, 2, 14, 27, 32, 933000)}\n",
      "{u'actor_name': u'\\uc774\\ud574\\uc601', u'_id': ObjectId('58b7ad45f6f40702d4f55401'), u'datetime': datetime.datetime(2017, 3, 2, 14, 27, 33, 91000)}\n",
      "{u'actor_name': u'\\uc870\\uc778\\uc131', u'_id': ObjectId('58b7ad45f6f40702d4f55402'), u'datetime': datetime.datetime(2017, 3, 2, 14, 27, 33, 474000)}\n",
      "{u'actor_name': u'\\uc624\\ub2ec\\uc218', u'_id': ObjectId('58b7ad45f6f40702d4f55403'), u'datetime': datetime.datetime(2017, 3, 2, 14, 27, 33, 628000)}\n",
      "{u'actor_name': u'\\uc815\\uc9c4\\uc601', u'_id': ObjectId('58b7ad45f6f40702d4f55404'), u'datetime': datetime.datetime(2017, 3, 2, 14, 27, 33, 791000)}\n",
      "{u'actor_name': u'\\uc5c4\\ud0dc\\uad6c', u'_id': ObjectId('58b7ad45f6f40702d4f55405'), u'datetime': datetime.datetime(2017, 3, 2, 14, 27, 33, 955000)}\n",
      "{u'actor_name': u'\\uae40\\ub300\\uba85', u'_id': ObjectId('58b7ad46f6f40702d4f55406'), u'datetime': datetime.datetime(2017, 3, 2, 14, 27, 34, 115000)}\n",
      "{u'actor_name': u'\\ubb38\\uc815\\ud76c', u'_id': ObjectId('58b7ad46f6f40702d4f55407'), u'datetime': datetime.datetime(2017, 3, 2, 14, 27, 34, 278000)}\n",
      "{u'actor_name': u'\\uae40\\uc544\\uc911', u'_id': ObjectId('58b7ad46f6f40702d4f55408'), u'datetime': datetime.datetime(2017, 3, 2, 14, 27, 34, 437000)}\n",
      "{u'_id': ObjectId('58b7accef6f40702d4f553db'), u'name': u'\\uac15\\ub3d9\\uc6d0'}\n",
      "{u'_id': ObjectId('58b7b084f6f40702d4f5541e'), u'name': u'\\uac15\\ub3d9\\uc6d0'}\n",
      "{u'_id': ObjectId('58b7b150f6f40702d4f5543c'), u'name': u'\\uac15\\ub3d9\\uc6d0'}\n",
      "{u'_id': ObjectId('58b7b152f6f40702d4f55459'), u'name': u'\\uac15\\ub3d9\\uc6d0'}\n",
      "{u'_id': ObjectId('58b7accef6f40702d4f553d3'), u'name': u'\\uacf5\\uc720'}\n",
      "{u'_id': ObjectId('58b7b084f6f40702d4f55416'), u'name': u'\\uacf5\\uc720'}\n",
      "{u'_id': ObjectId('58b7b150f6f40702d4f55434'), u'name': u'\\uacf5\\uc720'}\n",
      "{u'_id': ObjectId('58b7b152f6f40702d4f55451'), u'name': u'\\uacf5\\uc720'}\n",
      "{u'_id': ObjectId('58b7accef6f40702d4f553e3'), u'name': u'\\uae40\\ub0a8\\uae38'}\n",
      "{u'_id': ObjectId('58b7b084f6f40702d4f55426'), u'name': u'\\uae40\\ub0a8\\uae38'}\n",
      "{u'_id': ObjectId('58b7b150f6f40702d4f55444'), u'name': u'\\uae40\\ub0a8\\uae38'}\n",
      "{u'_id': ObjectId('58b7b152f6f40702d4f55461'), u'name': u'\\uae40\\ub0a8\\uae38'}\n",
      "{u'_id': ObjectId('58b7accef6f40702d4f553e9'), u'name': u'\\uae40\\ub300\\uba85'}\n",
      "{u'_id': ObjectId('58b7b084f6f40702d4f5542c'), u'name': u'\\uae40\\ub300\\uba85'}\n",
      "{u'_id': ObjectId('58b7b150f6f40702d4f5544a'), u'name': u'\\uae40\\ub300\\uba85'}\n",
      "{u'_id': ObjectId('58b7b152f6f40702d4f55467'), u'name': u'\\uae40\\ub300\\uba85'}\n",
      "{u'_id': ObjectId('58b7accef6f40702d4f553eb'), u'name': u'\\uae40\\uc544\\uc911'}\n",
      "{u'_id': ObjectId('58b7b084f6f40702d4f5542e'), u'name': u'\\uae40\\uc544\\uc911'}\n",
      "{u'_id': ObjectId('58b7b150f6f40702d4f5544c'), u'name': u'\\uae40\\uc544\\uc911'}\n",
      "{u'_id': ObjectId('58b7b152f6f40702d4f55469'), u'name': u'\\uae40\\uc544\\uc911'}\n",
      "{u'_id': ObjectId('58b7accef6f40702d4f553e2'), u'name': u'\\uae40\\uc6b0\\ube48'}\n",
      "{u'_id': ObjectId('58b7b084f6f40702d4f55425'), u'name': u'\\uae40\\uc6b0\\ube48'}\n",
      "{u'_id': ObjectId('58b7b150f6f40702d4f55443'), u'name': u'\\uae40\\uc6b0\\ube48'}\n",
      "{u'_id': ObjectId('58b7b152f6f40702d4f55460'), u'name': u'\\uae40\\uc6b0\\ube48'}\n",
      "{u'_id': ObjectId('58b7accef6f40702d4f553dc'), u'name': u'\\uae40\\uc8fc\\ud601'}\n",
      "{u'_id': ObjectId('58b7b084f6f40702d4f5541f'), u'name': u'\\uae40\\uc8fc\\ud601'}\n",
      "{u'_id': ObjectId('58b7b150f6f40702d4f5543d'), u'name': u'\\uae40\\uc8fc\\ud601'}\n",
      "{u'_id': ObjectId('58b7b152f6f40702d4f5545a'), u'name': u'\\uae40\\uc8fc\\ud601'}\n",
      "{u'_id': ObjectId('58b7accef6f40702d4f553e0'), u'name': u'\\ub3c4\\uacbd\\uc218'}\n",
      "{u'_id': ObjectId('58b7b084f6f40702d4f55423'), u'name': u'\\ub3c4\\uacbd\\uc218'}\n",
      "{u'_id': ObjectId('58b7b150f6f40702d4f55441'), u'name': u'\\ub3c4\\uacbd\\uc218'}\n",
      "{u'_id': ObjectId('58b7b152f6f40702d4f5545e'), u'name': u'\\ub3c4\\uacbd\\uc218'}\n",
      "{u'_id': ObjectId('58b7accef6f40702d4f553ea'), u'name': u'\\ubb38\\uc815\\ud76c'}\n",
      "{u'_id': ObjectId('58b7b084f6f40702d4f5542d'), u'name': u'\\ubb38\\uc815\\ud76c'}\n",
      "{u'_id': ObjectId('58b7b150f6f40702d4f5544b'), u'name': u'\\ubb38\\uc815\\ud76c'}\n",
      "{u'_id': ObjectId('58b7b152f6f40702d4f55468'), u'name': u'\\ubb38\\uc815\\ud76c'}\n",
      "{u'_id': ObjectId('58b7accef6f40702d4f553de'), u'name': u'\\uc2e0\\uc131\\ub85d'}\n",
      "{u'_id': ObjectId('58b7b084f6f40702d4f55421'), u'name': u'\\uc2e0\\uc131\\ub85d'}\n",
      "{u'_id': ObjectId('58b7b150f6f40702d4f5543f'), u'name': u'\\uc2e0\\uc131\\ub85d'}\n",
      "{u'_id': ObjectId('58b7b152f6f40702d4f5545c'), u'name': u'\\uc2e0\\uc131\\ub85d'}\n",
      "{u'_id': ObjectId('58b7accef6f40702d4f553da'), u'name': u'\\uc5c4\\uc9c0\\uc6d0'}\n",
      "{u'_id': ObjectId('58b7b084f6f40702d4f5541d'), u'name': u'\\uc5c4\\uc9c0\\uc6d0'}\n",
      "{u'_id': ObjectId('58b7b150f6f40702d4f5543b'), u'name': u'\\uc5c4\\uc9c0\\uc6d0'}\n",
      "{u'_id': ObjectId('58b7b152f6f40702d4f55458'), u'name': u'\\uc5c4\\uc9c0\\uc6d0'}\n",
      "{u'_id': ObjectId('58b7accef6f40702d4f553e8'), u'name': u'\\uc5c4\\ud0dc\\uad6c'}\n",
      "{u'_id': ObjectId('58b7b084f6f40702d4f5542b'), u'name': u'\\uc5c4\\ud0dc\\uad6c'}\n",
      "{u'_id': ObjectId('58b7b150f6f40702d4f55449'), u'name': u'\\uc5c4\\ud0dc\\uad6c'}\n",
      "{u'_id': ObjectId('58b7b152f6f40702d4f55466'), u'name': u'\\uc5c4\\ud0dc\\uad6c'}\n",
      "{u'_id': ObjectId('58b7accef6f40702d4f553e6'), u'name': u'\\uc624\\ub2ec\\uc218'}\n",
      "{u'_id': ObjectId('58b7b084f6f40702d4f55429'), u'name': u'\\uc624\\ub2ec\\uc218'}\n",
      "{u'_id': ObjectId('58b7b150f6f40702d4f55447'), u'name': u'\\uc624\\ub2ec\\uc218'}\n",
      "{u'_id': ObjectId('58b7b152f6f40702d4f55464'), u'name': u'\\uc624\\ub2ec\\uc218'}\n",
      "{u'_id': ObjectId('58b7accef6f40702d4f553d0'), u'name': u'\\uc720\\ud574\\uc9c4'}\n",
      "{u'_id': ObjectId('58b7b084f6f40702d4f55413'), u'name': u'\\uc720\\ud574\\uc9c4'}\n",
      "{u'_id': ObjectId('58b7b150f6f40702d4f55431'), u'name': u'\\uc720\\ud574\\uc9c4'}\n",
      "{u'_id': ObjectId('58b7b152f6f40702d4f5544e'), u'name': u'\\uc720\\ud574\\uc9c4'}\n",
      "{u'_id': ObjectId('58b7accef6f40702d4f553d2'), u'name': u'\\uc774\\ub3d9\\ud718'}\n",
      "{u'_id': ObjectId('58b7b084f6f40702d4f55415'), u'name': u'\\uc774\\ub3d9\\ud718'}\n",
      "{u'_id': ObjectId('58b7b150f6f40702d4f55433'), u'name': u'\\uc774\\ub3d9\\ud718'}\n",
      "{u'_id': ObjectId('58b7b152f6f40702d4f55450'), u'name': u'\\uc774\\ub3d9\\ud718'}\n",
      "{u'_id': ObjectId('58b7accef6f40702d4f553d8'), u'name': u'\\uc774\\ubcd1\\ud5cc'}\n",
      "{u'_id': ObjectId('58b7b084f6f40702d4f5541b'), u'name': u'\\uc774\\ubcd1\\ud5cc'}\n",
      "{u'_id': ObjectId('58b7b150f6f40702d4f55439'), u'name': u'\\uc774\\ubcd1\\ud5cc'}\n",
      "{u'_id': ObjectId('58b7b152f6f40702d4f55456'), u'name': u'\\uc774\\ubcd1\\ud5cc'}\n",
      "{u'_id': ObjectId('58b7accef6f40702d4f553d7'), u'name': u'\\uc774\\uc900'}\n",
      "{u'_id': ObjectId('58b7b084f6f40702d4f5541a'), u'name': u'\\uc774\\uc900'}\n",
      "{u'_id': ObjectId('58b7b150f6f40702d4f55438'), u'name': u'\\uc774\\uc900'}\n",
      "{u'_id': ObjectId('58b7b152f6f40702d4f55455'), u'name': u'\\uc774\\uc900'}\n",
      "{u'_id': ObjectId('58b7accef6f40702d4f553e4'), u'name': u'\\uc774\\ud574\\uc601'}\n",
      "{u'_id': ObjectId('58b7b084f6f40702d4f55427'), u'name': u'\\uc774\\ud574\\uc601'}\n",
      "{u'_id': ObjectId('58b7b150f6f40702d4f55445'), u'name': u'\\uc774\\ud574\\uc601'}\n",
      "{u'_id': ObjectId('58b7b152f6f40702d4f55462'), u'name': u'\\uc774\\ud574\\uc601'}\n",
      "{u'_id': ObjectId('58b7accef6f40702d4f553e1'), u'name': u'\\uc784\\uc9c0\\uc5f0'}\n",
      "{u'_id': ObjectId('58b7b084f6f40702d4f55424'), u'name': u'\\uc784\\uc9c0\\uc5f0'}\n",
      "{u'_id': ObjectId('58b7b150f6f40702d4f55442'), u'name': u'\\uc784\\uc9c0\\uc5f0'}\n",
      "{u'_id': ObjectId('58b7b152f6f40702d4f5545f'), u'name': u'\\uc784\\uc9c0\\uc5f0'}\n",
      "{u'_id': ObjectId('58b7accef6f40702d4f553df'), u'name': u'\\uc7a5\\uc601\\ub0a8'}\n",
      "{u'_id': ObjectId('58b7b084f6f40702d4f55422'), u'name': u'\\uc7a5\\uc601\\ub0a8'}\n",
      "{u'_id': ObjectId('58b7b150f6f40702d4f55440'), u'name': u'\\uc7a5\\uc601\\ub0a8'}\n",
      "{u'_id': ObjectId('58b7b152f6f40702d4f5545d'), u'name': u'\\uc7a5\\uc601\\ub0a8'}\n",
      "{u'_id': ObjectId('58b7accef6f40702d4f553d9'), u'name': u'\\uc815\\uc6b0\\uc131'}\n",
      "{u'_id': ObjectId('58b7b084f6f40702d4f5541c'), u'name': u'\\uc815\\uc6b0\\uc131'}\n",
      "{u'_id': ObjectId('58b7b150f6f40702d4f5543a'), u'name': u'\\uc815\\uc6b0\\uc131'}\n",
      "{u'_id': ObjectId('58b7b152f6f40702d4f55457'), u'name': u'\\uc815\\uc6b0\\uc131'}\n",
      "{u'_id': ObjectId('58b7accef6f40702d4f553e7'), u'name': u'\\uc815\\uc9c4\\uc601'}\n",
      "{u'_id': ObjectId('58b7b084f6f40702d4f5542a'), u'name': u'\\uc815\\uc9c4\\uc601'}\n",
      "{u'_id': ObjectId('58b7b150f6f40702d4f55448'), u'name': u'\\uc815\\uc9c4\\uc601'}\n",
      "{u'_id': ObjectId('58b7b152f6f40702d4f55465'), u'name': u'\\uc815\\uc9c4\\uc601'}\n",
      "{u'_id': ObjectId('58b7accef6f40702d4f553dd'), u'name': u'\\uc870\\uc724\\ud76c'}\n",
      "{u'_id': ObjectId('58b7b084f6f40702d4f55420'), u'name': u'\\uc870\\uc724\\ud76c'}\n",
      "{u'_id': ObjectId('58b7b150f6f40702d4f5543e'), u'name': u'\\uc870\\uc724\\ud76c'}\n",
      "{u'_id': ObjectId('58b7b152f6f40702d4f5545b'), u'name': u'\\uc870\\uc724\\ud76c'}\n",
      "{u'_id': ObjectId('58b7accef6f40702d4f553e5'), u'name': u'\\uc870\\uc778\\uc131'}\n",
      "{u'_id': ObjectId('58b7b084f6f40702d4f55428'), u'name': u'\\uc870\\uc778\\uc131'}\n",
      "{u'_id': ObjectId('58b7b150f6f40702d4f55446'), u'name': u'\\uc870\\uc778\\uc131'}\n",
      "{u'_id': ObjectId('58b7b152f6f40702d4f55463'), u'name': u'\\uc870\\uc778\\uc131'}\n",
      "{u'_id': ObjectId('58b7accef6f40702d4f553d4'), u'name': u'\\uc870\\uc815\\uc11d'}\n",
      "{u'_id': ObjectId('58b7b084f6f40702d4f55417'), u'name': u'\\uc870\\uc815\\uc11d'}\n",
      "{u'_id': ObjectId('58b7b150f6f40702d4f55435'), u'name': u'\\uc870\\uc815\\uc11d'}\n",
      "{u'_id': ObjectId('58b7b152f6f40702d4f55452'), u'name': u'\\uc870\\uc815\\uc11d'}\n",
      "{u'_id': ObjectId('58b7accef6f40702d4f553d5'), u'name': u'\\ud55c\\uc9c0\\ubbfc'}\n",
      "{u'_id': ObjectId('58b7b084f6f40702d4f55418'), u'name': u'\\ud55c\\uc9c0\\ubbfc'}\n",
      "{u'_id': ObjectId('58b7b150f6f40702d4f55436'), u'name': u'\\ud55c\\uc9c0\\ubbfc'}\n",
      "{u'_id': ObjectId('58b7b152f6f40702d4f55453'), u'name': u'\\ud55c\\uc9c0\\ubbfc'}\n",
      "{u'_id': ObjectId('58b7accef6f40702d4f553d6'), u'name': u'\\ud604\\ube48'}\n",
      "{u'_id': ObjectId('58b7b084f6f40702d4f55419'), u'name': u'\\ud604\\ube48'}\n",
      "{u'_id': ObjectId('58b7b150f6f40702d4f55437'), u'name': u'\\ud604\\ube48'}\n",
      "{u'_id': ObjectId('58b7b152f6f40702d4f55454'), u'name': u'\\ud604\\ube48'}\n",
      "{u'actor_name': u'\\uc720\\ud574\\uc9c4', u'_id': ObjectId('58b7ad3ef6f40702d4f553ed'), u'datetime': datetime.datetime(2017, 3, 2, 14, 27, 26, 287000)}\n",
      "{u'actor_name': u'\\uc1a1\\uac15\\ud638', u'_id': ObjectId('58b7ad3ff6f40702d4f553ee'), u'datetime': datetime.datetime(2017, 3, 2, 14, 27, 27, 560000)}\n",
      "{u'actor_name': u'\\uc774\\ub3d9\\ud718', u'_id': ObjectId('58b7ad3ff6f40702d4f553ef'), u'datetime': datetime.datetime(2017, 3, 2, 14, 27, 27, 864000)}\n",
      "{u'actor_name': u'\\uacf5\\uc720', u'_id': ObjectId('58b7ad40f6f40702d4f553f0'), u'datetime': datetime.datetime(2017, 3, 2, 14, 27, 28, 479000)}\n",
      "{u'actor_name': u'\\uc870\\uc815\\uc11d', u'_id': ObjectId('58b7ad40f6f40702d4f553f1'), u'datetime': datetime.datetime(2017, 3, 2, 14, 27, 28, 787000)}\n",
      "{u'actor_name': u'\\ud55c\\uc9c0\\ubbfc', u'_id': ObjectId('58b7ad41f6f40702d4f553f2'), u'datetime': datetime.datetime(2017, 3, 2, 14, 27, 29, 94000)}\n",
      "{u'actor_name': u'\\ud604\\ube48', u'_id': ObjectId('58b7ad41f6f40702d4f553f3'), u'datetime': datetime.datetime(2017, 3, 2, 14, 27, 29, 248000)}\n",
      "{u'actor_name': u'\\uc774\\uc900', u'_id': ObjectId('58b7ad41f6f40702d4f553f4'), u'datetime': datetime.datetime(2017, 3, 2, 14, 27, 29, 718000)}\n",
      "{u'actor_name': u'\\uc774\\ubcd1\\ud5cc', u'_id': ObjectId('58b7ad42f6f40702d4f553f5'), u'datetime': datetime.datetime(2017, 3, 2, 14, 27, 30, 17000)}\n",
      "{u'actor_name': u'\\uc815\\uc6b0\\uc131', u'_id': ObjectId('58b7ad42f6f40702d4f553f6'), u'datetime': datetime.datetime(2017, 3, 2, 14, 27, 30, 178000)}\n",
      "{u'actor_name': u'\\uc5c4\\uc9c0\\uc6d0', u'_id': ObjectId('58b7ad42f6f40702d4f553f7'), u'datetime': datetime.datetime(2017, 3, 2, 14, 27, 30, 629000)}\n",
      "{u'actor_name': u'\\uac15\\ub3d9\\uc6d0', u'_id': ObjectId('58b7ad42f6f40702d4f553f8'), u'datetime': datetime.datetime(2017, 3, 2, 14, 27, 30, 937000)}\n",
      "{u'actor_name': u'\\uae40\\uc8fc\\ud601', u'_id': ObjectId('58b7ad43f6f40702d4f553f9'), u'datetime': datetime.datetime(2017, 3, 2, 14, 27, 31, 246000)}\n",
      "{u'actor_name': u'\\uc870\\uc724\\ud76c', u'_id': ObjectId('58b7ad43f6f40702d4f553fa'), u'datetime': datetime.datetime(2017, 3, 2, 14, 27, 31, 554000)}\n",
      "{u'actor_name': u'\\uc2e0\\uc131\\ub85d', u'_id': ObjectId('58b7ad44f6f40702d4f553fb'), u'datetime': datetime.datetime(2017, 3, 2, 14, 27, 32, 41000)}\n",
      "{u'actor_name': u'\\uc7a5\\uc601\\ub0a8', u'_id': ObjectId('58b7ad44f6f40702d4f553fc'), u'datetime': datetime.datetime(2017, 3, 2, 14, 27, 32, 293000)}\n",
      "{u'actor_name': u'\\ub3c4\\uacbd\\uc218', u'_id': ObjectId('58b7ad44f6f40702d4f553fd'), u'datetime': datetime.datetime(2017, 3, 2, 14, 27, 32, 448000)}\n",
      "{u'actor_name': u'\\uc784\\uc9c0\\uc5f0', u'_id': ObjectId('58b7ad44f6f40702d4f553fe'), u'datetime': datetime.datetime(2017, 3, 2, 14, 27, 32, 606000)}\n",
      "{u'actor_name': u'\\uae40\\uc6b0\\ube48', u'_id': ObjectId('58b7ad44f6f40702d4f553ff'), u'datetime': datetime.datetime(2017, 3, 2, 14, 27, 32, 761000)}\n",
      "{u'actor_name': u'\\uae40\\ub0a8\\uae38', u'_id': ObjectId('58b7ad44f6f40702d4f55400'), u'datetime': datetime.datetime(2017, 3, 2, 14, 27, 32, 933000)}\n",
      "{u'actor_name': u'\\uc774\\ud574\\uc601', u'_id': ObjectId('58b7ad45f6f40702d4f55401'), u'datetime': datetime.datetime(2017, 3, 2, 14, 27, 33, 91000)}\n",
      "{u'actor_name': u'\\uc870\\uc778\\uc131', u'_id': ObjectId('58b7ad45f6f40702d4f55402'), u'datetime': datetime.datetime(2017, 3, 2, 14, 27, 33, 474000)}\n",
      "{u'actor_name': u'\\uc624\\ub2ec\\uc218', u'_id': ObjectId('58b7ad45f6f40702d4f55403'), u'datetime': datetime.datetime(2017, 3, 2, 14, 27, 33, 628000)}\n",
      "{u'actor_name': u'\\uc815\\uc9c4\\uc601', u'_id': ObjectId('58b7ad45f6f40702d4f55404'), u'datetime': datetime.datetime(2017, 3, 2, 14, 27, 33, 791000)}\n",
      "{u'actor_name': u'\\uc5c4\\ud0dc\\uad6c', u'_id': ObjectId('58b7ad45f6f40702d4f55405'), u'datetime': datetime.datetime(2017, 3, 2, 14, 27, 33, 955000)}\n",
      "{u'actor_name': u'\\uae40\\ub300\\uba85', u'_id': ObjectId('58b7ad46f6f40702d4f55406'), u'datetime': datetime.datetime(2017, 3, 2, 14, 27, 34, 115000)}\n",
      "{u'actor_name': u'\\ubb38\\uc815\\ud76c', u'_id': ObjectId('58b7ad46f6f40702d4f55407'), u'datetime': datetime.datetime(2017, 3, 2, 14, 27, 34, 278000)}\n",
      "{u'actor_name': u'\\uae40\\uc544\\uc911', u'_id': ObjectId('58b7ad46f6f40702d4f55408'), u'datetime': datetime.datetime(2017, 3, 2, 14, 27, 34, 437000)}\n",
      "{u'_id': ObjectId('58b7accef6f40702d4f553db'), u'name': u'\\uac15\\ub3d9\\uc6d0'}\n",
      "{u'_id': ObjectId('58b7b084f6f40702d4f5541e'), u'name': u'\\uac15\\ub3d9\\uc6d0'}\n",
      "{u'_id': ObjectId('58b7b150f6f40702d4f5543c'), u'name': u'\\uac15\\ub3d9\\uc6d0'}\n",
      "{u'_id': ObjectId('58b7b152f6f40702d4f55459'), u'name': u'\\uac15\\ub3d9\\uc6d0'}\n",
      "{u'_id': ObjectId('58b7accef6f40702d4f553d3'), u'name': u'\\uacf5\\uc720'}\n",
      "{u'_id': ObjectId('58b7b084f6f40702d4f55416'), u'name': u'\\uacf5\\uc720'}\n",
      "{u'_id': ObjectId('58b7b150f6f40702d4f55434'), u'name': u'\\uacf5\\uc720'}\n",
      "{u'_id': ObjectId('58b7b152f6f40702d4f55451'), u'name': u'\\uacf5\\uc720'}\n",
      "{u'_id': ObjectId('58b7accef6f40702d4f553e3'), u'name': u'\\uae40\\ub0a8\\uae38'}\n",
      "{u'_id': ObjectId('58b7b084f6f40702d4f55426'), u'name': u'\\uae40\\ub0a8\\uae38'}\n",
      "{u'_id': ObjectId('58b7b150f6f40702d4f55444'), u'name': u'\\uae40\\ub0a8\\uae38'}\n",
      "{u'_id': ObjectId('58b7b152f6f40702d4f55461'), u'name': u'\\uae40\\ub0a8\\uae38'}\n",
      "{u'_id': ObjectId('58b7accef6f40702d4f553e9'), u'name': u'\\uae40\\ub300\\uba85'}\n",
      "{u'_id': ObjectId('58b7b084f6f40702d4f5542c'), u'name': u'\\uae40\\ub300\\uba85'}\n",
      "{u'_id': ObjectId('58b7b150f6f40702d4f5544a'), u'name': u'\\uae40\\ub300\\uba85'}\n",
      "{u'_id': ObjectId('58b7b152f6f40702d4f55467'), u'name': u'\\uae40\\ub300\\uba85'}\n",
      "{u'_id': ObjectId('58b7accef6f40702d4f553eb'), u'name': u'\\uae40\\uc544\\uc911'}\n",
      "{u'_id': ObjectId('58b7b084f6f40702d4f5542e'), u'name': u'\\uae40\\uc544\\uc911'}\n",
      "{u'_id': ObjectId('58b7b150f6f40702d4f5544c'), u'name': u'\\uae40\\uc544\\uc911'}\n",
      "{u'_id': ObjectId('58b7b152f6f40702d4f55469'), u'name': u'\\uae40\\uc544\\uc911'}\n",
      "{u'_id': ObjectId('58b7accef6f40702d4f553e2'), u'name': u'\\uae40\\uc6b0\\ube48'}\n",
      "{u'_id': ObjectId('58b7b084f6f40702d4f55425'), u'name': u'\\uae40\\uc6b0\\ube48'}\n",
      "{u'_id': ObjectId('58b7b150f6f40702d4f55443'), u'name': u'\\uae40\\uc6b0\\ube48'}\n",
      "{u'_id': ObjectId('58b7b152f6f40702d4f55460'), u'name': u'\\uae40\\uc6b0\\ube48'}\n",
      "{u'_id': ObjectId('58b7accef6f40702d4f553dc'), u'name': u'\\uae40\\uc8fc\\ud601'}\n",
      "{u'_id': ObjectId('58b7b084f6f40702d4f5541f'), u'name': u'\\uae40\\uc8fc\\ud601'}\n",
      "{u'_id': ObjectId('58b7b150f6f40702d4f5543d'), u'name': u'\\uae40\\uc8fc\\ud601'}\n",
      "{u'_id': ObjectId('58b7b152f6f40702d4f5545a'), u'name': u'\\uae40\\uc8fc\\ud601'}\n",
      "{u'_id': ObjectId('58b7accef6f40702d4f553e0'), u'name': u'\\ub3c4\\uacbd\\uc218'}\n",
      "{u'_id': ObjectId('58b7b084f6f40702d4f55423'), u'name': u'\\ub3c4\\uacbd\\uc218'}\n",
      "{u'_id': ObjectId('58b7b150f6f40702d4f55441'), u'name': u'\\ub3c4\\uacbd\\uc218'}\n",
      "{u'_id': ObjectId('58b7b152f6f40702d4f5545e'), u'name': u'\\ub3c4\\uacbd\\uc218'}\n",
      "{u'_id': ObjectId('58b7accef6f40702d4f553ea'), u'name': u'\\ubb38\\uc815\\ud76c'}\n",
      "{u'_id': ObjectId('58b7b084f6f40702d4f5542d'), u'name': u'\\ubb38\\uc815\\ud76c'}\n",
      "{u'_id': ObjectId('58b7b150f6f40702d4f5544b'), u'name': u'\\ubb38\\uc815\\ud76c'}\n",
      "{u'_id': ObjectId('58b7b152f6f40702d4f55468'), u'name': u'\\ubb38\\uc815\\ud76c'}\n",
      "{u'_id': ObjectId('58b7accef6f40702d4f553de'), u'name': u'\\uc2e0\\uc131\\ub85d'}\n",
      "{u'_id': ObjectId('58b7b084f6f40702d4f55421'), u'name': u'\\uc2e0\\uc131\\ub85d'}\n",
      "{u'_id': ObjectId('58b7b150f6f40702d4f5543f'), u'name': u'\\uc2e0\\uc131\\ub85d'}\n",
      "{u'_id': ObjectId('58b7b152f6f40702d4f5545c'), u'name': u'\\uc2e0\\uc131\\ub85d'}\n",
      "{u'_id': ObjectId('58b7accef6f40702d4f553da'), u'name': u'\\uc5c4\\uc9c0\\uc6d0'}\n",
      "{u'_id': ObjectId('58b7b084f6f40702d4f5541d'), u'name': u'\\uc5c4\\uc9c0\\uc6d0'}\n",
      "{u'_id': ObjectId('58b7b150f6f40702d4f5543b'), u'name': u'\\uc5c4\\uc9c0\\uc6d0'}\n",
      "{u'_id': ObjectId('58b7b152f6f40702d4f55458'), u'name': u'\\uc5c4\\uc9c0\\uc6d0'}\n",
      "{u'_id': ObjectId('58b7accef6f40702d4f553e8'), u'name': u'\\uc5c4\\ud0dc\\uad6c'}\n",
      "{u'_id': ObjectId('58b7b084f6f40702d4f5542b'), u'name': u'\\uc5c4\\ud0dc\\uad6c'}\n",
      "{u'_id': ObjectId('58b7b150f6f40702d4f55449'), u'name': u'\\uc5c4\\ud0dc\\uad6c'}\n",
      "{u'_id': ObjectId('58b7b152f6f40702d4f55466'), u'name': u'\\uc5c4\\ud0dc\\uad6c'}\n",
      "{u'_id': ObjectId('58b7accef6f40702d4f553e6'), u'name': u'\\uc624\\ub2ec\\uc218'}\n",
      "{u'_id': ObjectId('58b7b084f6f40702d4f55429'), u'name': u'\\uc624\\ub2ec\\uc218'}\n",
      "{u'_id': ObjectId('58b7b150f6f40702d4f55447'), u'name': u'\\uc624\\ub2ec\\uc218'}\n",
      "{u'_id': ObjectId('58b7b152f6f40702d4f55464'), u'name': u'\\uc624\\ub2ec\\uc218'}\n",
      "{u'_id': ObjectId('58b7accef6f40702d4f553d0'), u'name': u'\\uc720\\ud574\\uc9c4'}\n",
      "{u'_id': ObjectId('58b7b084f6f40702d4f55413'), u'name': u'\\uc720\\ud574\\uc9c4'}\n",
      "{u'_id': ObjectId('58b7b150f6f40702d4f55431'), u'name': u'\\uc720\\ud574\\uc9c4'}\n",
      "{u'_id': ObjectId('58b7b152f6f40702d4f5544e'), u'name': u'\\uc720\\ud574\\uc9c4'}\n",
      "{u'_id': ObjectId('58b7accef6f40702d4f553d2'), u'name': u'\\uc774\\ub3d9\\ud718'}\n",
      "{u'_id': ObjectId('58b7b084f6f40702d4f55415'), u'name': u'\\uc774\\ub3d9\\ud718'}\n",
      "{u'_id': ObjectId('58b7b150f6f40702d4f55433'), u'name': u'\\uc774\\ub3d9\\ud718'}\n",
      "{u'_id': ObjectId('58b7b152f6f40702d4f55450'), u'name': u'\\uc774\\ub3d9\\ud718'}\n",
      "{u'_id': ObjectId('58b7accef6f40702d4f553d8'), u'name': u'\\uc774\\ubcd1\\ud5cc'}\n",
      "{u'_id': ObjectId('58b7b084f6f40702d4f5541b'), u'name': u'\\uc774\\ubcd1\\ud5cc'}\n",
      "{u'_id': ObjectId('58b7b150f6f40702d4f55439'), u'name': u'\\uc774\\ubcd1\\ud5cc'}\n",
      "{u'_id': ObjectId('58b7b152f6f40702d4f55456'), u'name': u'\\uc774\\ubcd1\\ud5cc'}\n",
      "{u'_id': ObjectId('58b7accef6f40702d4f553d7'), u'name': u'\\uc774\\uc900'}\n",
      "{u'_id': ObjectId('58b7b084f6f40702d4f5541a'), u'name': u'\\uc774\\uc900'}\n",
      "{u'_id': ObjectId('58b7b150f6f40702d4f55438'), u'name': u'\\uc774\\uc900'}\n",
      "{u'_id': ObjectId('58b7b152f6f40702d4f55455'), u'name': u'\\uc774\\uc900'}\n",
      "{u'_id': ObjectId('58b7accef6f40702d4f553e4'), u'name': u'\\uc774\\ud574\\uc601'}\n",
      "{u'_id': ObjectId('58b7b084f6f40702d4f55427'), u'name': u'\\uc774\\ud574\\uc601'}\n",
      "{u'_id': ObjectId('58b7b150f6f40702d4f55445'), u'name': u'\\uc774\\ud574\\uc601'}\n",
      "{u'_id': ObjectId('58b7b152f6f40702d4f55462'), u'name': u'\\uc774\\ud574\\uc601'}\n",
      "{u'_id': ObjectId('58b7accef6f40702d4f553e1'), u'name': u'\\uc784\\uc9c0\\uc5f0'}\n",
      "{u'_id': ObjectId('58b7b084f6f40702d4f55424'), u'name': u'\\uc784\\uc9c0\\uc5f0'}\n",
      "{u'_id': ObjectId('58b7b150f6f40702d4f55442'), u'name': u'\\uc784\\uc9c0\\uc5f0'}\n",
      "{u'_id': ObjectId('58b7b152f6f40702d4f5545f'), u'name': u'\\uc784\\uc9c0\\uc5f0'}\n",
      "{u'_id': ObjectId('58b7accef6f40702d4f553df'), u'name': u'\\uc7a5\\uc601\\ub0a8'}\n",
      "{u'_id': ObjectId('58b7b084f6f40702d4f55422'), u'name': u'\\uc7a5\\uc601\\ub0a8'}\n",
      "{u'_id': ObjectId('58b7b150f6f40702d4f55440'), u'name': u'\\uc7a5\\uc601\\ub0a8'}\n",
      "{u'_id': ObjectId('58b7b152f6f40702d4f5545d'), u'name': u'\\uc7a5\\uc601\\ub0a8'}\n",
      "{u'_id': ObjectId('58b7accef6f40702d4f553d9'), u'name': u'\\uc815\\uc6b0\\uc131'}\n",
      "{u'_id': ObjectId('58b7b084f6f40702d4f5541c'), u'name': u'\\uc815\\uc6b0\\uc131'}\n",
      "{u'_id': ObjectId('58b7b150f6f40702d4f5543a'), u'name': u'\\uc815\\uc6b0\\uc131'}\n",
      "{u'_id': ObjectId('58b7b152f6f40702d4f55457'), u'name': u'\\uc815\\uc6b0\\uc131'}\n",
      "{u'_id': ObjectId('58b7accef6f40702d4f553e7'), u'name': u'\\uc815\\uc9c4\\uc601'}\n",
      "{u'_id': ObjectId('58b7b084f6f40702d4f5542a'), u'name': u'\\uc815\\uc9c4\\uc601'}\n",
      "{u'_id': ObjectId('58b7b150f6f40702d4f55448'), u'name': u'\\uc815\\uc9c4\\uc601'}\n",
      "{u'_id': ObjectId('58b7b152f6f40702d4f55465'), u'name': u'\\uc815\\uc9c4\\uc601'}\n",
      "{u'_id': ObjectId('58b7accef6f40702d4f553dd'), u'name': u'\\uc870\\uc724\\ud76c'}\n",
      "{u'_id': ObjectId('58b7b084f6f40702d4f55420'), u'name': u'\\uc870\\uc724\\ud76c'}\n",
      "{u'_id': ObjectId('58b7b150f6f40702d4f5543e'), u'name': u'\\uc870\\uc724\\ud76c'}\n",
      "{u'_id': ObjectId('58b7b152f6f40702d4f5545b'), u'name': u'\\uc870\\uc724\\ud76c'}\n",
      "{u'_id': ObjectId('58b7accef6f40702d4f553e5'), u'name': u'\\uc870\\uc778\\uc131'}\n",
      "{u'_id': ObjectId('58b7b084f6f40702d4f55428'), u'name': u'\\uc870\\uc778\\uc131'}\n",
      "{u'_id': ObjectId('58b7b150f6f40702d4f55446'), u'name': u'\\uc870\\uc778\\uc131'}\n",
      "{u'_id': ObjectId('58b7b152f6f40702d4f55463'), u'name': u'\\uc870\\uc778\\uc131'}\n",
      "{u'_id': ObjectId('58b7accef6f40702d4f553d4'), u'name': u'\\uc870\\uc815\\uc11d'}\n",
      "{u'_id': ObjectId('58b7b084f6f40702d4f55417'), u'name': u'\\uc870\\uc815\\uc11d'}\n",
      "{u'_id': ObjectId('58b7b150f6f40702d4f55435'), u'name': u'\\uc870\\uc815\\uc11d'}\n",
      "{u'_id': ObjectId('58b7b152f6f40702d4f55452'), u'name': u'\\uc870\\uc815\\uc11d'}\n",
      "{u'_id': ObjectId('58b7accef6f40702d4f553d5'), u'name': u'\\ud55c\\uc9c0\\ubbfc'}\n",
      "{u'_id': ObjectId('58b7b084f6f40702d4f55418'), u'name': u'\\ud55c\\uc9c0\\ubbfc'}\n",
      "{u'_id': ObjectId('58b7b150f6f40702d4f55436'), u'name': u'\\ud55c\\uc9c0\\ubbfc'}\n",
      "{u'_id': ObjectId('58b7b152f6f40702d4f55453'), u'name': u'\\ud55c\\uc9c0\\ubbfc'}\n",
      "{u'_id': ObjectId('58b7accef6f40702d4f553d6'), u'name': u'\\ud604\\ube48'}\n",
      "{u'_id': ObjectId('58b7b084f6f40702d4f55419'), u'name': u'\\ud604\\ube48'}\n",
      "{u'_id': ObjectId('58b7b150f6f40702d4f55437'), u'name': u'\\ud604\\ube48'}\n",
      "{u'_id': ObjectId('58b7b152f6f40702d4f55454'), u'name': u'\\ud604\\ube48'}\n",
      "{u'_id': ObjectId('58b7accef6f40702d4f553d6'), u'name': u'\\ud604\\ube48'}\n",
      "{u'_id': ObjectId('58b7b084f6f40702d4f55419'), u'name': u'\\ud604\\ube48'}\n",
      "{u'_id': ObjectId('58b7b150f6f40702d4f55437'), u'name': u'\\ud604\\ube48'}\n",
      "{u'_id': ObjectId('58b7b152f6f40702d4f55454'), u'name': u'\\ud604\\ube48'}\n",
      "{u'_id': ObjectId('58b7accef6f40702d4f553d5'), u'name': u'\\ud55c\\uc9c0\\ubbfc'}\n",
      "{u'_id': ObjectId('58b7b084f6f40702d4f55418'), u'name': u'\\ud55c\\uc9c0\\ubbfc'}\n",
      "{u'_id': ObjectId('58b7b150f6f40702d4f55436'), u'name': u'\\ud55c\\uc9c0\\ubbfc'}\n",
      "{u'_id': ObjectId('58b7b152f6f40702d4f55453'), u'name': u'\\ud55c\\uc9c0\\ubbfc'}\n",
      "{u'_id': ObjectId('58b7accef6f40702d4f553d4'), u'name': u'\\uc870\\uc815\\uc11d'}\n",
      "{u'_id': ObjectId('58b7b084f6f40702d4f55417'), u'name': u'\\uc870\\uc815\\uc11d'}\n",
      "{u'_id': ObjectId('58b7b150f6f40702d4f55435'), u'name': u'\\uc870\\uc815\\uc11d'}\n",
      "{u'_id': ObjectId('58b7b152f6f40702d4f55452'), u'name': u'\\uc870\\uc815\\uc11d'}\n",
      "{u'_id': ObjectId('58b7accef6f40702d4f553e5'), u'name': u'\\uc870\\uc778\\uc131'}\n",
      "{u'_id': ObjectId('58b7b084f6f40702d4f55428'), u'name': u'\\uc870\\uc778\\uc131'}\n",
      "{u'_id': ObjectId('58b7b150f6f40702d4f55446'), u'name': u'\\uc870\\uc778\\uc131'}\n",
      "{u'_id': ObjectId('58b7b152f6f40702d4f55463'), u'name': u'\\uc870\\uc778\\uc131'}\n",
      "{u'_id': ObjectId('58b7accef6f40702d4f553dd'), u'name': u'\\uc870\\uc724\\ud76c'}\n",
      "{u'_id': ObjectId('58b7b084f6f40702d4f55420'), u'name': u'\\uc870\\uc724\\ud76c'}\n",
      "{u'_id': ObjectId('58b7b150f6f40702d4f5543e'), u'name': u'\\uc870\\uc724\\ud76c'}\n",
      "{u'_id': ObjectId('58b7b152f6f40702d4f5545b'), u'name': u'\\uc870\\uc724\\ud76c'}\n",
      "{u'_id': ObjectId('58b7accef6f40702d4f553e7'), u'name': u'\\uc815\\uc9c4\\uc601'}\n",
      "{u'_id': ObjectId('58b7b084f6f40702d4f5542a'), u'name': u'\\uc815\\uc9c4\\uc601'}\n",
      "{u'_id': ObjectId('58b7b150f6f40702d4f55448'), u'name': u'\\uc815\\uc9c4\\uc601'}\n",
      "{u'_id': ObjectId('58b7b152f6f40702d4f55465'), u'name': u'\\uc815\\uc9c4\\uc601'}\n",
      "{u'_id': ObjectId('58b7accef6f40702d4f553d9'), u'name': u'\\uc815\\uc6b0\\uc131'}\n",
      "{u'_id': ObjectId('58b7b084f6f40702d4f5541c'), u'name': u'\\uc815\\uc6b0\\uc131'}\n",
      "{u'_id': ObjectId('58b7b150f6f40702d4f5543a'), u'name': u'\\uc815\\uc6b0\\uc131'}\n",
      "{u'_id': ObjectId('58b7b152f6f40702d4f55457'), u'name': u'\\uc815\\uc6b0\\uc131'}\n",
      "{u'_id': ObjectId('58b7accef6f40702d4f553df'), u'name': u'\\uc7a5\\uc601\\ub0a8'}\n",
      "{u'_id': ObjectId('58b7b084f6f40702d4f55422'), u'name': u'\\uc7a5\\uc601\\ub0a8'}\n",
      "{u'_id': ObjectId('58b7b150f6f40702d4f55440'), u'name': u'\\uc7a5\\uc601\\ub0a8'}\n",
      "{u'_id': ObjectId('58b7b152f6f40702d4f5545d'), u'name': u'\\uc7a5\\uc601\\ub0a8'}\n",
      "{u'_id': ObjectId('58b7accef6f40702d4f553e1'), u'name': u'\\uc784\\uc9c0\\uc5f0'}\n",
      "{u'_id': ObjectId('58b7b084f6f40702d4f55424'), u'name': u'\\uc784\\uc9c0\\uc5f0'}\n",
      "{u'_id': ObjectId('58b7b150f6f40702d4f55442'), u'name': u'\\uc784\\uc9c0\\uc5f0'}\n",
      "{u'_id': ObjectId('58b7b152f6f40702d4f5545f'), u'name': u'\\uc784\\uc9c0\\uc5f0'}\n",
      "{u'_id': ObjectId('58b7accef6f40702d4f553e4'), u'name': u'\\uc774\\ud574\\uc601'}\n",
      "{u'_id': ObjectId('58b7b084f6f40702d4f55427'), u'name': u'\\uc774\\ud574\\uc601'}\n",
      "{u'_id': ObjectId('58b7b150f6f40702d4f55445'), u'name': u'\\uc774\\ud574\\uc601'}\n",
      "{u'_id': ObjectId('58b7b152f6f40702d4f55462'), u'name': u'\\uc774\\ud574\\uc601'}\n",
      "{u'_id': ObjectId('58b7accef6f40702d4f553d7'), u'name': u'\\uc774\\uc900'}\n",
      "{u'_id': ObjectId('58b7b084f6f40702d4f5541a'), u'name': u'\\uc774\\uc900'}\n",
      "{u'_id': ObjectId('58b7b150f6f40702d4f55438'), u'name': u'\\uc774\\uc900'}\n",
      "{u'_id': ObjectId('58b7b152f6f40702d4f55455'), u'name': u'\\uc774\\uc900'}\n",
      "{u'_id': ObjectId('58b7accef6f40702d4f553d8'), u'name': u'\\uc774\\ubcd1\\ud5cc'}\n",
      "{u'_id': ObjectId('58b7b084f6f40702d4f5541b'), u'name': u'\\uc774\\ubcd1\\ud5cc'}\n",
      "{u'_id': ObjectId('58b7b150f6f40702d4f55439'), u'name': u'\\uc774\\ubcd1\\ud5cc'}\n",
      "{u'_id': ObjectId('58b7b152f6f40702d4f55456'), u'name': u'\\uc774\\ubcd1\\ud5cc'}\n",
      "{u'_id': ObjectId('58b7accef6f40702d4f553d2'), u'name': u'\\uc774\\ub3d9\\ud718'}\n",
      "{u'_id': ObjectId('58b7b084f6f40702d4f55415'), u'name': u'\\uc774\\ub3d9\\ud718'}\n",
      "{u'_id': ObjectId('58b7b150f6f40702d4f55433'), u'name': u'\\uc774\\ub3d9\\ud718'}\n",
      "{u'_id': ObjectId('58b7b152f6f40702d4f55450'), u'name': u'\\uc774\\ub3d9\\ud718'}\n",
      "{u'_id': ObjectId('58b7accef6f40702d4f553d0'), u'name': u'\\uc720\\ud574\\uc9c4'}\n",
      "{u'_id': ObjectId('58b7b084f6f40702d4f55413'), u'name': u'\\uc720\\ud574\\uc9c4'}\n",
      "{u'_id': ObjectId('58b7b150f6f40702d4f55431'), u'name': u'\\uc720\\ud574\\uc9c4'}\n",
      "{u'_id': ObjectId('58b7b152f6f40702d4f5544e'), u'name': u'\\uc720\\ud574\\uc9c4'}\n",
      "{u'_id': ObjectId('58b7accef6f40702d4f553e6'), u'name': u'\\uc624\\ub2ec\\uc218'}\n",
      "{u'_id': ObjectId('58b7b084f6f40702d4f55429'), u'name': u'\\uc624\\ub2ec\\uc218'}\n",
      "{u'_id': ObjectId('58b7b150f6f40702d4f55447'), u'name': u'\\uc624\\ub2ec\\uc218'}\n",
      "{u'_id': ObjectId('58b7b152f6f40702d4f55464'), u'name': u'\\uc624\\ub2ec\\uc218'}\n",
      "{u'_id': ObjectId('58b7accef6f40702d4f553e8'), u'name': u'\\uc5c4\\ud0dc\\uad6c'}\n",
      "{u'_id': ObjectId('58b7b084f6f40702d4f5542b'), u'name': u'\\uc5c4\\ud0dc\\uad6c'}\n",
      "{u'_id': ObjectId('58b7b150f6f40702d4f55449'), u'name': u'\\uc5c4\\ud0dc\\uad6c'}\n",
      "{u'_id': ObjectId('58b7b152f6f40702d4f55466'), u'name': u'\\uc5c4\\ud0dc\\uad6c'}\n",
      "{u'_id': ObjectId('58b7accef6f40702d4f553da'), u'name': u'\\uc5c4\\uc9c0\\uc6d0'}\n",
      "{u'_id': ObjectId('58b7b084f6f40702d4f5541d'), u'name': u'\\uc5c4\\uc9c0\\uc6d0'}\n",
      "{u'_id': ObjectId('58b7b150f6f40702d4f5543b'), u'name': u'\\uc5c4\\uc9c0\\uc6d0'}\n",
      "{u'_id': ObjectId('58b7b152f6f40702d4f55458'), u'name': u'\\uc5c4\\uc9c0\\uc6d0'}\n",
      "{u'_id': ObjectId('58b7accef6f40702d4f553de'), u'name': u'\\uc2e0\\uc131\\ub85d'}\n",
      "{u'_id': ObjectId('58b7b084f6f40702d4f55421'), u'name': u'\\uc2e0\\uc131\\ub85d'}\n",
      "{u'_id': ObjectId('58b7b150f6f40702d4f5543f'), u'name': u'\\uc2e0\\uc131\\ub85d'}\n",
      "{u'_id': ObjectId('58b7b152f6f40702d4f5545c'), u'name': u'\\uc2e0\\uc131\\ub85d'}\n",
      "{u'_id': ObjectId('58b7accef6f40702d4f553ea'), u'name': u'\\ubb38\\uc815\\ud76c'}\n",
      "{u'_id': ObjectId('58b7b084f6f40702d4f5542d'), u'name': u'\\ubb38\\uc815\\ud76c'}\n",
      "{u'_id': ObjectId('58b7b150f6f40702d4f5544b'), u'name': u'\\ubb38\\uc815\\ud76c'}\n",
      "{u'_id': ObjectId('58b7b152f6f40702d4f55468'), u'name': u'\\ubb38\\uc815\\ud76c'}\n",
      "{u'_id': ObjectId('58b7accef6f40702d4f553e0'), u'name': u'\\ub3c4\\uacbd\\uc218'}\n",
      "{u'_id': ObjectId('58b7b084f6f40702d4f55423'), u'name': u'\\ub3c4\\uacbd\\uc218'}\n",
      "{u'_id': ObjectId('58b7b150f6f40702d4f55441'), u'name': u'\\ub3c4\\uacbd\\uc218'}\n",
      "{u'_id': ObjectId('58b7b152f6f40702d4f5545e'), u'name': u'\\ub3c4\\uacbd\\uc218'}\n",
      "{u'_id': ObjectId('58b7accef6f40702d4f553dc'), u'name': u'\\uae40\\uc8fc\\ud601'}\n",
      "{u'_id': ObjectId('58b7b084f6f40702d4f5541f'), u'name': u'\\uae40\\uc8fc\\ud601'}\n",
      "{u'_id': ObjectId('58b7b150f6f40702d4f5543d'), u'name': u'\\uae40\\uc8fc\\ud601'}\n",
      "{u'_id': ObjectId('58b7b152f6f40702d4f5545a'), u'name': u'\\uae40\\uc8fc\\ud601'}\n",
      "{u'_id': ObjectId('58b7accef6f40702d4f553e2'), u'name': u'\\uae40\\uc6b0\\ube48'}\n",
      "{u'_id': ObjectId('58b7b084f6f40702d4f55425'), u'name': u'\\uae40\\uc6b0\\ube48'}\n",
      "{u'_id': ObjectId('58b7b150f6f40702d4f55443'), u'name': u'\\uae40\\uc6b0\\ube48'}\n",
      "{u'_id': ObjectId('58b7b152f6f40702d4f55460'), u'name': u'\\uae40\\uc6b0\\ube48'}\n",
      "{u'_id': ObjectId('58b7accef6f40702d4f553eb'), u'name': u'\\uae40\\uc544\\uc911'}\n",
      "{u'_id': ObjectId('58b7b084f6f40702d4f5542e'), u'name': u'\\uae40\\uc544\\uc911'}\n",
      "{u'_id': ObjectId('58b7b150f6f40702d4f5544c'), u'name': u'\\uae40\\uc544\\uc911'}\n",
      "{u'_id': ObjectId('58b7b152f6f40702d4f55469'), u'name': u'\\uae40\\uc544\\uc911'}\n",
      "{u'_id': ObjectId('58b7accef6f40702d4f553e9'), u'name': u'\\uae40\\ub300\\uba85'}\n",
      "{u'_id': ObjectId('58b7b084f6f40702d4f5542c'), u'name': u'\\uae40\\ub300\\uba85'}\n",
      "{u'_id': ObjectId('58b7b150f6f40702d4f5544a'), u'name': u'\\uae40\\ub300\\uba85'}\n",
      "{u'_id': ObjectId('58b7b152f6f40702d4f55467'), u'name': u'\\uae40\\ub300\\uba85'}\n",
      "{u'_id': ObjectId('58b7accef6f40702d4f553e3'), u'name': u'\\uae40\\ub0a8\\uae38'}\n",
      "{u'_id': ObjectId('58b7b084f6f40702d4f55426'), u'name': u'\\uae40\\ub0a8\\uae38'}\n",
      "{u'_id': ObjectId('58b7b150f6f40702d4f55444'), u'name': u'\\uae40\\ub0a8\\uae38'}\n",
      "{u'_id': ObjectId('58b7b152f6f40702d4f55461'), u'name': u'\\uae40\\ub0a8\\uae38'}\n",
      "{u'_id': ObjectId('58b7accef6f40702d4f553d3'), u'name': u'\\uacf5\\uc720'}\n",
      "{u'_id': ObjectId('58b7b084f6f40702d4f55416'), u'name': u'\\uacf5\\uc720'}\n",
      "{u'_id': ObjectId('58b7b150f6f40702d4f55434'), u'name': u'\\uacf5\\uc720'}\n",
      "{u'_id': ObjectId('58b7b152f6f40702d4f55451'), u'name': u'\\uacf5\\uc720'}\n",
      "{u'_id': ObjectId('58b7accef6f40702d4f553db'), u'name': u'\\uac15\\ub3d9\\uc6d0'}\n",
      "{u'_id': ObjectId('58b7b084f6f40702d4f5541e'), u'name': u'\\uac15\\ub3d9\\uc6d0'}\n",
      "{u'_id': ObjectId('58b7b150f6f40702d4f5543c'), u'name': u'\\uac15\\ub3d9\\uc6d0'}\n",
      "{u'_id': ObjectId('58b7b152f6f40702d4f55459'), u'name': u'\\uac15\\ub3d9\\uc6d0'}\n",
      "{u'actor_name': u'\\uc720\\ud574\\uc9c4', u'_id': ObjectId('58b7ad3ef6f40702d4f553ed'), u'datetime': datetime.datetime(2017, 3, 2, 14, 27, 26, 287000)}\n",
      "{u'actor_name': u'\\uc1a1\\uac15\\ud638', u'_id': ObjectId('58b7ad3ff6f40702d4f553ee'), u'datetime': datetime.datetime(2017, 3, 2, 14, 27, 27, 560000)}\n",
      "{u'actor_name': u'\\uc774\\ub3d9\\ud718', u'_id': ObjectId('58b7ad3ff6f40702d4f553ef'), u'datetime': datetime.datetime(2017, 3, 2, 14, 27, 27, 864000)}\n",
      "{u'actor_name': u'\\uacf5\\uc720', u'_id': ObjectId('58b7ad40f6f40702d4f553f0'), u'datetime': datetime.datetime(2017, 3, 2, 14, 27, 28, 479000)}\n",
      "{u'actor_name': u'\\uc870\\uc815\\uc11d', u'_id': ObjectId('58b7ad40f6f40702d4f553f1'), u'datetime': datetime.datetime(2017, 3, 2, 14, 27, 28, 787000)}\n",
      "{u'actor_name': u'\\ud55c\\uc9c0\\ubbfc', u'_id': ObjectId('58b7ad41f6f40702d4f553f2'), u'datetime': datetime.datetime(2017, 3, 2, 14, 27, 29, 94000)}\n",
      "{u'actor_name': u'\\ud604\\ube48', u'_id': ObjectId('58b7ad41f6f40702d4f553f3'), u'datetime': datetime.datetime(2017, 3, 2, 14, 27, 29, 248000)}\n",
      "{u'actor_name': u'\\uc774\\uc900', u'_id': ObjectId('58b7ad41f6f40702d4f553f4'), u'datetime': datetime.datetime(2017, 3, 2, 14, 27, 29, 718000)}\n",
      "{u'actor_name': u'\\uc774\\ubcd1\\ud5cc', u'_id': ObjectId('58b7ad42f6f40702d4f553f5'), u'datetime': datetime.datetime(2017, 3, 2, 14, 27, 30, 17000)}\n",
      "{u'actor_name': u'\\uc815\\uc6b0\\uc131', u'_id': ObjectId('58b7ad42f6f40702d4f553f6'), u'datetime': datetime.datetime(2017, 3, 2, 14, 27, 30, 178000)}\n",
      "{u'actor_name': u'\\uc5c4\\uc9c0\\uc6d0', u'_id': ObjectId('58b7ad42f6f40702d4f553f7'), u'datetime': datetime.datetime(2017, 3, 2, 14, 27, 30, 629000)}\n",
      "{u'actor_name': u'\\uac15\\ub3d9\\uc6d0', u'_id': ObjectId('58b7ad42f6f40702d4f553f8'), u'datetime': datetime.datetime(2017, 3, 2, 14, 27, 30, 937000)}\n",
      "{u'actor_name': u'\\uae40\\uc8fc\\ud601', u'_id': ObjectId('58b7ad43f6f40702d4f553f9'), u'datetime': datetime.datetime(2017, 3, 2, 14, 27, 31, 246000)}\n",
      "{u'actor_name': u'\\uc870\\uc724\\ud76c', u'_id': ObjectId('58b7ad43f6f40702d4f553fa'), u'datetime': datetime.datetime(2017, 3, 2, 14, 27, 31, 554000)}\n",
      "{u'actor_name': u'\\uc2e0\\uc131\\ub85d', u'_id': ObjectId('58b7ad44f6f40702d4f553fb'), u'datetime': datetime.datetime(2017, 3, 2, 14, 27, 32, 41000)}\n",
      "{u'actor_name': u'\\uc7a5\\uc601\\ub0a8', u'_id': ObjectId('58b7ad44f6f40702d4f553fc'), u'datetime': datetime.datetime(2017, 3, 2, 14, 27, 32, 293000)}\n",
      "{u'actor_name': u'\\ub3c4\\uacbd\\uc218', u'_id': ObjectId('58b7ad44f6f40702d4f553fd'), u'datetime': datetime.datetime(2017, 3, 2, 14, 27, 32, 448000)}\n",
      "{u'actor_name': u'\\uc784\\uc9c0\\uc5f0', u'_id': ObjectId('58b7ad44f6f40702d4f553fe'), u'datetime': datetime.datetime(2017, 3, 2, 14, 27, 32, 606000)}\n",
      "{u'actor_name': u'\\uae40\\uc6b0\\ube48', u'_id': ObjectId('58b7ad44f6f40702d4f553ff'), u'datetime': datetime.datetime(2017, 3, 2, 14, 27, 32, 761000)}\n",
      "{u'actor_name': u'\\uae40\\ub0a8\\uae38', u'_id': ObjectId('58b7ad44f6f40702d4f55400'), u'datetime': datetime.datetime(2017, 3, 2, 14, 27, 32, 933000)}\n",
      "{u'actor_name': u'\\uc774\\ud574\\uc601', u'_id': ObjectId('58b7ad45f6f40702d4f55401'), u'datetime': datetime.datetime(2017, 3, 2, 14, 27, 33, 91000)}\n",
      "{u'actor_name': u'\\uc870\\uc778\\uc131', u'_id': ObjectId('58b7ad45f6f40702d4f55402'), u'datetime': datetime.datetime(2017, 3, 2, 14, 27, 33, 474000)}\n",
      "{u'actor_name': u'\\uc624\\ub2ec\\uc218', u'_id': ObjectId('58b7ad45f6f40702d4f55403'), u'datetime': datetime.datetime(2017, 3, 2, 14, 27, 33, 628000)}\n",
      "{u'actor_name': u'\\uc815\\uc9c4\\uc601', u'_id': ObjectId('58b7ad45f6f40702d4f55404'), u'datetime': datetime.datetime(2017, 3, 2, 14, 27, 33, 791000)}\n",
      "{u'actor_name': u'\\uc5c4\\ud0dc\\uad6c', u'_id': ObjectId('58b7ad45f6f40702d4f55405'), u'datetime': datetime.datetime(2017, 3, 2, 14, 27, 33, 955000)}\n",
      "{u'actor_name': u'\\uae40\\ub300\\uba85', u'_id': ObjectId('58b7ad46f6f40702d4f55406'), u'datetime': datetime.datetime(2017, 3, 2, 14, 27, 34, 115000)}\n",
      "{u'actor_name': u'\\ubb38\\uc815\\ud76c', u'_id': ObjectId('58b7ad46f6f40702d4f55407'), u'datetime': datetime.datetime(2017, 3, 2, 14, 27, 34, 278000)}\n",
      "{u'actor_name': u'\\uae40\\uc544\\uc911', u'_id': ObjectId('58b7ad46f6f40702d4f55408'), u'datetime': datetime.datetime(2017, 3, 2, 14, 27, 34, 437000)}\n",
      "{u'actor_name': u'\\uc720\\ud574\\uc9c4', u'_id': ObjectId('58b7ad3ef6f40702d4f553ed'), u'datetime': datetime.datetime(2017, 3, 2, 14, 27, 26, 287000)}\n",
      "{u'actor_name': u'\\uc1a1\\uac15\\ud638', u'_id': ObjectId('58b7ad3ff6f40702d4f553ee'), u'datetime': datetime.datetime(2017, 3, 2, 14, 27, 27, 560000)}\n",
      "{u'actor_name': u'\\uc774\\ub3d9\\ud718', u'_id': ObjectId('58b7ad3ff6f40702d4f553ef'), u'datetime': datetime.datetime(2017, 3, 2, 14, 27, 27, 864000)}\n",
      "{u'actor_name': u'\\uacf5\\uc720', u'_id': ObjectId('58b7ad40f6f40702d4f553f0'), u'datetime': datetime.datetime(2017, 3, 2, 14, 27, 28, 479000)}\n",
      "{u'actor_name': u'\\uc870\\uc815\\uc11d', u'_id': ObjectId('58b7ad40f6f40702d4f553f1'), u'datetime': datetime.datetime(2017, 3, 2, 14, 27, 28, 787000)}\n",
      "{u'actor_name': u'\\ud55c\\uc9c0\\ubbfc', u'_id': ObjectId('58b7ad41f6f40702d4f553f2'), u'datetime': datetime.datetime(2017, 3, 2, 14, 27, 29, 94000)}\n",
      "{u'actor_name': u'\\ud604\\ube48', u'_id': ObjectId('58b7ad41f6f40702d4f553f3'), u'datetime': datetime.datetime(2017, 3, 2, 14, 27, 29, 248000)}\n",
      "{u'actor_name': u'\\uc774\\uc900', u'_id': ObjectId('58b7ad41f6f40702d4f553f4'), u'datetime': datetime.datetime(2017, 3, 2, 14, 27, 29, 718000)}\n",
      "{u'actor_name': u'\\uc774\\ubcd1\\ud5cc', u'_id': ObjectId('58b7ad42f6f40702d4f553f5'), u'datetime': datetime.datetime(2017, 3, 2, 14, 27, 30, 17000)}\n",
      "{u'actor_name': u'\\uc815\\uc6b0\\uc131', u'_id': ObjectId('58b7ad42f6f40702d4f553f6'), u'datetime': datetime.datetime(2017, 3, 2, 14, 27, 30, 178000)}\n",
      "{u'actor_name': u'\\uc5c4\\uc9c0\\uc6d0', u'_id': ObjectId('58b7ad42f6f40702d4f553f7'), u'datetime': datetime.datetime(2017, 3, 2, 14, 27, 30, 629000)}\n",
      "{u'actor_name': u'\\uac15\\ub3d9\\uc6d0', u'_id': ObjectId('58b7ad42f6f40702d4f553f8'), u'datetime': datetime.datetime(2017, 3, 2, 14, 27, 30, 937000)}\n",
      "{u'actor_name': u'\\uae40\\uc8fc\\ud601', u'_id': ObjectId('58b7ad43f6f40702d4f553f9'), u'datetime': datetime.datetime(2017, 3, 2, 14, 27, 31, 246000)}\n",
      "{u'actor_name': u'\\uc870\\uc724\\ud76c', u'_id': ObjectId('58b7ad43f6f40702d4f553fa'), u'datetime': datetime.datetime(2017, 3, 2, 14, 27, 31, 554000)}\n",
      "{u'actor_name': u'\\uc2e0\\uc131\\ub85d', u'_id': ObjectId('58b7ad44f6f40702d4f553fb'), u'datetime': datetime.datetime(2017, 3, 2, 14, 27, 32, 41000)}\n",
      "{u'actor_name': u'\\uc7a5\\uc601\\ub0a8', u'_id': ObjectId('58b7ad44f6f40702d4f553fc'), u'datetime': datetime.datetime(2017, 3, 2, 14, 27, 32, 293000)}\n",
      "{u'actor_name': u'\\ub3c4\\uacbd\\uc218', u'_id': ObjectId('58b7ad44f6f40702d4f553fd'), u'datetime': datetime.datetime(2017, 3, 2, 14, 27, 32, 448000)}\n",
      "{u'actor_name': u'\\uc784\\uc9c0\\uc5f0', u'_id': ObjectId('58b7ad44f6f40702d4f553fe'), u'datetime': datetime.datetime(2017, 3, 2, 14, 27, 32, 606000)}\n",
      "{u'actor_name': u'\\uae40\\uc6b0\\ube48', u'_id': ObjectId('58b7ad44f6f40702d4f553ff'), u'datetime': datetime.datetime(2017, 3, 2, 14, 27, 32, 761000)}\n",
      "{u'actor_name': u'\\uae40\\ub0a8\\uae38', u'_id': ObjectId('58b7ad44f6f40702d4f55400'), u'datetime': datetime.datetime(2017, 3, 2, 14, 27, 32, 933000)}\n",
      "{u'actor_name': u'\\uc774\\ud574\\uc601', u'_id': ObjectId('58b7ad45f6f40702d4f55401'), u'datetime': datetime.datetime(2017, 3, 2, 14, 27, 33, 91000)}\n",
      "{u'actor_name': u'\\uc870\\uc778\\uc131', u'_id': ObjectId('58b7ad45f6f40702d4f55402'), u'datetime': datetime.datetime(2017, 3, 2, 14, 27, 33, 474000)}\n",
      "{u'actor_name': u'\\uc624\\ub2ec\\uc218', u'_id': ObjectId('58b7ad45f6f40702d4f55403'), u'datetime': datetime.datetime(2017, 3, 2, 14, 27, 33, 628000)}\n",
      "{u'actor_name': u'\\uc815\\uc9c4\\uc601', u'_id': ObjectId('58b7ad45f6f40702d4f55404'), u'datetime': datetime.datetime(2017, 3, 2, 14, 27, 33, 791000)}\n",
      "{u'actor_name': u'\\uc5c4\\ud0dc\\uad6c', u'_id': ObjectId('58b7ad45f6f40702d4f55405'), u'datetime': datetime.datetime(2017, 3, 2, 14, 27, 33, 955000)}\n",
      "{u'actor_name': u'\\uae40\\ub300\\uba85', u'_id': ObjectId('58b7ad46f6f40702d4f55406'), u'datetime': datetime.datetime(2017, 3, 2, 14, 27, 34, 115000)}\n",
      "{u'actor_name': u'\\ubb38\\uc815\\ud76c', u'_id': ObjectId('58b7ad46f6f40702d4f55407'), u'datetime': datetime.datetime(2017, 3, 2, 14, 27, 34, 278000)}\n",
      "{u'actor_name': u'\\uae40\\uc544\\uc911', u'_id': ObjectId('58b7ad46f6f40702d4f55408'), u'datetime': datetime.datetime(2017, 3, 2, 14, 27, 34, 437000)}\n",
      "{u'_id': ObjectId('58b7accef6f40702d4f553db'), u'name': u'\\uac15\\ub3d9\\uc6d0'}\n",
      "{u'_id': ObjectId('58b7b084f6f40702d4f5541e'), u'name': u'\\uac15\\ub3d9\\uc6d0'}\n",
      "{u'_id': ObjectId('58b7b150f6f40702d4f5543c'), u'name': u'\\uac15\\ub3d9\\uc6d0'}\n",
      "{u'_id': ObjectId('58b7b152f6f40702d4f55459'), u'name': u'\\uac15\\ub3d9\\uc6d0'}\n",
      "{u'_id': ObjectId('58b7accef6f40702d4f553d3'), u'name': u'\\uacf5\\uc720'}\n",
      "{u'_id': ObjectId('58b7b084f6f40702d4f55416'), u'name': u'\\uacf5\\uc720'}\n",
      "{u'_id': ObjectId('58b7b150f6f40702d4f55434'), u'name': u'\\uacf5\\uc720'}\n",
      "{u'_id': ObjectId('58b7b152f6f40702d4f55451'), u'name': u'\\uacf5\\uc720'}\n",
      "{u'_id': ObjectId('58b7accef6f40702d4f553e3'), u'name': u'\\uae40\\ub0a8\\uae38'}\n",
      "{u'_id': ObjectId('58b7b084f6f40702d4f55426'), u'name': u'\\uae40\\ub0a8\\uae38'}\n",
      "{u'_id': ObjectId('58b7b150f6f40702d4f55444'), u'name': u'\\uae40\\ub0a8\\uae38'}\n",
      "{u'_id': ObjectId('58b7b152f6f40702d4f55461'), u'name': u'\\uae40\\ub0a8\\uae38'}\n",
      "{u'_id': ObjectId('58b7accef6f40702d4f553e9'), u'name': u'\\uae40\\ub300\\uba85'}\n",
      "{u'_id': ObjectId('58b7b084f6f40702d4f5542c'), u'name': u'\\uae40\\ub300\\uba85'}\n",
      "{u'_id': ObjectId('58b7b150f6f40702d4f5544a'), u'name': u'\\uae40\\ub300\\uba85'}\n",
      "{u'_id': ObjectId('58b7b152f6f40702d4f55467'), u'name': u'\\uae40\\ub300\\uba85'}\n",
      "{u'_id': ObjectId('58b7accef6f40702d4f553eb'), u'name': u'\\uae40\\uc544\\uc911'}\n",
      "{u'_id': ObjectId('58b7b084f6f40702d4f5542e'), u'name': u'\\uae40\\uc544\\uc911'}\n",
      "{u'_id': ObjectId('58b7b150f6f40702d4f5544c'), u'name': u'\\uae40\\uc544\\uc911'}\n",
      "{u'_id': ObjectId('58b7b152f6f40702d4f55469'), u'name': u'\\uae40\\uc544\\uc911'}\n",
      "{u'_id': ObjectId('58b7accef6f40702d4f553e2'), u'name': u'\\uae40\\uc6b0\\ube48'}\n",
      "{u'_id': ObjectId('58b7b084f6f40702d4f55425'), u'name': u'\\uae40\\uc6b0\\ube48'}\n",
      "{u'_id': ObjectId('58b7b150f6f40702d4f55443'), u'name': u'\\uae40\\uc6b0\\ube48'}\n",
      "{u'_id': ObjectId('58b7b152f6f40702d4f55460'), u'name': u'\\uae40\\uc6b0\\ube48'}\n",
      "{u'_id': ObjectId('58b7accef6f40702d4f553dc'), u'name': u'\\uae40\\uc8fc\\ud601'}\n",
      "{u'_id': ObjectId('58b7b084f6f40702d4f5541f'), u'name': u'\\uae40\\uc8fc\\ud601'}\n",
      "{u'_id': ObjectId('58b7b150f6f40702d4f5543d'), u'name': u'\\uae40\\uc8fc\\ud601'}\n",
      "{u'_id': ObjectId('58b7b152f6f40702d4f5545a'), u'name': u'\\uae40\\uc8fc\\ud601'}\n",
      "{u'_id': ObjectId('58b7accef6f40702d4f553e0'), u'name': u'\\ub3c4\\uacbd\\uc218'}\n",
      "{u'_id': ObjectId('58b7b084f6f40702d4f55423'), u'name': u'\\ub3c4\\uacbd\\uc218'}\n",
      "{u'_id': ObjectId('58b7b150f6f40702d4f55441'), u'name': u'\\ub3c4\\uacbd\\uc218'}\n",
      "{u'_id': ObjectId('58b7b152f6f40702d4f5545e'), u'name': u'\\ub3c4\\uacbd\\uc218'}\n",
      "{u'_id': ObjectId('58b7accef6f40702d4f553ea'), u'name': u'\\ubb38\\uc815\\ud76c'}\n",
      "{u'_id': ObjectId('58b7b084f6f40702d4f5542d'), u'name': u'\\ubb38\\uc815\\ud76c'}\n",
      "{u'_id': ObjectId('58b7b150f6f40702d4f5544b'), u'name': u'\\ubb38\\uc815\\ud76c'}\n",
      "{u'_id': ObjectId('58b7b152f6f40702d4f55468'), u'name': u'\\ubb38\\uc815\\ud76c'}\n",
      "{u'_id': ObjectId('58b7accef6f40702d4f553de'), u'name': u'\\uc2e0\\uc131\\ub85d'}\n",
      "{u'_id': ObjectId('58b7b084f6f40702d4f55421'), u'name': u'\\uc2e0\\uc131\\ub85d'}\n",
      "{u'_id': ObjectId('58b7b150f6f40702d4f5543f'), u'name': u'\\uc2e0\\uc131\\ub85d'}\n",
      "{u'_id': ObjectId('58b7b152f6f40702d4f5545c'), u'name': u'\\uc2e0\\uc131\\ub85d'}\n",
      "{u'_id': ObjectId('58b7accef6f40702d4f553da'), u'name': u'\\uc5c4\\uc9c0\\uc6d0'}\n",
      "{u'_id': ObjectId('58b7b084f6f40702d4f5541d'), u'name': u'\\uc5c4\\uc9c0\\uc6d0'}\n",
      "{u'_id': ObjectId('58b7b150f6f40702d4f5543b'), u'name': u'\\uc5c4\\uc9c0\\uc6d0'}\n",
      "{u'_id': ObjectId('58b7b152f6f40702d4f55458'), u'name': u'\\uc5c4\\uc9c0\\uc6d0'}\n",
      "{u'_id': ObjectId('58b7accef6f40702d4f553e8'), u'name': u'\\uc5c4\\ud0dc\\uad6c'}\n",
      "{u'_id': ObjectId('58b7b084f6f40702d4f5542b'), u'name': u'\\uc5c4\\ud0dc\\uad6c'}\n",
      "{u'_id': ObjectId('58b7b150f6f40702d4f55449'), u'name': u'\\uc5c4\\ud0dc\\uad6c'}\n",
      "{u'_id': ObjectId('58b7b152f6f40702d4f55466'), u'name': u'\\uc5c4\\ud0dc\\uad6c'}\n",
      "{u'_id': ObjectId('58b7accef6f40702d4f553e6'), u'name': u'\\uc624\\ub2ec\\uc218'}\n",
      "{u'_id': ObjectId('58b7b084f6f40702d4f55429'), u'name': u'\\uc624\\ub2ec\\uc218'}\n",
      "{u'_id': ObjectId('58b7b150f6f40702d4f55447'), u'name': u'\\uc624\\ub2ec\\uc218'}\n",
      "{u'_id': ObjectId('58b7b152f6f40702d4f55464'), u'name': u'\\uc624\\ub2ec\\uc218'}\n",
      "{u'_id': ObjectId('58b7accef6f40702d4f553d0'), u'name': u'\\uc720\\ud574\\uc9c4'}\n",
      "{u'_id': ObjectId('58b7b084f6f40702d4f55413'), u'name': u'\\uc720\\ud574\\uc9c4'}\n",
      "{u'_id': ObjectId('58b7b150f6f40702d4f55431'), u'name': u'\\uc720\\ud574\\uc9c4'}\n",
      "{u'_id': ObjectId('58b7b152f6f40702d4f5544e'), u'name': u'\\uc720\\ud574\\uc9c4'}\n",
      "{u'_id': ObjectId('58b7accef6f40702d4f553d2'), u'name': u'\\uc774\\ub3d9\\ud718'}\n",
      "{u'_id': ObjectId('58b7b084f6f40702d4f55415'), u'name': u'\\uc774\\ub3d9\\ud718'}\n",
      "{u'_id': ObjectId('58b7b150f6f40702d4f55433'), u'name': u'\\uc774\\ub3d9\\ud718'}\n",
      "{u'_id': ObjectId('58b7b152f6f40702d4f55450'), u'name': u'\\uc774\\ub3d9\\ud718'}\n",
      "{u'_id': ObjectId('58b7accef6f40702d4f553d8'), u'name': u'\\uc774\\ubcd1\\ud5cc'}\n",
      "{u'_id': ObjectId('58b7b084f6f40702d4f5541b'), u'name': u'\\uc774\\ubcd1\\ud5cc'}\n",
      "{u'_id': ObjectId('58b7b150f6f40702d4f55439'), u'name': u'\\uc774\\ubcd1\\ud5cc'}\n",
      "{u'_id': ObjectId('58b7b152f6f40702d4f55456'), u'name': u'\\uc774\\ubcd1\\ud5cc'}\n",
      "{u'_id': ObjectId('58b7accef6f40702d4f553d7'), u'name': u'\\uc774\\uc900'}\n",
      "{u'_id': ObjectId('58b7b084f6f40702d4f5541a'), u'name': u'\\uc774\\uc900'}\n",
      "{u'_id': ObjectId('58b7b150f6f40702d4f55438'), u'name': u'\\uc774\\uc900'}\n",
      "{u'_id': ObjectId('58b7b152f6f40702d4f55455'), u'name': u'\\uc774\\uc900'}\n",
      "{u'_id': ObjectId('58b7accef6f40702d4f553e4'), u'name': u'\\uc774\\ud574\\uc601'}\n",
      "{u'_id': ObjectId('58b7b084f6f40702d4f55427'), u'name': u'\\uc774\\ud574\\uc601'}\n",
      "{u'_id': ObjectId('58b7b150f6f40702d4f55445'), u'name': u'\\uc774\\ud574\\uc601'}\n",
      "{u'_id': ObjectId('58b7b152f6f40702d4f55462'), u'name': u'\\uc774\\ud574\\uc601'}\n",
      "{u'_id': ObjectId('58b7accef6f40702d4f553e1'), u'name': u'\\uc784\\uc9c0\\uc5f0'}\n",
      "{u'_id': ObjectId('58b7b084f6f40702d4f55424'), u'name': u'\\uc784\\uc9c0\\uc5f0'}\n",
      "{u'_id': ObjectId('58b7b150f6f40702d4f55442'), u'name': u'\\uc784\\uc9c0\\uc5f0'}\n",
      "{u'_id': ObjectId('58b7b152f6f40702d4f5545f'), u'name': u'\\uc784\\uc9c0\\uc5f0'}\n",
      "{u'_id': ObjectId('58b7accef6f40702d4f553df'), u'name': u'\\uc7a5\\uc601\\ub0a8'}\n",
      "{u'_id': ObjectId('58b7b084f6f40702d4f55422'), u'name': u'\\uc7a5\\uc601\\ub0a8'}\n",
      "{u'_id': ObjectId('58b7b150f6f40702d4f55440'), u'name': u'\\uc7a5\\uc601\\ub0a8'}\n",
      "{u'_id': ObjectId('58b7b152f6f40702d4f5545d'), u'name': u'\\uc7a5\\uc601\\ub0a8'}\n",
      "{u'_id': ObjectId('58b7accef6f40702d4f553d9'), u'name': u'\\uc815\\uc6b0\\uc131'}\n",
      "{u'_id': ObjectId('58b7b084f6f40702d4f5541c'), u'name': u'\\uc815\\uc6b0\\uc131'}\n",
      "{u'_id': ObjectId('58b7b150f6f40702d4f5543a'), u'name': u'\\uc815\\uc6b0\\uc131'}\n",
      "{u'_id': ObjectId('58b7b152f6f40702d4f55457'), u'name': u'\\uc815\\uc6b0\\uc131'}\n",
      "{u'_id': ObjectId('58b7accef6f40702d4f553e7'), u'name': u'\\uc815\\uc9c4\\uc601'}\n",
      "{u'_id': ObjectId('58b7b084f6f40702d4f5542a'), u'name': u'\\uc815\\uc9c4\\uc601'}\n",
      "{u'_id': ObjectId('58b7b150f6f40702d4f55448'), u'name': u'\\uc815\\uc9c4\\uc601'}\n",
      "{u'_id': ObjectId('58b7b152f6f40702d4f55465'), u'name': u'\\uc815\\uc9c4\\uc601'}\n",
      "{u'_id': ObjectId('58b7accef6f40702d4f553dd'), u'name': u'\\uc870\\uc724\\ud76c'}\n",
      "{u'_id': ObjectId('58b7b084f6f40702d4f55420'), u'name': u'\\uc870\\uc724\\ud76c'}\n",
      "{u'_id': ObjectId('58b7b150f6f40702d4f5543e'), u'name': u'\\uc870\\uc724\\ud76c'}\n",
      "{u'_id': ObjectId('58b7b152f6f40702d4f5545b'), u'name': u'\\uc870\\uc724\\ud76c'}\n",
      "{u'_id': ObjectId('58b7accef6f40702d4f553e5'), u'name': u'\\uc870\\uc778\\uc131'}\n",
      "{u'_id': ObjectId('58b7b084f6f40702d4f55428'), u'name': u'\\uc870\\uc778\\uc131'}\n",
      "{u'_id': ObjectId('58b7b150f6f40702d4f55446'), u'name': u'\\uc870\\uc778\\uc131'}\n",
      "{u'_id': ObjectId('58b7b152f6f40702d4f55463'), u'name': u'\\uc870\\uc778\\uc131'}\n",
      "{u'_id': ObjectId('58b7accef6f40702d4f553d4'), u'name': u'\\uc870\\uc815\\uc11d'}\n",
      "{u'_id': ObjectId('58b7b084f6f40702d4f55417'), u'name': u'\\uc870\\uc815\\uc11d'}\n",
      "{u'_id': ObjectId('58b7b150f6f40702d4f55435'), u'name': u'\\uc870\\uc815\\uc11d'}\n",
      "{u'_id': ObjectId('58b7b152f6f40702d4f55452'), u'name': u'\\uc870\\uc815\\uc11d'}\n",
      "{u'_id': ObjectId('58b7accef6f40702d4f553d5'), u'name': u'\\ud55c\\uc9c0\\ubbfc'}\n",
      "{u'_id': ObjectId('58b7b084f6f40702d4f55418'), u'name': u'\\ud55c\\uc9c0\\ubbfc'}\n",
      "{u'_id': ObjectId('58b7b150f6f40702d4f55436'), u'name': u'\\ud55c\\uc9c0\\ubbfc'}\n",
      "{u'_id': ObjectId('58b7b152f6f40702d4f55453'), u'name': u'\\ud55c\\uc9c0\\ubbfc'}\n",
      "{u'_id': ObjectId('58b7accef6f40702d4f553d6'), u'name': u'\\ud604\\ube48'}\n",
      "{u'_id': ObjectId('58b7b084f6f40702d4f55419'), u'name': u'\\ud604\\ube48'}\n",
      "{u'_id': ObjectId('58b7b150f6f40702d4f55437'), u'name': u'\\ud604\\ube48'}\n",
      "{u'_id': ObjectId('58b7b152f6f40702d4f55454'), u'name': u'\\ud604\\ube48'}\n"
     ]
    }
   ],
   "source": [
    "import pymongo\n",
    "\n",
    "# 기본적으로 오름차순\n",
    "result = actor.find().sort('name')\n",
    "for record in result:\n",
    "    print record\n",
    "    \n",
    "result = actor.find().sort('name', pymongo.ASCENDING)\n",
    "for record in result:\n",
    "    print record\n",
    "\n",
    "# 내림차순 명시\n",
    "result = actor.find().sort('name', pymongo.DESCENDING)\n",
    "for record in result:\n",
    "    print record\n",
    "    \n",
    "\n",
    "# sort by multiple fields\n",
    "result = actor.find().sort([('name', pymongo.ASCENDING),\n",
    "                            ('ags', pymongo.DESCENDING)])\n",
    "\n",
    "for record in result:\n",
    "    print record"
   ]
  },
  {
   "cell_type": "markdown",
   "metadata": {},
   "source": [
    "* 필드값이 존재하는 경우 검색"
   ]
  },
  {
   "cell_type": "code",
   "execution_count": 49,
   "metadata": {
    "collapsed": true
   },
   "outputs": [
    {
     "name": "stdout",
     "output_type": "stream",
     "text": [
      "{u'_id': ObjectId('58b7bd7ff6f40702d4f55476'), u'name': u'hmm'}\n",
      "{u'_id': ObjectId('58b7bdeaf6f40702d4f5547d'), u'name': u'hmm'}\n",
      "\n",
      "{u'age': 20, u'_id': ObjectId('58b7bd7ff6f40702d4f55470'), u'name': u'aaron'}\n",
      "{u'age': 30, u'_id': ObjectId('58b7bd7ff6f40702d4f55471'), u'name': u'bob'}\n",
      "{u'age': 25, u'_id': ObjectId('58b7bd7ff6f40702d4f55472'), u'name': u'cathy'}\n",
      "{u'age': 27, u'_id': ObjectId('58b7bd7ff6f40702d4f55473'), u'name': u'david'}\n",
      "{u'age': 28, u'_id': ObjectId('58b7bd7ff6f40702d4f55474'), u'name': u'erick'}\n",
      "{u'age': 32, u'_id': ObjectId('58b7bd7ff6f40702d4f55475'), u'name': u'fox'}\n",
      "{u'age': 20, u'_id': ObjectId('58b7bdeaf6f40702d4f55477'), u'name': u'aaron'}\n",
      "{u'age': 30, u'_id': ObjectId('58b7bdeaf6f40702d4f55478'), u'name': u'bob'}\n",
      "{u'age': 25, u'_id': ObjectId('58b7bdeaf6f40702d4f55479'), u'name': u'cathy'}\n",
      "{u'age': 27, u'_id': ObjectId('58b7bdeaf6f40702d4f5547a'), u'name': u'david'}\n",
      "{u'age': 28, u'_id': ObjectId('58b7bdeaf6f40702d4f5547b'), u'name': u'erick'}\n",
      "{u'age': 32, u'_id': ObjectId('58b7bdeaf6f40702d4f5547c'), u'name': u'fox'}\n"
     ]
    }
   ],
   "source": [
    "for doc in tmp.find({'age' : {'$exists' : False}}):\n",
    "    print doc\n",
    "\n",
    "print \n",
    "for doc in tmp.find({'age' : {'$exists' : True}}):\n",
    "    print doc"
   ]
  },
  {
   "cell_type": "markdown",
   "metadata": {},
   "source": [
    "* 필드의 범위로 검색"
   ]
  },
  {
   "cell_type": "markdown",
   "metadata": {},
   "source": [
    "* gt, gte\n",
    " - gt : 크다, gte : 크거나 같다\n",
    "\n",
    "\n",
    "* lt, lte\n",
    " - lt : 작다, lte : 작거나 같다"
   ]
  },
  {
   "cell_type": "code",
   "execution_count": 54,
   "metadata": {
    "collapsed": true
   },
   "outputs": [
    {
     "name": "stdout",
     "output_type": "stream",
     "text": [
      "{u'age': 30, u'_id': ObjectId('58b7bd7ff6f40702d4f55471'), u'name': u'bob'}\n",
      "{u'age': 27, u'_id': ObjectId('58b7bd7ff6f40702d4f55473'), u'name': u'david'}\n",
      "{u'age': 28, u'_id': ObjectId('58b7bd7ff6f40702d4f55474'), u'name': u'erick'}\n",
      "{u'age': 32, u'_id': ObjectId('58b7bd7ff6f40702d4f55475'), u'name': u'fox'}\n",
      "{u'age': 30, u'_id': ObjectId('58b7bdeaf6f40702d4f55478'), u'name': u'bob'}\n",
      "{u'age': 27, u'_id': ObjectId('58b7bdeaf6f40702d4f5547a'), u'name': u'david'}\n",
      "{u'age': 28, u'_id': ObjectId('58b7bdeaf6f40702d4f5547b'), u'name': u'erick'}\n",
      "{u'age': 32, u'_id': ObjectId('58b7bdeaf6f40702d4f5547c'), u'name': u'fox'}\n"
     ]
    }
   ],
   "source": [
    "for doc in tmp.find({'age' : {'$gte' : 27}}):\n",
    "    print doc"
   ]
  },
  {
   "cell_type": "code",
   "execution_count": 56,
   "metadata": {
    "collapsed": true
   },
   "outputs": [
    {
     "name": "stdout",
     "output_type": "stream",
     "text": [
      "{u'age': 30, u'_id': ObjectId('58b7bd7ff6f40702d4f55471'), u'name': u'bob'}\n",
      "{u'age': 27, u'_id': ObjectId('58b7bd7ff6f40702d4f55473'), u'name': u'david'}\n",
      "{u'age': 28, u'_id': ObjectId('58b7bd7ff6f40702d4f55474'), u'name': u'erick'}\n",
      "{u'age': 32, u'_id': ObjectId('58b7bd7ff6f40702d4f55475'), u'name': u'fox'}\n",
      "{u'age': 30, u'_id': ObjectId('58b7bdeaf6f40702d4f55478'), u'name': u'bob'}\n",
      "{u'age': 27, u'_id': ObjectId('58b7bdeaf6f40702d4f5547a'), u'name': u'david'}\n",
      "{u'age': 28, u'_id': ObjectId('58b7bdeaf6f40702d4f5547b'), u'name': u'erick'}\n",
      "{u'age': 32, u'_id': ObjectId('58b7bdeaf6f40702d4f5547c'), u'name': u'fox'}\n"
     ]
    }
   ],
   "source": [
    "for doc in tmp.find({'age' : {'$gte' : 27}}):\n",
    "    print doc"
   ]
  },
  {
   "cell_type": "markdown",
   "metadata": {},
   "source": [
    "* or, nor"
   ]
  },
  {
   "cell_type": "code",
   "execution_count": 66,
   "metadata": {
    "collapsed": false
   },
   "outputs": [
    {
     "name": "stdout",
     "output_type": "stream",
     "text": [
      "{u'age': 30, u'_id': ObjectId('58b7bd7ff6f40702d4f55471'), u'name': u'bob'}\n",
      "{u'age': 27, u'_id': ObjectId('58b7bd7ff6f40702d4f55473'), u'name': u'david'}\n",
      "{u'age': 30, u'_id': ObjectId('58b7bdeaf6f40702d4f55478'), u'name': u'bob'}\n",
      "{u'age': 27, u'_id': ObjectId('58b7bdeaf6f40702d4f5547a'), u'name': u'david'}\n"
     ]
    }
   ],
   "source": [
    "for doc in tmp.find({'$or' : [{'age' : 27}, {'age' : 30}]}):\n",
    "    print doc"
   ]
  },
  {
   "cell_type": "code",
   "execution_count": 65,
   "metadata": {
    "collapsed": false
   },
   "outputs": [
    {
     "name": "stdout",
     "output_type": "stream",
     "text": [
      "{u'age': 20, u'_id': ObjectId('58b7bd7ff6f40702d4f55470'), u'name': u'aaron'}\n",
      "{u'age': 20, u'_id': ObjectId('58b7bdeaf6f40702d4f55477'), u'name': u'aaron'}\n"
     ]
    }
   ],
   "source": [
    "# name이 aaron이고, age가 20이거나 30인 doc\n",
    "for doc in tmp.find({'name' : 'aaron', '$or' : [{'age' : 20}, {'age' : 30}]}):\n",
    "    print doc"
   ]
  },
  {
   "cell_type": "code",
   "execution_count": 61,
   "metadata": {
    "collapsed": false
   },
   "outputs": [
    {
     "name": "stdout",
     "output_type": "stream",
     "text": [
      "{u'age': 20, u'_id': ObjectId('58b7bd7ff6f40702d4f55470'), u'name': u'aaron'}\n",
      "{u'age': 30, u'_id': ObjectId('58b7bd7ff6f40702d4f55471'), u'name': u'bob'}\n",
      "{u'age': 25, u'_id': ObjectId('58b7bd7ff6f40702d4f55472'), u'name': u'cathy'}\n",
      "{u'age': 32, u'_id': ObjectId('58b7bd7ff6f40702d4f55475'), u'name': u'fox'}\n",
      "{u'age': 20, u'_id': ObjectId('58b7bdeaf6f40702d4f55477'), u'name': u'aaron'}\n",
      "{u'age': 30, u'_id': ObjectId('58b7bdeaf6f40702d4f55478'), u'name': u'bob'}\n",
      "{u'age': 25, u'_id': ObjectId('58b7bdeaf6f40702d4f55479'), u'name': u'cathy'}\n",
      "{u'age': 32, u'_id': ObjectId('58b7bdeaf6f40702d4f5547c'), u'name': u'fox'}\n"
     ]
    }
   ],
   "source": [
    "for doc in tmp.find({'$or' : [{'age' : {'$gte' : 29}}, {'age' : {'$lte' : 25}}]}):\n",
    "    print doc"
   ]
  },
  {
   "cell_type": "code",
   "execution_count": 68,
   "metadata": {
    "collapsed": false
   },
   "outputs": [
    {
     "name": "stdout",
     "output_type": "stream",
     "text": [
      "{u'age': 30, u'_id': ObjectId('58b7bd7ff6f40702d4f55471'), u'name': u'bob'}\n",
      "{u'age': 25, u'_id': ObjectId('58b7bd7ff6f40702d4f55472'), u'name': u'cathy'}\n",
      "{u'age': 32, u'_id': ObjectId('58b7bd7ff6f40702d4f55475'), u'name': u'fox'}\n",
      "{u'age': 30, u'_id': ObjectId('58b7bdeaf6f40702d4f55478'), u'name': u'bob'}\n",
      "{u'age': 25, u'_id': ObjectId('58b7bdeaf6f40702d4f55479'), u'name': u'cathy'}\n",
      "{u'age': 32, u'_id': ObjectId('58b7bdeaf6f40702d4f5547c'), u'name': u'fox'}\n"
     ]
    }
   ],
   "source": [
    "# age가 29 이상이거나 25인 doc\n",
    "for doc in tmp.find({'$or' : [{'age' : {'$gte' : 29}}, {'age' : 25}]}):\n",
    "    print doc"
   ]
  },
  {
   "cell_type": "markdown",
   "metadata": {},
   "source": [
    "* nor\n",
    " - not or"
   ]
  },
  {
   "cell_type": "code",
   "execution_count": 67,
   "metadata": {
    "collapsed": false
   },
   "outputs": [
    {
     "name": "stdout",
     "output_type": "stream",
     "text": [
      "{u'age': 20, u'_id': ObjectId('58b7bd7ff6f40702d4f55470'), u'name': u'aaron'}\n",
      "{u'age': 27, u'_id': ObjectId('58b7bd7ff6f40702d4f55473'), u'name': u'david'}\n",
      "{u'age': 28, u'_id': ObjectId('58b7bd7ff6f40702d4f55474'), u'name': u'erick'}\n",
      "{u'_id': ObjectId('58b7bd7ff6f40702d4f55476'), u'name': u'hmm'}\n",
      "{u'age': 20, u'_id': ObjectId('58b7bdeaf6f40702d4f55477'), u'name': u'aaron'}\n",
      "{u'age': 27, u'_id': ObjectId('58b7bdeaf6f40702d4f5547a'), u'name': u'david'}\n",
      "{u'age': 28, u'_id': ObjectId('58b7bdeaf6f40702d4f5547b'), u'name': u'erick'}\n",
      "{u'_id': ObjectId('58b7bdeaf6f40702d4f5547d'), u'name': u'hmm'}\n"
     ]
    }
   ],
   "source": [
    "for doc in tmp.find({'$nor' : [{'age' : {'$gte' : 29}}, {'age' : 25}]}):\n",
    "    print doc"
   ]
  },
  {
   "cell_type": "raw",
   "metadata": {},
   "source": []
  },
  {
   "cell_type": "markdown",
   "metadata": {},
   "source": [
    "* in, nin"
   ]
  },
  {
   "cell_type": "code",
   "execution_count": 71,
   "metadata": {
    "collapsed": false
   },
   "outputs": [
    {
     "name": "stdout",
     "output_type": "stream",
     "text": [
      "{u'age': 20, u'_id': ObjectId('58b7bd7ff6f40702d4f55470'), u'name': u'aaron'}\n",
      "{u'age': 25, u'_id': ObjectId('58b7bd7ff6f40702d4f55472'), u'name': u'cathy'}\n",
      "{u'age': 27, u'_id': ObjectId('58b7bd7ff6f40702d4f55473'), u'name': u'david'}\n",
      "{u'age': 20, u'_id': ObjectId('58b7bdeaf6f40702d4f55477'), u'name': u'aaron'}\n",
      "{u'age': 25, u'_id': ObjectId('58b7bdeaf6f40702d4f55479'), u'name': u'cathy'}\n",
      "{u'age': 27, u'_id': ObjectId('58b7bdeaf6f40702d4f5547a'), u'name': u'david'}\n"
     ]
    }
   ],
   "source": [
    "# age가 해당 리스트안에 존재하는 원소와 일치할 떄\n",
    "for doc in tmp.find({'age' : {'$in' : [20, 21, 25, 27]}}):\n",
    "    print doc"
   ]
  },
  {
   "cell_type": "code",
   "execution_count": 73,
   "metadata": {
    "collapsed": false
   },
   "outputs": [
    {
     "name": "stdout",
     "output_type": "stream",
     "text": [
      "{u'age': 30, u'_id': ObjectId('58b7bd7ff6f40702d4f55471'), u'name': u'bob'}\n",
      "{u'age': 28, u'_id': ObjectId('58b7bd7ff6f40702d4f55474'), u'name': u'erick'}\n",
      "{u'age': 32, u'_id': ObjectId('58b7bd7ff6f40702d4f55475'), u'name': u'fox'}\n",
      "{u'_id': ObjectId('58b7bd7ff6f40702d4f55476'), u'name': u'hmm'}\n",
      "{u'age': 30, u'_id': ObjectId('58b7bdeaf6f40702d4f55478'), u'name': u'bob'}\n",
      "{u'age': 28, u'_id': ObjectId('58b7bdeaf6f40702d4f5547b'), u'name': u'erick'}\n",
      "{u'age': 32, u'_id': ObjectId('58b7bdeaf6f40702d4f5547c'), u'name': u'fox'}\n",
      "{u'_id': ObjectId('58b7bdeaf6f40702d4f5547d'), u'name': u'hmm'}\n"
     ]
    }
   ],
   "source": [
    "# nin : not in\n",
    "for doc in tmp.find({'age' : {'$nin' : [20, 21, 25, 27]}}):\n",
    "    print doc"
   ]
  },
  {
   "cell_type": "markdown",
   "metadata": {},
   "source": [
    "* skip, limit\n",
    " - skip(n) : 검색 결과 n개만큼 건너뜀\n",
    " - limit(n) : 검색 결과 n개로 제한"
   ]
  },
  {
   "cell_type": "code",
   "execution_count": 76,
   "metadata": {
    "collapsed": false
   },
   "outputs": [
    {
     "name": "stdout",
     "output_type": "stream",
     "text": [
      "{u'_id': ObjectId('58b7bd7ff6f40702d4f55476'), u'name': u'hmm'}\n",
      "{u'age': 30, u'_id': ObjectId('58b7bdeaf6f40702d4f55478'), u'name': u'bob'}\n",
      "{u'age': 28, u'_id': ObjectId('58b7bdeaf6f40702d4f5547b'), u'name': u'erick'}\n",
      "{u'age': 32, u'_id': ObjectId('58b7bdeaf6f40702d4f5547c'), u'name': u'fox'}\n",
      "{u'_id': ObjectId('58b7bdeaf6f40702d4f5547d'), u'name': u'hmm'}\n"
     ]
    }
   ],
   "source": [
    "for doc in tmp.find({'age' : {'$nin' : [20, 21, 25, 27]}}).skip(3):\n",
    "    print doc"
   ]
  },
  {
   "cell_type": "code",
   "execution_count": 77,
   "metadata": {
    "collapsed": false
   },
   "outputs": [
    {
     "name": "stdout",
     "output_type": "stream",
     "text": [
      "{u'age': 30, u'_id': ObjectId('58b7bd7ff6f40702d4f55471'), u'name': u'bob'}\n",
      "{u'age': 28, u'_id': ObjectId('58b7bd7ff6f40702d4f55474'), u'name': u'erick'}\n",
      "{u'age': 32, u'_id': ObjectId('58b7bd7ff6f40702d4f55475'), u'name': u'fox'}\n"
     ]
    }
   ],
   "source": [
    "for doc in tmp.find({'age' : {'$nin' : [20, 21, 25, 27]}}).limit(3):\n",
    "    print doc"
   ]
  },
  {
   "cell_type": "code",
   "execution_count": 79,
   "metadata": {
    "collapsed": false
   },
   "outputs": [
    {
     "name": "stdout",
     "output_type": "stream",
     "text": [
      "{u'age': 28, u'_id': ObjectId('58b7bd7ff6f40702d4f55474'), u'name': u'erick'}\n",
      "{u'age': 32, u'_id': ObjectId('58b7bd7ff6f40702d4f55475'), u'name': u'fox'}\n",
      "{u'_id': ObjectId('58b7bd7ff6f40702d4f55476'), u'name': u'hmm'}\n"
     ]
    }
   ],
   "source": [
    "# skip limit 동시 사용 가능\n",
    "for doc in tmp.find({'age' : {'$nin' : [20, 21, 25, 27]}}).skip(1).limit(3):\n",
    "    print doc"
   ]
  },
  {
   "cell_type": "markdown",
   "metadata": {},
   "source": [
    "* list, embedded document 검색"
   ]
  },
  {
   "cell_type": "markdown",
   "metadata": {},
   "source": [
    "* embedded document 검색\n",
    " - document depth를 .연산자를 통하여 접근 가능"
   ]
  },
  {
   "cell_type": "code",
   "execution_count": 91,
   "metadata": {
    "collapsed": false
   },
   "outputs": [
    {
     "name": "stdout",
     "output_type": "stream",
     "text": [
      "{u'title': u'\\uc2e4\\ubbf8\\ub3c4', u'castings': [u'\\uc124\\uacbd\\uad6c', u'\\uc548\\uc131\\uae30'], u'_id': ObjectId('58b7b86cf6f40702d4f5546c'), u'datetime': {u'year': u'2003', u'month': 3}}\n",
      "{u'title': u'\\uc2e4\\ubbf8\\ub3c4', u'castings': [u'\\uc124\\uacbd\\uad6c', u'\\uc548\\uc131\\uae30'], u'_id': ObjectId('58b7b8e6f6f40702d4f5546f'), u'datetime': {u'year': u'2003', u'month': 3}}\n",
      "{u'title': u'\\uc2e4\\ubbf8\\ub3c4', u'castings': [u'\\uc124\\uacbd\\uad6c', u'\\uc548\\uc131\\uae30'], u'_id': ObjectId('58b7c74ff6f40702d4f55480'), u'datetime': {u'year': u'2003', u'month': 3}}\n"
     ]
    }
   ],
   "source": [
    "# query for embedded doc\n",
    "for doc in movie.find({'datetime.year' : '2003'}):\n",
    "    print doc"
   ]
  },
  {
   "cell_type": "markdown",
   "metadata": {},
   "source": [
    "* list 검색"
   ]
  },
  {
   "cell_type": "code",
   "execution_count": 93,
   "metadata": {
    "collapsed": false
   },
   "outputs": [
    {
     "name": "stdout",
     "output_type": "stream",
     "text": [
      "암살\n",
      "암살\n",
      "암살\n"
     ]
    }
   ],
   "source": [
    "# 리스트 원소에 이정재를 포함하는 경우\n",
    "for doc in movie.find({'castings' : '이정재'}):\n",
    "    print doc['title']"
   ]
  },
  {
   "cell_type": "code",
   "execution_count": 96,
   "metadata": {
    "collapsed": false
   },
   "outputs": [
    {
     "name": "stdout",
     "output_type": "stream",
     "text": [
      "암살\n",
      "암살\n",
      "암살\n"
     ]
    }
   ],
   "source": [
    "# 원소에 이정재와 전지현을 포함하는 경우\n",
    "for doc in movie.find({'castings' : '이정재', 'castings' : '전지현'}):\n",
    "    print doc['title']"
   ]
  },
  {
   "cell_type": "code",
   "execution_count": 100,
   "metadata": {
    "collapsed": false
   },
   "outputs": [
    {
     "name": "stdout",
     "output_type": "stream",
     "text": [
      "암살\n",
      "실미도\n",
      "암살\n",
      "실미도\n",
      "암살\n",
      "실미도\n"
     ]
    }
   ],
   "source": [
    "# 원소에 이정재를 또는 안성기를 포함하는 경우\n",
    "for doc in movie.find({'$or' : [{'castings' : '이정재'}, {'castings' : '안성기'}]}):\n",
    "    print doc['title']"
   ]
  },
  {
   "cell_type": "markdown",
   "metadata": {},
   "source": []
  },
  {
   "cell_type": "markdown",
   "metadata": {},
   "source": [
    "* 리스트로 비교하기 위해서는 순서와 값이 정확히 일치해야 함"
   ]
  },
  {
   "cell_type": "code",
   "execution_count": 102,
   "metadata": {
    "collapsed": false
   },
   "outputs": [
    {
     "name": "stdout",
     "output_type": "stream",
     "text": [
      "암살\n",
      "암살\n",
      "암살\n"
     ]
    }
   ],
   "source": [
    "for doc in movie.find({'castings' : ['이정재', '전지현', '하정우']}):\n",
    "    print doc['title']"
   ]
  },
  {
   "cell_type": "code",
   "execution_count": 105,
   "metadata": {
    "collapsed": true
   },
   "outputs": [],
   "source": [
    "# 결과 없음\n",
    "for doc in movie.find({'castings' : ['이정재', '전지현']}):\n",
    "    print doc['title']"
   ]
  },
  {
   "cell_type": "code",
   "execution_count": 104,
   "metadata": {
    "collapsed": true
   },
   "outputs": [],
   "source": [
    "# 결과 없음\n",
    "for doc in movie.find({'castings' : ['이정재', '하정우', '전지현']}):\n",
    "    print doc['title']"
   ]
  },
  {
   "cell_type": "markdown",
   "metadata": {},
   "source": [
    "* 순서에 관계 없이 찾고자 하는 경우"
   ]
  },
  {
   "cell_type": "code",
   "execution_count": 106,
   "metadata": {
    "collapsed": false
   },
   "outputs": [
    {
     "name": "stdout",
     "output_type": "stream",
     "text": [
      "암살\n",
      "암살\n",
      "암살\n"
     ]
    }
   ],
   "source": [
    "# 이정재, 하정우, 전지현이 모두 있는 경우 검색\n",
    "for doc in movie.find({'castings' : {'$all' :  ['이정재', '하정우', '전지현'] }} ):\n",
    "    print doc['title']\n",
    "    "
   ]
  },
  {
   "cell_type": "code",
   "execution_count": 109,
   "metadata": {
    "collapsed": false
   },
   "outputs": [
    {
     "name": "stdout",
     "output_type": "stream",
     "text": [
      "암살\n",
      "암살\n",
      "암살\n"
     ]
    }
   ],
   "source": [
    "for doc in movie.find({'castings' : {'$all' :  ['하정우', '전지현'] }} ):\n",
    "    print doc['title']\n",
    "    "
   ]
  },
  {
   "cell_type": "raw",
   "metadata": {},
   "source": []
  },
  {
   "cell_type": "markdown",
   "metadata": {},
   "source": [
    "* elemMatch\n",
    " - 적어도 한개 이상의 원소가 복수개의 조건을 동시에 만족하는 경우\n",
    " - 조건이 한개인 경우는 사용하지 않음"
   ]
  },
  {
   "cell_type": "code",
   "execution_count": 119,
   "metadata": {
    "collapsed": true
   },
   "outputs": [],
   "source": [
    "score = mongo.test.score"
   ]
  },
  {
   "cell_type": "code",
   "execution_count": 122,
   "metadata": {
    "collapsed": false
   },
   "outputs": [
    {
     "data": {
      "text/plain": [
       "<pymongo.results.InsertManyResult at 0x104010410>"
      ]
     },
     "execution_count": 122,
     "metadata": {},
     "output_type": "execute_result"
    }
   ],
   "source": [
    "score.insert_many([\n",
    "{ '_id': 1, 'results': [ 82, 85, 88 ] },\n",
    "{ '_id': 2, 'results': [ 75, 88, 89 ] }])"
   ]
  },
  {
   "cell_type": "code",
   "execution_count": 126,
   "metadata": {
    "collapsed": false
   },
   "outputs": [
    {
     "name": "stdout",
     "output_type": "stream",
     "text": [
      "{u'_id': 1, u'results': [82, 85, 88]}\n",
      "{u'_id': 2, u'results': [75, 88, 89]}\n"
     ]
    }
   ],
   "source": [
    "# 각 원소별로 하나라도 만족하는 경우\n",
    "for doc in score.find({'results' : { '$gte': 80, '$lt': 85 }}):\n",
    "    print doc"
   ]
  },
  {
   "cell_type": "code",
   "execution_count": 127,
   "metadata": {
    "collapsed": false
   },
   "outputs": [
    {
     "name": "stdout",
     "output_type": "stream",
     "text": [
      "{u'_id': 1, u'results': [82, 85, 88]}\n"
     ]
    }
   ],
   "source": [
    "# 적어도 한개의 원소(82) 가 80 <= 82 <= 85를 만족함\n",
    "for doc in score.find({'results' :  {'$elemMatch' : { '$gte': 80, '$lt': 85 }}}):\n",
    "    print doc"
   ]
  },
  {
   "cell_type": "code",
   "execution_count": null,
   "metadata": {
    "collapsed": true
   },
   "outputs": [],
   "source": []
  },
  {
   "cell_type": "markdown",
   "metadata": {},
   "source": [
    "* 인덱스를 특정하여 검색하기"
   ]
  },
  {
   "cell_type": "code",
   "execution_count": 110,
   "metadata": {
    "collapsed": false
   },
   "outputs": [
    {
     "name": "stdout",
     "output_type": "stream",
     "text": [
      "암살\n",
      "암살\n",
      "암살\n"
     ]
    }
   ],
   "source": [
    "# castings의 1번째 원소가 전지현인 것 검색\n",
    "for doc in movie.find({'castings.1' : '전지현'} ):\n",
    "    print doc['title']"
   ]
  },
  {
   "cell_type": "code",
   "execution_count": 113,
   "metadata": {
    "collapsed": false
   },
   "outputs": [],
   "source": [
    "# castings의 2번째 원소가 전지현인 것 검색\n",
    "# 결과 없음\n",
    "for doc in movie.find({'castings.2' : '전지현'} ):\n",
    "    print doc['title']"
   ]
  },
  {
   "cell_type": "markdown",
   "metadata": {},
   "source": [
    "* 리스트의 원소의 개수를 기준으로 검색"
   ]
  },
  {
   "cell_type": "code",
   "execution_count": 114,
   "metadata": {
    "collapsed": false
   },
   "outputs": [
    {
     "name": "stdout",
     "output_type": "stream",
     "text": [
      "암살\n",
      "암살\n",
      "암살\n"
     ]
    }
   ],
   "source": [
    "for doc in movie.find({'castings' : {'$size' : 3}} ):\n",
    "    print doc['title']"
   ]
  },
  {
   "cell_type": "code",
   "execution_count": 118,
   "metadata": {
    "collapsed": false
   },
   "outputs": [
    {
     "name": "stdout",
     "output_type": "stream",
     "text": [
      "암살\n",
      "암살\n",
      "암살\n"
     ]
    }
   ],
   "source": [
    "# $size의 경우, 범위 지정 불가\n",
    "# 범위를 지정하기 위해서는 별도의 field를 두고, 리스트의 개수를 업데이트 해야함\n",
    "for doc in movie.find({'castings' : {'$size' : 3}} ):\n",
    "    print doc['title']"
   ]
  },
  {
   "cell_type": "raw",
   "metadata": {},
   "source": []
  },
  {
   "cell_type": "markdown",
   "metadata": {},
   "source": [
    "### Update 예제"
   ]
  },
  {
   "cell_type": "code",
   "execution_count": 26,
   "metadata": {
    "collapsed": false
   },
   "outputs": [
    {
     "name": "stdout",
     "output_type": "stream",
     "text": [
      "<pymongo.results.UpdateResult object at 0x103fc8550>\n",
      "None\n",
      "1\n",
      "<pymongo.results.UpdateResult object at 0x103e6cdc0>\n"
     ]
    }
   ],
   "source": [
    "# update_one\n",
    "mongo = MongoClient(mongo_server, 27017)\n",
    "actor = mongo.cine21.actor\n",
    "\n",
    "result = actor.update_one({'name' : '송강호'}, {'$set' : {'name' : '송광호'}})\n",
    "\n",
    "print result\n",
    "print result.modified_count"
   ]
  },
  {
   "cell_type": "code",
   "execution_count": 29,
   "metadata": {
    "collapsed": false
   },
   "outputs": [
    {
     "name": "stdout",
     "output_type": "stream",
     "text": [
      "<pymongo.results.UpdateResult object at 0x103fdaf50>\n",
      "2\n"
     ]
    }
   ],
   "source": [
    "# update_many로 매칭되는 모든 doc 업데이트\n",
    "result = actor.update_many({'name' : '송강호'}, {'$set' : {'name' : '송광호'}})\n",
    "print result\n",
    "print result.modified_count"
   ]
  },
  {
   "cell_type": "markdown",
   "metadata": {},
   "source": [
    "* upsert option\n",
    " - update method의 upsert parameter가 True로 전달하면, 매칭되는 document를 찾지 못한 경우, insert 수행"
   ]
  },
  {
   "cell_type": "code",
   "execution_count": 30,
   "metadata": {
    "collapsed": false
   },
   "outputs": [
    {
     "name": "stdout",
     "output_type": "stream",
     "text": [
      "<pymongo.results.UpdateResult object at 0x103fdae60>\n",
      "4\n",
      "<pymongo.results.UpdateResult object at 0x103fdaf50>\n",
      "58b7b3e7feea6ba09cda0c52\n",
      "0\n"
     ]
    }
   ],
   "source": [
    "result = actor.update_many({'name' : '송광호'}, {'$set' : {'name' : '오바마'}}, upsert=True)\n",
    "print result\n",
    "print result.modified_count\n",
    "\n",
    "result = actor.update_many({'name' : '클린턴'}, {'$set' : {'name' : '힐러리'}}, upsert=True)\n",
    "print result\n",
    "print result.upserted_id # 새로 삽입된 객체의 아이디\n",
    "print result.modified_count"
   ]
  },
  {
   "cell_type": "code",
   "execution_count": 32,
   "metadata": {
    "collapsed": false
   },
   "outputs": [],
   "source": [
    "result = actor.update_one({'name' : '힐러리'}, \n",
    "                            {'$set' : {'name' : '캐서린', 'age' : 30}}, upsert=True)"
   ]
  },
  {
   "cell_type": "markdown",
   "metadata": {},
   "source": [
    "### Delete 예제 "
   ]
  },
  {
   "cell_type": "code",
   "execution_count": 33,
   "metadata": {
    "collapsed": false
   },
   "outputs": [
    {
     "name": "stdout",
     "output_type": "stream",
     "text": [
      "1\n",
      "4\n"
     ]
    }
   ],
   "source": [
    "result = actor.delete_one({'name' : '캐서린'})\n",
    "print result.deleted_count\n",
    "\n",
    "result = actor.delete_many({'name' : '오바마'})\n",
    "print result.deleted_count"
   ]
  },
  {
   "cell_type": "raw",
   "metadata": {},
   "source": []
  },
  {
   "cell_type": "markdown",
   "metadata": {},
   "source": [
    "* wget\n",
    " + 웹상의 파일을 다운로드 하는 프로그램\n",
    " + e.g) wget https://raw.githubusercontent.com/mongodb/docs-assets/primer-dataset/primer-dataset.json"
   ]
  },
  {
   "cell_type": "raw",
   "metadata": {},
   "source": []
  },
  {
   "cell_type": "markdown",
   "metadata": {},
   "source": [
    "* mongoimport \n",
    "  - 파일로부터 db 생성\n",
    "  - mongoimport --db test --collection zip --drop --file zips.json\n",
    "  \n",
    "* mongoexport \n",
    "  - db의 데이터를 파일에 백업\n",
    "  - mongoexport --db test --collection news -o news.json"
   ]
  },
  {
   "cell_type": "raw",
   "metadata": {},
   "source": []
  },
  {
   "cell_type": "markdown",
   "metadata": {},
   "source": [
    "* mongodb aggregation\n",
    "  - 저장되어 있는 복수개의 documents grouping, filtering 등 다양한 연산을 적용하여 계산된 결과를 반환하는 것\n",
    "  - aggregation 파이프라인을 사용\n",
    "  - https://docs.mongodb.com/manual/meta/aggregation-quick-reference/#aggregation-expressions\n",
    "  - e.g) filtering, like operation, transforming\n",
    "  - ![aggregation](https://docs.mongodb.com/v3.2/_images/aggregation-pipeline.png)\n",
    "    이미지 출처 - https://docs.mongodb.com/manual/aggregation/#aggregation-framework"
   ]
  },
  {
   "cell_type": "markdown",
   "metadata": {},
   "source": [
    " * 예제1) 미국 zip code 데이터 이용하기\n",
    "  - http://media.mongodb.org/zips.json\n",
    "  \n",
    "  "
   ]
  },
  {
   "cell_type": "markdown",
   "metadata": {},
   "source": [
    " * 1000만 이상의 state만 가져오기\n",
    "   - group : 문자 그대로 grouping의 역할을 함.\n",
    "   - match : 조건에 맞는 documents만 필터링 함"
   ]
  },
  {
   "cell_type": "markdown",
   "metadata": {},
   "source": [
    " db.zip.aggregate([\n",
    "             {$group : {_id : '$state', totalPop : {$sum : '$pop'}}}, \n",
    "             {$match : {totalPop : {$gte : 10 * 1000 * 1000}}}\n",
    "])"
   ]
  },
  {
   "cell_type": "markdown",
   "metadata": {},
   "source": [
    "* 주별 평균 city 인구 수 구하기"
   ]
  },
  {
   "cell_type": "markdown",
   "metadata": {},
   "source": [
    "db.zip.aggregate([ \n",
    "            { $group: { _id: { state: \"$state\"}, pop: { $sum: \"$pop\" }}}, \n",
    "            { $group: { _id: \"$_id.state\", avgCityPop: { $avg: \"$pop\" }}} \n",
    "] )"
   ]
  },
  {
   "cell_type": "markdown",
   "metadata": {},
   "source": [
    "* 주별 최대, 최소 인구 수 city 구하기\n",
    "  - project : 문서 필드 추가, 삭제 이름 변경 등 각 문서별로 적용"
   ]
  },
  {
   "cell_type": "code",
   "execution_count": null,
   "metadata": {
    "collapsed": true
   },
   "outputs": [],
   "source": [
    "db.zip.aggregate( [\n",
    "   { $group:\n",
    "      {\n",
    "        _id: { state: \"$state\", city: \"$city\" },\n",
    "        pop: { $sum: \"$pop\" }\n",
    "      }\n",
    "   },\n",
    "   { $sort: { pop: 1 } },\n",
    "   { $group:\n",
    "      {\n",
    "        _id : \"$_id.state\",\n",
    "        biggestCity:  { $last: \"$_id.city\" },\n",
    "        biggestPop:   { $last: \"$pop\" },\n",
    "        smallestCity: { $first: \"$_id.city\" },\n",
    "        smallestPop:  { $first: \"$pop\" }\n",
    "      }\n",
    "   },\n",
    "\n",
    "  { $project:\n",
    "    { _id: 0,\n",
    "      state: \"$_id\",\n",
    "      biggestCity:  { name: \"$biggestCity\",  pop: \"$biggestPop\" },\n",
    "      smallestCity: { name: \"$smallestCity\", pop: \"$smallestPop\" }\n",
    "    }\n",
    "  }\n",
    "] )"
   ]
  },
  {
   "cell_type": "markdown",
   "metadata": {},
   "source": [
    "* pymongo aggregation\n",
    "  - 위의 예제들을 그대로 pymongo로 실행"
   ]
  },
  {
   "cell_type": "code",
   "execution_count": 23,
   "metadata": {
    "collapsed": false
   },
   "outputs": [
    {
     "name": "stdout",
     "output_type": "stream",
     "text": [
      "<class 'pymongo.command_cursor.CommandCursor'>\n",
      "{u'_id': u'CA', u'totalPop': 29754890}\n",
      "{u'_id': u'FL', u'totalPop': 12686644}\n",
      "{u'_id': u'PA', u'totalPop': 11881643}\n",
      "{u'_id': u'NY', u'totalPop': 17990402}\n",
      "{u'_id': u'OH', u'totalPop': 10846517}\n",
      "{u'_id': u'IL', u'totalPop': 11427576}\n",
      "{u'_id': u'TX', u'totalPop': 16984601}\n"
     ]
    }
   ],
   "source": [
    "from pymongo import MongoClient\n",
    "mongo = MongoClient(mongo_server, 27017)\n",
    "\n",
    "col = mongo.test.zip\n",
    "\n",
    "'''{$group : {_id : '$state', totalPop : {$sum : '$pop'}}}, \n",
    "   {$match : {totalPop : {$gte : 10 * 1000 * 1000}}}'''\n",
    "\n",
    "pipelines = []\n",
    "pipelines.append({'$group' : {'_id' : '$state', 'totalPop' : {'$sum' : '$pop'}}})\n",
    "pipelines.append({'$match' : {'totalPop' : {'$gte' : 10 * 1000 * 1000}}})\n",
    "\n",
    "result = col.aggregate(pipelines)\n",
    "print type(result)\n",
    "for doc in result:\n",
    "    print doc"
   ]
  },
  {
   "cell_type": "code",
   "execution_count": 24,
   "metadata": {
    "collapsed": true
   },
   "outputs": [
    {
     "name": "stdout",
     "output_type": "stream",
     "text": [
      "<class 'pymongo.command_cursor.CommandCursor'>\n",
      "{u'_id': u'DC', u'avgCityPop': 303450.0}\n",
      "{u'_id': u'DE', u'avgCityPop': 14481.91304347826}\n",
      "{u'_id': u'VT', u'avgCityPop': 2315.8765432098767}\n",
      "{u'_id': u'ME', u'avgCityPop': 3006.4901960784314}\n",
      "{u'_id': u'NJ', u'avgCityPop': 15775.89387755102}\n",
      "{u'_id': u'MT', u'avgCityPop': 2593.987012987013}\n",
      "{u'_id': u'CA', u'avgCityPop': 27756.42723880597}\n",
      "{u'_id': u'KS', u'avgCityPop': 3819.884259259259}\n",
      "{u'_id': u'MO', u'avgCityPop': 5672.195338512764}\n",
      "{u'_id': u'NH', u'avgCityPop': 5232.320754716981}\n",
      "{u'_id': u'OK', u'avgCityPop': 6155.743639921722}\n",
      "{u'_id': u'NE', u'avgCityPop': 3034.882692307692}\n",
      "{u'_id': u'CO', u'avgCityPop': 9981.075757575758}\n",
      "{u'_id': u'NC', u'avgCityPop': 10622.815705128205}\n",
      "{u'_id': u'TX', u'avgCityPop': 13775.02108678021}\n",
      "{u'_id': u'ND', u'avgCityPop': 1645.0309278350514}\n",
      "{u'_id': u'NY', u'avgCityPop': 13131.680291970803}\n",
      "{u'_id': u'NM', u'avgCityPop': 5872.360465116279}\n",
      "{u'_id': u'IL', u'avgCityPop': 9954.334494773519}\n",
      "{u'_id': u'AL', u'avgCityPop': 7907.2152641878665}\n",
      "{u'_id': u'OR', u'avgCityPop': 8262.561046511628}\n",
      "{u'_id': u'MD', u'avgCityPop': 12615.775725593667}\n",
      "{u'_id': u'AR', u'avgCityPop': 4175.355239786856}\n",
      "{u'_id': u'FL', u'avgCityPop': 27400.958963282937}\n",
      "{u'_id': u'MA', u'avgCityPop': 14855.37037037037}\n",
      "{u'_id': u'NV', u'avgCityPop': 18209.590909090908}\n",
      "{u'_id': u'LA', u'avgCityPop': 10465.496277915632}\n",
      "{u'_id': u'ID', u'avgCityPop': 4320.811158798283}\n",
      "{u'_id': u'AZ', u'avgCityPop': 20591.16853932584}\n",
      "{u'_id': u'WY', u'avgCityPop': 3384.5373134328356}\n",
      "{u'_id': u'UT', u'avgCityPop': 9518.508287292818}\n",
      "{u'_id': u'KY', u'avgCityPop': 4767.164721141375}\n",
      "{u'_id': u'OH', u'avgCityPop': 12700.839578454332}\n",
      "{u'_id': u'MN', u'avgCityPop': 5372.21375921376}\n",
      "{u'_id': u'GA', u'avgCityPop': 11547.62210338681}\n",
      "{u'_id': u'IN', u'avgCityPop': 9271.130434782608}\n",
      "{u'_id': u'SD', u'avgCityPop': 1839.6746031746031}\n",
      "{u'_id': u'VA', u'avgCityPop': 8526.177931034483}\n",
      "{u'_id': u'MS', u'avgCityPop': 7524.023391812865}\n",
      "{u'_id': u'HI', u'avgCityPop': 15831.842857142858}\n",
      "{u'_id': u'MI', u'avgCityPop': 12087.512353706112}\n",
      "{u'_id': u'PA', u'avgCityPop': 8679.067202337472}\n",
      "{u'_id': u'WA', u'avgCityPop': 12258.670025188916}\n",
      "{u'_id': u'SC', u'avgCityPop': 11139.626198083068}\n",
      "{u'_id': u'CT', u'avgCityPop': 14674.625}\n",
      "{u'_id': u'WI', u'avgCityPop': 7323.00748502994}\n",
      "{u'_id': u'AK', u'avgCityPop': 2976.4918032786886}\n",
      "{u'_id': u'WV', u'avgCityPop': 2771.4775888717154}\n",
      "{u'_id': u'IA', u'avgCityPop': 3123.0821147356583}\n",
      "{u'_id': u'TN', u'avgCityPop': 9656.350495049504}\n",
      "{u'_id': u'RI', u'avgCityPop': 19292.653846153848}\n"
     ]
    }
   ],
   "source": [
    "mongo = MongoClient(mongo_server, 27017)\n",
    "\n",
    "col = mongo.test.zip\n",
    "\n",
    "'''{ $group: { _id: { state: \"$state\", city: \"$city\" }, pop: { $sum: \"$pop\" }}}, \n",
    "   { $group: { _id: \"$_id.state\", avgCityPop: { $avg: \"$pop\" }}}'''\n",
    "\n",
    "pipelines = []\n",
    "pipelines.append({ '$group': { '_id': { 'state': \"$state\", 'city': \"$city\" }, 'pop': { '$sum': \"$pop\" }}})\n",
    "pipelines.append({ '$group': { '_id': \"$_id.state\", 'avgCityPop': { '$avg': \"$pop\" }}})\n",
    "\n",
    "result = col.aggregate(pipelines)\n",
    "print type(result)\n",
    "for doc in result:\n",
    "    print doc"
   ]
  },
  {
   "cell_type": "code",
   "execution_count": 25,
   "metadata": {
    "collapsed": true
   },
   "outputs": [
    {
     "name": "stdout",
     "output_type": "stream",
     "text": [
      "<class 'pymongo.command_cursor.CommandCursor'>\n",
      "{u'state': u'DE', u'biggestCity': {u'name': u'NEWARK', u'pop': 111674}, u'smallestCity': {u'name': u'BETHEL', u'pop': 108}}\n",
      "{u'state': u'MS', u'biggestCity': {u'name': u'JACKSON', u'pop': 204788}, u'smallestCity': {u'name': u'CHUNKY', u'pop': 79}}\n",
      "{u'state': u'RI', u'biggestCity': {u'name': u'CRANSTON', u'pop': 176404}, u'smallestCity': {u'name': u'CLAYVILLE', u'pop': 45}}\n",
      "{u'state': u'MO', u'biggestCity': {u'name': u'SAINT LOUIS', u'pop': 397802}, u'smallestCity': {u'name': u'BENDAVIS', u'pop': 44}}\n",
      "{u'state': u'GA', u'biggestCity': {u'name': u'ATLANTA', u'pop': 609591}, u'smallestCity': {u'name': u'FORT STEWART', u'pop': 0}}\n",
      "{u'state': u'MN', u'biggestCity': {u'name': u'MINNEAPOLIS', u'pop': 344719}, u'smallestCity': {u'name': u'JOHNSON', u'pop': 12}}\n",
      "{u'state': u'VT', u'biggestCity': {u'name': u'BURLINGTON', u'pop': 39127}, u'smallestCity': {u'name': u'UNIV OF VERMONT', u'pop': 0}}\n",
      "{u'state': u'NM', u'biggestCity': {u'name': u'ALBUQUERQUE', u'pop': 449584}, u'smallestCity': {u'name': u'MONUMENT', u'pop': 0}}\n",
      "{u'state': u'FL', u'biggestCity': {u'name': u'MIAMI', u'pop': 825232}, u'smallestCity': {u'name': u'CECIL FIELD NAS', u'pop': 0}}\n",
      "{u'state': u'AR', u'biggestCity': {u'name': u'LITTLE ROCK', u'pop': 192895}, u'smallestCity': {u'name': u'TOMATO', u'pop': 0}}\n",
      "{u'state': u'CA', u'biggestCity': {u'name': u'LOS ANGELES', u'pop': 2102295}, u'smallestCity': {u'name': u'OREGON HOUSE', u'pop': 0}}\n",
      "{u'state': u'MT', u'biggestCity': {u'name': u'BILLINGS', u'pop': 78805}, u'smallestCity': {u'name': u'MOSBY', u'pop': 7}}\n",
      "{u'state': u'MD', u'biggestCity': {u'name': u'BALTIMORE', u'pop': 733081}, u'smallestCity': {u'name': u'ANNAPOLIS JUNCTI', u'pop': 32}}\n",
      "{u'state': u'CO', u'biggestCity': {u'name': u'DENVER', u'pop': 451182}, u'smallestCity': {u'name': u'CHEYENNE MTN AFB', u'pop': 0}}\n",
      "{u'state': u'PA', u'biggestCity': {u'name': u'PHILADELPHIA', u'pop': 1610956}, u'smallestCity': {u'name': u'HAMILTON', u'pop': 0}}\n",
      "{u'state': u'OR', u'biggestCity': {u'name': u'PORTLAND', u'pop': 518543}, u'smallestCity': {u'name': u'LYONS', u'pop': 0}}\n",
      "{u'state': u'AL', u'biggestCity': {u'name': u'BIRMINGHAM', u'pop': 242606}, u'smallestCity': {u'name': u'ALLEN', u'pop': 0}}\n",
      "{u'state': u'KS', u'biggestCity': {u'name': u'WICHITA', u'pop': 295115}, u'smallestCity': {u'name': u'ARNOLD', u'pop': 0}}\n",
      "{u'state': u'ME', u'biggestCity': {u'name': u'PORTLAND', u'pop': 63268}, u'smallestCity': {u'name': u'BUSTINS ISLAND', u'pop': 0}}\n",
      "{u'state': u'MI', u'biggestCity': {u'name': u'DETROIT', u'pop': 963243}, u'smallestCity': {u'name': u'LELAND', u'pop': 0}}\n",
      "{u'state': u'HI', u'biggestCity': {u'name': u'HONOLULU', u'pop': 396643}, u'smallestCity': {u'name': u'NINOLE', u'pop': 0}}\n",
      "{u'state': u'MA', u'biggestCity': {u'name': u'WORCESTER', u'pop': 169856}, u'smallestCity': {u'name': u'BUCKLAND', u'pop': 16}}\n",
      "{u'state': u'ID', u'biggestCity': {u'name': u'BOISE', u'pop': 165522}, u'smallestCity': {u'name': u'KEUTERVILLE', u'pop': 0}}\n",
      "{u'state': u'LA', u'biggestCity': {u'name': u'NEW ORLEANS', u'pop': 496937}, u'smallestCity': {u'name': u'LAFITTE', u'pop': 0}}\n",
      "{u'state': u'TX', u'biggestCity': {u'name': u'HOUSTON', u'pop': 2095918}, u'smallestCity': {u'name': u'ECLETO', u'pop': 0}}\n",
      "{u'state': u'NC', u'biggestCity': {u'name': u'CHARLOTTE', u'pop': 465833}, u'smallestCity': {u'name': u'GLOUCESTER', u'pop': 0}}\n",
      "{u'state': u'NE', u'biggestCity': {u'name': u'OMAHA', u'pop': 358930}, u'smallestCity': {u'name': u'LAKESIDE', u'pop': 5}}\n",
      "{u'state': u'NV', u'biggestCity': {u'name': u'LAS VEGAS', u'pop': 597557}, u'smallestCity': {u'name': u'TUSCARORA', u'pop': 1}}\n",
      "{u'state': u'AZ', u'biggestCity': {u'name': u'PHOENIX', u'pop': 890853}, u'smallestCity': {u'name': u'HUALAPAI', u'pop': 2}}\n",
      "{u'state': u'DC', u'biggestCity': {u'name': u'WASHINGTON', u'pop': 606879}, u'smallestCity': {u'name': u'PENTAGON', u'pop': 21}}\n",
      "{u'state': u'SC', u'biggestCity': {u'name': u'COLUMBIA', u'pop': 269521}, u'smallestCity': {u'name': u'QUINBY', u'pop': 0}}\n",
      "{u'state': u'WA', u'biggestCity': {u'name': u'SEATTLE', u'pop': 520096}, u'smallestCity': {u'name': u'BENGE', u'pop': 2}}\n",
      "{u'state': u'TN', u'biggestCity': {u'name': u'MEMPHIS', u'pop': 632837}, u'smallestCity': {u'name': u'ALLRED', u'pop': 2}}\n",
      "{u'state': u'WI', u'biggestCity': {u'name': u'MILWAUKEE', u'pop': 597324}, u'smallestCity': {u'name': u'CLAM LAKE', u'pop': 2}}\n",
      "{u'state': u'NH', u'biggestCity': {u'name': u'MANCHESTER', u'pop': 106452}, u'smallestCity': {u'name': u'WEST NOTTINGHAM', u'pop': 27}}\n",
      "{u'state': u'OK', u'biggestCity': {u'name': u'TULSA', u'pop': 389072}, u'smallestCity': {u'name': u'SOUTHARD', u'pop': 8}}\n",
      "{u'state': u'IN', u'biggestCity': {u'name': u'INDIANAPOLIS', u'pop': 348868}, u'smallestCity': {u'name': u'WESTPOINT', u'pop': 145}}\n",
      "{u'state': u'VA', u'biggestCity': {u'name': u'VIRGINIA BEACH', u'pop': 385080}, u'smallestCity': {u'name': u'WALLOPS ISLAND', u'pop': 0}}\n",
      "{u'state': u'SD', u'biggestCity': {u'name': u'SIOUX FALLS', u'pop': 102046}, u'smallestCity': {u'name': u'ZEONA', u'pop': 8}}\n",
      "{u'state': u'WY', u'biggestCity': {u'name': u'CHEYENNE', u'pop': 70185}, u'smallestCity': {u'name': u'LOST SPRINGS', u'pop': 6}}\n",
      "{u'state': u'UT', u'biggestCity': {u'name': u'SALT LAKE CITY', u'pop': 186346}, u'smallestCity': {u'name': u'MODENA', u'pop': 9}}\n",
      "{u'state': u'KY', u'biggestCity': {u'name': u'LOUISVILLE', u'pop': 288058}, u'smallestCity': {u'name': u'BIG LAUREL', u'pop': 0}}\n",
      "{u'state': u'OH', u'biggestCity': {u'name': u'CLEVELAND', u'pop': 536759}, u'smallestCity': {u'name': u'ISLE SAINT GEORG', u'pop': 38}}\n",
      "{u'state': u'NY', u'biggestCity': {u'name': u'BROOKLYN', u'pop': 2300504}, u'smallestCity': {u'name': u'RAQUETTE LAKE', u'pop': 0}}\n",
      "{u'state': u'ND', u'biggestCity': {u'name': u'GRAND FORKS', u'pop': 59527}, u'smallestCity': {u'name': u'TROTTERS', u'pop': 12}}\n",
      "{u'state': u'NJ', u'biggestCity': {u'name': u'NEWARK', u'pop': 275572}, u'smallestCity': {u'name': u'IMLAYSTOWN', u'pop': 17}}\n",
      "{u'state': u'WV', u'biggestCity': {u'name': u'HUNTINGTON', u'pop': 75343}, u'smallestCity': {u'name': u'MOUNT CARBON', u'pop': 0}}\n",
      "{u'state': u'AK', u'biggestCity': {u'name': u'ANCHORAGE', u'pop': 183987}, u'smallestCity': {u'name': u'GRAYLING', u'pop': 0}}\n",
      "{u'state': u'IA', u'biggestCity': {u'name': u'DES MOINES', u'pop': 148155}, u'smallestCity': {u'name': u'DOUDS', u'pop': 15}}\n",
      "{u'state': u'CT', u'biggestCity': {u'name': u'BRIDGEPORT', u'pop': 141638}, u'smallestCity': {u'name': u'EAST KILLINGLY', u'pop': 25}}\n",
      "{u'state': u'IL', u'biggestCity': {u'name': u'CHICAGO', u'pop': 2452177}, u'smallestCity': {u'name': u'ANCONA', u'pop': 38}}\n"
     ]
    }
   ],
   "source": [
    "mongo = MongoClient(mongo_server, 27017)\n",
    "\n",
    "col = mongo.test.zip\n",
    "\n",
    "'''{ $group:\n",
    "      {\n",
    "        _id: { state: \"$state\", city: \"$city\" },\n",
    "        pop: { $sum: \"$pop\" }\n",
    "      }\n",
    "   },\n",
    "   { $sort: { pop: 1 } },\n",
    "   { $group:\n",
    "      {\n",
    "        _id : \"$_id.state\",\n",
    "        biggestCity:  { $last: \"$_id.city\" },\n",
    "        biggestPop:   { $last: \"$pop\" },\n",
    "        smallestCity: { $first: \"$_id.city\" },\n",
    "        smallestPop:  { $first: \"$pop\" }\n",
    "      }\n",
    "   },\n",
    "\n",
    "  { $project:\n",
    "    { _id: 0,\n",
    "      state: \"$_id\",\n",
    "      biggestCity:  { name: \"$biggestCity\",  pop: \"$biggestPop\" },\n",
    "      smallestCity: { name: \"$smallestCity\", pop: \"$smallestPop\" }\n",
    "    }\n",
    "  }'''\n",
    "\n",
    "pipelines = []\n",
    "pipelines.append({ '$group': { '_id': { 'state': \"$state\", 'city': \"$city\" }, 'pop': { '$sum': \"$pop\" }}})\n",
    "pipelines.append({ '$sort': { 'pop': 1 } })\n",
    "pipelines.append({ '$group' : {'_id' : \"$_id.state\", 'biggestCity':  { '$last': \"$_id.city\" }, 'biggestPop' : { '$last': \"$pop\" }, 'smallestCity': { '$first': \"$_id.city\" }, 'smallestPop':  { '$first': \"$pop\" }}})\n",
    "pipelines.append({ '$project' : { '_id' : 0, 'state': \"$_id\", 'biggestCity':  { 'name': \"$biggestCity\",  'pop': \"$biggestPop\" }, 'smallestCity': { 'name': \"$smallestCity\", 'pop': \"$smallestPop\" }}})\n",
    "\n",
    "result = col.aggregate(pipelines)\n",
    "print type(result)\n",
    "for doc in result:\n",
    "    print doc"
   ]
  },
  {
   "cell_type": "markdown",
   "metadata": {},
   "source": [
    "* 연습문제) \n",
    " 0. 위의 예제 1번을 직접 python으로 구현해보세요.\n",
    " 1. import한 restaurant 데이터를 가지고 각 borough 마다 레스토랑이 몇 개있는지 계산하시오.\n",
    " 2. address의 zipcode별로 'Brazilian' 레스토랑이 몇개 있는지 계산하시오.\n",
    " 3. 각자의 데이터에 필요한 aggregation을 진행해보세요. (자유롭게 질문하시면 됩니다.)\n",
    " \n",
    " \n",
    " \n",
    " \n",
    " \n",
    " \n",
    " \n",
    " \n",
    " \n",
    " \n",
    " \n",
    " \n",
    " "
   ]
  }
 ],
 "metadata": {
  "kernelspec": {
   "display_name": "Python 2",
   "language": "python",
   "name": "python2"
  },
  "language_info": {
   "codemirror_mode": {
    "name": "ipython",
    "version": 2
   },
   "file_extension": ".py",
   "mimetype": "text/x-python",
   "name": "python",
   "nbconvert_exporter": "python",
   "pygments_lexer": "ipython2",
   "version": "2.7.13"
  }
 },
 "nbformat": 4,
 "nbformat_minor": 1
}
