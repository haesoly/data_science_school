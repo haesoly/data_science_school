{
 "cells": [
  {
   "cell_type": "raw",
   "metadata": {},
   "source": [
    "# Class & Object "
   ]
  },
  {
   "cell_type": "markdown",
   "metadata": {},
   "source": [
    "## 학습목표\n",
    " 1. 클래스와 오브젝트에 대한 이해\n",
    " 2. 클래스 설계 구현 및 사용 숙지"
   ]
  },
  {
   "cell_type": "markdown",
   "metadata": {},
   "source": [
    "* class란?\n",
    " + 실세계의 것을 모델링하여 속성(attribute)와 동작(method)를 갖는 데이터 타입\n",
    " + string, int, list, dict.. 모두가 다 클래스(python은 기본형이 다 class 타입!)\n",
    " + 예를들어 학생이라는 클래스를 만든다면, 학생을 나타내는 속성과 학생이 행하는 행동을 함께 정의 할 수 있음\n",
    " + 모델링에서 중요시 하는 속성에 따라 클래스의 속성과 행동이 각각 달라짐"
   ]
  },
  {
   "cell_type": "markdown",
   "metadata": {},
   "source": [
    "* object 란?\n",
    " - 클래스로 생성되어 구체화된 객체(인스턴스)\n",
    " - 파이썬의 모든 것(int, str, list..etc)은 객체(인스턴스)\n",
    " - 실제로 class가 인스턴스화 되어 메모리에 상주하는 상태를 의미\n",
    " - class가 빵틀이라면, object는 실제로 빵틀로 찍어낸 빵이라고 비유 가능\n"
   ]
  },
  {
   "cell_type": "code",
   "execution_count": 3,
   "metadata": {
    "collapsed": false
   },
   "outputs": [
    {
     "name": "stdout",
     "output_type": "stream",
     "text": [
      "['__abs__', '__add__', '__and__', '__class__', '__cmp__', '__coerce__', '__delattr__', '__div__', '__divmod__', '__doc__', '__float__', '__floordiv__', '__format__', '__getattribute__', '__getnewargs__', '__hash__', '__hex__', '__index__', '__init__', '__int__', '__invert__', '__long__', '__lshift__', '__mod__', '__mul__', '__neg__', '__new__', '__nonzero__', '__oct__', '__or__', '__pos__', '__pow__', '__radd__', '__rand__', '__rdiv__', '__rdivmod__', '__reduce__', '__reduce_ex__', '__repr__', '__rfloordiv__', '__rlshift__', '__rmod__', '__rmul__', '__ror__', '__rpow__', '__rrshift__', '__rshift__', '__rsub__', '__rtruediv__', '__rxor__', '__setattr__', '__sizeof__', '__str__', '__sub__', '__subclasshook__', '__truediv__', '__trunc__', '__xor__', 'bit_length', 'conjugate', 'denominator', 'imag', 'numerator', 'real']\n",
      "7\n"
     ]
    }
   ],
   "source": [
    "# 실제로 메모리에 구체화된 값을 가진 실체\n",
    "# 속성(attribute), 동작(method)를 가짐\n",
    "num = 100\n",
    "print dir(num)       #int형이 가지고 있는 함수 출력\n",
    "print num.bit_length()"
   ]
  },
  {
   "cell_type": "markdown",
   "metadata": {},
   "source": [
    "* class 선언하기"
   ]
  },
  {
   "cell_type": "code",
   "execution_count": 1,
   "metadata": {
    "collapsed": false
   },
   "outputs": [
    {
     "name": "stdout",
     "output_type": "stream",
     "text": [
      "<__main__.Person object at 0x034783F0>\n",
      "<class '__main__.Person'>\n"
     ]
    }
   ],
   "source": [
    "class Person():\n",
    "    pass\n",
    "\n",
    "class Person:\n",
    "    pass\n",
    "\n",
    "class Person(object):   #python 버전2에서 권장하는 방법\n",
    "    pass\n",
    "\n",
    "\n",
    "p1 = Person()\n",
    "print p1\n",
    "print type(p1)"
   ]
  },
  {
   "cell_type": "markdown",
   "metadata": {},
   "source": [
    "* __init__(self)\n",
    " + 생성자, 클래스 인스턴스가 생성될 때 호출됨\n",
    " + self인자는 항상 첫번째에 오며 자기 자신을 가리킴\n",
    " + 이름이 꼭 self일 필요는 없지만, 일반적으로 self로 사용"
   ]
  },
  {
   "cell_type": "code",
   "execution_count": 24,
   "metadata": {
    "collapsed": false
   },
   "outputs": [
    {
     "name": "stdout",
     "output_type": "stream",
     "text": [
      "<__main__.Person object at 0x035553D0>\n",
      "object is created\n",
      "<__main__.Person object at 0x035553D0>\n",
      "**************************************************\n",
      "<__main__.Person object at 0x035557D0>\n",
      "aaron\n"
     ]
    }
   ],
   "source": [
    "class Person(object):\n",
    "    def __init__(self):             #생성자 함수는 객체 생성시 딱 한번만 불림\n",
    "        print self\n",
    "        print 'object is created'\n",
    "\n",
    "p1 = Person()\n",
    "print p1\n",
    "\n",
    "print '*' *50\n",
    "\n",
    "class Person(object):\n",
    "    def __init__(self, name):\n",
    "        self.name = name # 멤버 변수(속성)\n",
    "        \n",
    "# Student 클래스의 정의를 찾고\n",
    "# object를 메모리에 초기화(생성)\n",
    "# __init__ method를 호출. 이때 새롭게 생성된 object를 self에 전달하고, 'aaron'을 name에 전달\n",
    "# object에 name값을 저장하고 \n",
    "# s1에 이 object를 연결한다\n",
    "s1 = Person('aaron')\n",
    "print s1\n",
    "print s1.name      #python은 기본적으로 다 public"
   ]
  },
  {
   "cell_type": "markdown",
   "metadata": {},
   "source": [
    "* mehtod 정의\n",
    " + 멤버함수라고도 하며, 해당 클래스의 object에서만 호출가능하다.\n",
    " + {obj}.{method}() 형태로 호출됨"
   ]
  },
  {
   "cell_type": "code",
   "execution_count": 30,
   "metadata": {
    "collapsed": false
   },
   "outputs": [
    {
     "name": "stdout",
     "output_type": "stream",
     "text": [
      "Tracy works very hard\n",
      "Aaron works very hard\n"
     ]
    }
   ],
   "source": [
    "class Person(object):\n",
    "    def __init__(self, name, height):  #생성자, 클래스 인스턴스가 생성될때 호출됨 \n",
    "        self.name = name\n",
    "        self.height = height\n",
    "        \n",
    "    def work(self):      #self인자는 항상 첫번째에 오며 자기 자신을 가리킴 (이름이 꼭 self일 필요는 없지만 일반적으로 self 사용)\n",
    "        print '{} works very hard'.format(self.name)\n",
    "        \n",
    "\n",
    "p1 = Person('Tracy', 190)\n",
    "p1.work()\n",
    "\n",
    "p2 = Person('Aaron', 160)\n",
    "p2.work()\n",
    "#work()"
   ]
  },
  {
   "cell_type": "code",
   "execution_count": 9,
   "metadata": {
    "collapsed": false
   },
   "outputs": [
    {
     "name": "stdout",
     "output_type": "stream",
     "text": [
      "aaron works very hard\n",
      "bob works very hard\n",
      "<__main__.Person object at 0x1029c5550>\n",
      "<__main__.Person object at 0x1029c5910>\n"
     ]
    }
   ],
   "source": [
    "class Person(object):\n",
    "    def __init__(self, name):\n",
    "        self.name = name\n",
    "        \n",
    "    def work(self):\n",
    "        print '{} works very hard'.format(self.name)\n",
    "        \n",
    "    def sleep(self):\n",
    "        print '{} sleeps every day'.format(self.name)\n",
    "        \n",
    "\n",
    "p1 = Person('aaron')\n",
    "p1.work()\n",
    "\n",
    "p2 = Person('bob')\n",
    "p2.work()\n",
    "\n",
    "\n",
    "print p1\n",
    "print p2"
   ]
  },
  {
   "cell_type": "markdown",
   "metadata": {},
   "source": [
    "* 연습문제\n",
    "0. Circle class를 작성하세요\n",
    "  - radius 속성을 갖습니다.\n",
    "  - 생성자에서 해당 속성을 초기화 합니다. __init__(self, radius)\n",
    "  - 넓이, 둘레를 구하는 함수를 작성하세요 get_area(self),  get_length(self)\n",
    "  \n",
    "1. BankAccount class를 작성하세요\n",
    "  - 해당 클래스는 amount라는 속성을 갖습니다.\n",
    "  - 생성자에서 해당 속성을 초기화 해줍니다. (__init__(self, amount))\n",
    "  - 해당 클래스는 인출, 저금의 기능을 갖습니다. withdraw(self, amount), save(self, amount)\n",
    "  - 해당 클래스는 잔액 확인 기능을 갖습니다. check(self)\n",
    "  - 해당 클래스는 복리 이자 체크 기능을 갖습니다. check_interest(self, interest_month, duration_month)\n",
    "\n",
    "2. 학생 성적 class관리를 위해 class를 작성하세요\n",
    " - 해당 클래스는 kor, eng, math라는 float 속성을 갖습니다.\n",
    " - 해당 클래스는 각 점수를 출력 기능을 갖습니다. print(self)\n",
    " - 해당 클래스는 점수의 평균을 반환하는 기능을 갖습니다. get_average(self)\n",
    " \n",
    "3. 비디오 가게 관리 class를 작성하세요\n",
    " - videos라는 딕셔너리 속성을 갖습니다.\n",
    " - 새 비디오 추가 기능 add_video(title)\n",
    " - 비디오 검색 기능 find_video(title)\n",
    " - 비디오가 신작인지 아닌지 판별하는 함수 (나온지 일주일 내를 신작이라고 평가) is_new_release(title)"
   ]
  },
  {
   "cell_type": "code",
   "execution_count": 35,
   "metadata": {
    "collapsed": false,
    "scrolled": true
   },
   "outputs": [
    {
     "name": "stdout",
     "output_type": "stream",
     "text": [
      "28.2743338823\n",
      "18.8495559215\n"
     ]
    }
   ],
   "source": [
    "# radius 속성을 갖습니다.\n",
    "# 생성자에서 해당 속성을 초기화 합니다. __init__(self, radius)\n",
    "# 넓이, 둘레를 구하는 함수를 작성하세요 get_area(self),  get_length(self)\n",
    "import math\n",
    "class Circle(object):\n",
    "    def __init__(self,radius):\n",
    "        self.radius = radius\n",
    "    def get_area(self):\n",
    "        self.area= self.radius * self.radius * math.pi\n",
    "        return self.area\n",
    "    def get_length(self):\n",
    "        self.length= 2 * self.radius * math.pi\n",
    "        return self.length\n",
    "    \n",
    "c1=Circle(3)\n",
    "print c1.get_area()\n",
    "print c1.get_length()"
   ]
  },
  {
   "cell_type": "code",
   "execution_count": 72,
   "metadata": {
    "collapsed": false
   },
   "outputs": [
    {
     "name": "stdout",
     "output_type": "stream",
     "text": [
      "50000원 남았습니다.\n",
      "20000원 남았습니다.\n",
      "40000원 남았습니다.\n",
      "551433.967396\n"
     ]
    }
   ],
   "source": [
    "#BankAccount class를 작성하세요\n",
    "# 해당 클래스는 amount라는 속성을 갖습니다.\n",
    "# 생성자에서 해당 속성을 초기화 해줍니다. (__init__(self, amount))\n",
    "# 해당 클래스는 인출, 저금의 기능을 갖습니다. withdraw(self, amount), save(self, amount)\n",
    "# 해당 클래스는 잔액 확인 기능을 갖습니다. check(self)\n",
    "# 해당 클래스는 복리 이자 체크 기능을 갖습니다. check_interest(self, interest_month, duration_month)\n",
    "class BankAccount(object):\n",
    "    def __init__(self,amount):\n",
    "        self.amount = amount\n",
    "    def withdraw(self,amount):\n",
    "        self.amount -= amount\n",
    "        return self.amount\n",
    "    def save(self,amount):\n",
    "        self.amount +=amount\n",
    "        return self.amount\n",
    "    def check(self):\n",
    "        print str(self.amount)+\"원 남았습니다.\"\n",
    "    def check_interest(self,interest_month,duration_month):   #복리구하기\n",
    "        print self.amount * ((1 +interest_month) ** duration_month)\n",
    "    \n",
    "ba1= BankAccount(50000)\n",
    "ba1.check()\n",
    "ba1.withdraw(30000)\n",
    "ba1.check()\n",
    "ba1.save(20000)\n",
    "ba1.check()\n",
    "ba1.check_interest(0.3,10)"
   ]
  },
  {
   "cell_type": "code",
   "execution_count": 42,
   "metadata": {
    "collapsed": false
   },
   "outputs": [
    {
     "name": "stdout",
     "output_type": "stream",
     "text": [
      "kor: 90 eng: 50 math: 60\n",
      "66.6666666667\n"
     ]
    }
   ],
   "source": [
    "#학생 성적 class관리를 위해 class를 작성하세요\n",
    "#해당 클래스는 kor, eng, math라는 float 속성을 갖습니다.\n",
    "#해당 클래스는 각 점수를 출력 기능을 갖습니다. print(self)\n",
    "#해당 클래스는 점수의 평균을 반환하는 기능을 갖습니다. get_average(self)\n",
    "\n",
    "class StudentGrade(object):\n",
    "    def __init__(self, kor, eng, math):\n",
    "        self.kor = kor\n",
    "        self.eng = eng\n",
    "        self.math = math\n",
    "    def print_grade(self):\n",
    "        print 'kor: {} eng: {} math: {}'.format(self.kor, self.eng, self.math)\n",
    "    def get_average(self):\n",
    "        self.average = (self.kor + self.eng + self.math) / float(3)\n",
    "        print self.average\n",
    "    \n",
    "st1=StudentGrade(90,50,60)\n",
    "st1.print_grade()\n",
    "st1.get_average()"
   ]
  },
  {
   "cell_type": "code",
   "execution_count": 4,
   "metadata": {
    "collapsed": false
   },
   "outputs": [
    {
     "name": "stdout",
     "output_type": "stream",
     "text": [
      "2017-01-16 14:43:52.156000 2017-01-09 14:43:52.156000\n",
      "True\n"
     ]
    }
   ],
   "source": [
    "# datetime 모듈을 이용하여 날짜 계산 가능\n",
    "import datetime as dt\n",
    "today = dt.datetime.now() # 현재 시간 계산\n",
    "week_ago = today - dt.timedelta(days = 7) # 일주일전 시간 계산\n",
    "\n",
    "print today, week_ago\n",
    "print week_ago < today       #더 커야만 신작"
   ]
  },
  {
   "cell_type": "code",
   "execution_count": 103,
   "metadata": {
    "collapsed": false,
    "scrolled": true
   },
   "outputs": [
    {
     "name": "stdout",
     "output_type": "stream",
     "text": [
      "{'harry potter': datetime.datetime(2017, 1, 16, 12, 1, 57, 781000), 'Lords of the Ring': datetime.datetime(2017, 1, 2, 12, 1, 57, 781000), 'hello': datetime.datetime(2017, 1, 16, 12, 1, 57, 781000)}\n",
      "harry potteris available\n"
     ]
    },
    {
     "data": {
      "text/plain": [
       "False"
      ]
     },
     "execution_count": 103,
     "metadata": {},
     "output_type": "execute_result"
    }
   ],
   "source": [
    "#비디오 가게 관리 class를 작성하세요\n",
    "#videos라는 딕셔너리 속성을 갖습니다.\n",
    "#새 비디오 추가 기능 add_video(title)\n",
    "#비디오 검색 기능 find_video(title)\n",
    "#비디오가 신작인지 아닌지 판별하는 함수 (나온지 일주일 내를 신작이라고 평가) is_new_release(title)\n",
    "import datetime as dt\n",
    "today = dt.datetime.now()\n",
    "two_week_ago = today - dt.timedelta(days = 14)\n",
    "week_ago = today - dt.timedelta(days = 7)\n",
    "\n",
    "class VideoManagement(object):\n",
    "    def __init__(self,videos):\n",
    "        self.videos= videos\n",
    "    def add_video(self, title):\n",
    "        self.videos[title]= today\n",
    "        print self.videos\n",
    "    def find_video(self, title):\n",
    "        if title in self.videos:\n",
    "            print title + 'is available'\n",
    "        else:\n",
    "            print \"None\"\n",
    "    def is_new_release(self,title):\n",
    "        return  self.videos[title] >= week_ago       #참이면 신작, Fasle이면 신작아님\n",
    "        \n",
    "        '''if return  self.videos[title] >= week_ago:   #단축해서 코딩하기\n",
    "                return True\n",
    "            else:\n",
    "                return False'''\n",
    "    def print_videos(self):\n",
    "        print self.videos\n",
    "v1= VideoManagement({\"harry potter\":today, \"Lords of the Ring\": two_week_ago})\n",
    "v1.add_video('hello')\n",
    "#v1.print_videos()\n",
    "v1.find_video(\"harry potter\")\n",
    "v1. is_new_release(\"Lords of the Ring\")"
   ]
  },
  {
   "cell_type": "markdown",
   "metadata": {},
   "source": [
    " * Class Inheritance (상속)\n",
    "  - 기존에 정의해둔 클래스의 기능을 그대로 물려받을 수 있다.\n",
    "  - 기존 클래스에 기능 일부를 추가하거나, 변경하여 새로운 클래스를 정의한다.\n",
    "  - 코드를 재사용할 수 있게된다.\n",
    "  - 상속 받고자 하는 대상인 기존 클래스는 (Parent, Super, Base class 라고 부른다.)\n",
    "  - 상속 받는 새로운 클래스는(Child, Sub, Derived class 라고 부른다.)\n",
    "  - 의미적으로 is-a관계를 갖는다"
   ]
  },
  {
   "cell_type": "code",
   "execution_count": 14,
   "metadata": {
    "collapsed": false
   },
   "outputs": [
    {
     "name": "stdout",
     "output_type": "stream",
     "text": [
      "<__main__.Person object at 0x1094ec350>\n",
      "<__main__.Student object at 0x10949cd50>\n"
     ]
    }
   ],
   "source": [
    "class Person(object):\n",
    "    pass\n",
    "\n",
    "class Student(Person):   #Person을 상속함\n",
    "    pass\n",
    "\n",
    "p1 = Person()\n",
    "s1 = Student()\n",
    "\n",
    "print p1\n",
    "print s1"
   ]
  },
  {
   "cell_type": "code",
   "execution_count": 104,
   "metadata": {
    "collapsed": false,
    "scrolled": true
   },
   "outputs": [
    {
     "name": "stdout",
     "output_type": "stream",
     "text": [
      "work hard\n",
      "work hard\n"
     ]
    }
   ],
   "source": [
    "class Person(object):\n",
    "    def work(self):\n",
    "        print 'work hard'\n",
    "\n",
    "#class Student():\n",
    "class Student(Person):\n",
    "    pass\n",
    "\n",
    "p1 = Person()\n",
    "s1 = Student()\n",
    "\n",
    "p1.work()\n",
    "s1.work()"
   ]
  },
  {
   "cell_type": "markdown",
   "metadata": {},
   "source": [
    "* method override\n",
    " - 부모 클래스의 method를 재정의(override)\n",
    " - 하위 클래스(자식 클래스) 의 인스턴스로 호출시, 재정의된 메소드가 호출됨"
   ]
  },
  {
   "cell_type": "code",
   "execution_count": 16,
   "metadata": {
    "collapsed": false
   },
   "outputs": [
    {
     "name": "stdout",
     "output_type": "stream",
     "text": [
      "work hard\n",
      "Study hard\n"
     ]
    }
   ],
   "source": [
    "class Person(object):\n",
    "    def work(self):\n",
    "        print 'work hard'\n",
    "\n",
    "class Student(Person):\n",
    "    def work(self):\n",
    "        print 'Study hard'\n",
    "        \n",
    "p1 = Person()\n",
    "s1 = Student()\n",
    "\n",
    "p1.work()\n",
    "s1.work()"
   ]
  },
  {
   "cell_type": "code",
   "execution_count": 17,
   "metadata": {
    "collapsed": true
   },
   "outputs": [
    {
     "name": "stdout",
     "output_type": "stream",
     "text": [
      "work hard\n"
     ]
    },
    {
     "ename": "AttributeError",
     "evalue": "'Person' object has no attribute 'go_to_school'",
     "output_type": "error",
     "traceback": [
      "\u001b[0;31m---------------------------------------------------------------------------\u001b[0m",
      "\u001b[0;31mAttributeError\u001b[0m                            Traceback (most recent call last)",
      "\u001b[0;32m<ipython-input-17-b652ff65349f>\u001b[0m in \u001b[0;36m<module>\u001b[0;34m()\u001b[0m\n\u001b[1;32m     15\u001b[0m \u001b[0;34m\u001b[0m\u001b[0m\n\u001b[1;32m     16\u001b[0m \u001b[0mp1\u001b[0m\u001b[0;34m.\u001b[0m\u001b[0mwork\u001b[0m\u001b[0;34m(\u001b[0m\u001b[0;34m)\u001b[0m\u001b[0;34m\u001b[0m\u001b[0m\n\u001b[0;32m---> 17\u001b[0;31m \u001b[0mp1\u001b[0m\u001b[0;34m.\u001b[0m\u001b[0mgo_to_school\u001b[0m\u001b[0;34m(\u001b[0m\u001b[0;34m)\u001b[0m\u001b[0;34m\u001b[0m\u001b[0m\n\u001b[0m\u001b[1;32m     18\u001b[0m \u001b[0;34m\u001b[0m\u001b[0m\n\u001b[1;32m     19\u001b[0m \u001b[0ms1\u001b[0m\u001b[0;34m.\u001b[0m\u001b[0mwork\u001b[0m\u001b[0;34m(\u001b[0m\u001b[0;34m)\u001b[0m\u001b[0;34m\u001b[0m\u001b[0m\n",
      "\u001b[0;31mAttributeError\u001b[0m: 'Person' object has no attribute 'go_to_school'"
     ]
    }
   ],
   "source": [
    "class Person(object):\n",
    "    def work(self):\n",
    "        print 'work hard'\n",
    "\n",
    "class Student(Person):\n",
    "    def work(self):\n",
    "        print 'Study hard'\n",
    "        \n",
    "    def go_to_school(self):\n",
    "        print 'Go to school'\n",
    "        \n",
    "\n",
    "p1 = Person()\n",
    "s1 = Student()\n",
    "\n",
    "p1.work()\n",
    "#p1.go_to_school()      #에러: 부모클래스에서 자식클래스는 호출안됨\n",
    "\n",
    "s1.work()\n",
    "s1.go_to_school()"
   ]
  },
  {
   "cell_type": "markdown",
   "metadata": {},
   "source": [
    "* super \n",
    " - 하위클래스(자식 클래스)에서 부모클래스의 method를 호출할 때 사용"
   ]
  },
  {
   "cell_type": "code",
   "execution_count": 43,
   "metadata": {
    "collapsed": false
   },
   "outputs": [
    {
     "name": "stdout",
     "output_type": "stream",
     "text": [
      "aaron\n",
      "aaron\n"
     ]
    }
   ],
   "source": [
    "class Person(object):\n",
    "    def __init__(self, name):\n",
    "        self.name = name\n",
    "        print self.name\n",
    "\n",
    "class Student(Person):\n",
    "    pass\n",
    "\n",
    "p1 = Person('aaron')\n",
    "s1 = Student('aaron')  #부모 init함수 자동 생성"
   ]
  },
  {
   "cell_type": "code",
   "execution_count": 14,
   "metadata": {
    "collapsed": false
   },
   "outputs": [
    {
     "name": "stdout",
     "output_type": "stream",
     "text": [
      "Dr.aaron\n",
      "True\n",
      "aaron macmath22@gmail.com\n",
      "Dr.aaron\n"
     ]
    }
   ],
   "source": [
    "class Person(object):\n",
    "    def __init__(self, name):\n",
    "        self.name = 'Dr.' + name\n",
    "        print self.name\n",
    "\n",
    "class Student(Person):\n",
    "    def __init__(self, name, email):\n",
    "        super(Student, self.__init__(name))    #python 2 문법    #python 3에서는 \"super.__init__(parameter)\"\n",
    "        self.email = email\n",
    "        \n",
    "\n",
    "class Student(Person):\n",
    "    def __init__(self, name, email):\n",
    "        self.name = name # 부모클래스에서 변경이 일어날 수 도 있다.\n",
    "        self.email = email\n",
    "\n",
    "p1 = Person('aaron')\n",
    "s1 = Student('aaron', 'macmath22@gmail.com')\n",
    "\n",
    "print isinstance(s1, Person)       \n",
    "\n",
    "print s1.name, s1.email\n",
    "print p1.name, #p1.email"
   ]
  },
  {
   "cell_type": "markdown",
   "metadata": {},
   "source": [
    "* self\n",
    " - 파이썬의 method는 항상 첫번째 인자로 self를 전달\n",
    " - self는 현재 해당 메쏘드가 호출되는 객체 자신을 가리킴\n",
    " - C++/C#, Java의 this에 해당\n",
    " - 역시, 이름이 self일 필요는 없으나, 위치는 항상 맨 처음의 parameter이며 관례적으로 self로 사용"
   ]
  },
  {
   "cell_type": "code",
   "execution_count": 11,
   "metadata": {
    "collapsed": false
   },
   "outputs": [
    {
     "name": "stdout",
     "output_type": "stream",
     "text": [
      "bob\n",
      "<__main__.Person object at 0x1029c5390>\n",
      "<__main__.Person object at 0x1029c5390>\n",
      "bob is sleeping for  12 hour(s)\n"
     ]
    }
   ],
   "source": [
    "class Person(object):\n",
    "    def __init__(self, name):\n",
    "        self.name = name\n",
    "        print self.name\n",
    "    \n",
    "    def sleep(self, hour):\n",
    "        print self\n",
    "        print self.name, 'is sleeping for ', hour, 'hour(s)'\n",
    "        \n",
    "p1 = Person('bob')\n",
    "print p1\n",
    "p1.sleep(12)"
   ]
  },
  {
   "cell_type": "markdown",
   "metadata": {},
   "source": [
    "* method type\n",
    " - instance method(멤버 함수) - 객체로 호출\n",
    " - class method    - class로 호출\n"
   ]
  },
  {
   "cell_type": "code",
   "execution_count": 3,
   "metadata": {
    "collapsed": false
   },
   "outputs": [
    {
     "name": "stdout",
     "output_type": "stream",
     "text": [
      "1\n",
      "2\n",
      "44\n",
      "3\n"
     ]
    }
   ],
   "source": [
    "class A(object):\n",
    "    \n",
    "    count = 0    # static member =(class variable) 모든 클래스가 공유하는 변수\n",
    "    \n",
    "    def __init__(self, cnt):\n",
    "        A.count += 1    #정적 변수 사용 방법\n",
    "\n",
    "        self.cnt = cnt # member variable, attribute\n",
    "        \n",
    "    def print_cnt(self): # memeber function, method\n",
    "        print self.cnt\n",
    "        \n",
    "    @classmethod # class method, static function\n",
    "    def print_count(cls): #cls = class\n",
    "        print cls.count\n",
    "        \n",
    "a1 = A(1)\n",
    "a2 = A(2)\n",
    "a3 = A(44)\n",
    "\n",
    "a1.print_cnt()\n",
    "a2.print_cnt()\n",
    "a3.print_cnt()\n",
    "\n",
    "A.print_count()"
   ]
  },
  {
   "cell_type": "markdown",
   "metadata": {},
   "source": [
    "* Duck typing\n",
    " - 다형성에 대한 느슨한 구현.\n",
    " - 클래스에 관계없이 같은 동작을 다른객체에 적용\n",
    " - 타입에 관계없이 같은 method를 구현한 것으로 다형성에 활용\n",
    " - 일반적인 언어는 상속으로 관계 설정해야 같은 type으로 인식, but python은 같은 이름을 가진 메소드만으로 묶을수 있음!"
   ]
  },
  {
   "cell_type": "code",
   "execution_count": 107,
   "metadata": {
    "collapsed": false
   },
   "outputs": [
    {
     "name": "stdout",
     "output_type": "stream",
     "text": [
      "aaron play baseball\n",
      "sam play basketball\n",
      "knight play basketball\n",
      "bob play baseball\n",
      "mike play baseball\n",
      "tim play basketball\n"
     ]
    }
   ],
   "source": [
    "class BaseballPlayer(object):\n",
    "    def __init__(self, name):\n",
    "        self.name = name\n",
    "        \n",
    "    def play(self):\n",
    "        print self.name, 'play baseball'\n",
    "        \n",
    "class BasketballPlayer(object):\n",
    "    def __init__(self, name):\n",
    "        self.name = name\n",
    "        \n",
    "    def play(self):\n",
    "        print self.name, 'play basketball'\n",
    "        \n",
    "        \n",
    "b1 = BaseballPlayer('aaron')\n",
    "b2 = BaseballPlayer('bob')\n",
    "b3 = BaseballPlayer('mike')\n",
    "\n",
    "b11 = BasketballPlayer('sam')\n",
    "b12 = BasketballPlayer('knight')\n",
    "b13 = BasketballPlayer('tim')\n",
    "\n",
    "players = [b1, b11, b12, b2, b3, b13]\n",
    "\n",
    "for player in players:\n",
    "    player.play()\n",
    "        "
   ]
  },
  {
   "cell_type": "markdown",
   "metadata": {},
   "source": [
    "* special method\n",
    " - __로 시작\n",
    " - +, -, * 등의 연산자와 함께 사용 가능\n",
    " - https://docs.python.org/2/reference/datamodel.html"
   ]
  },
  {
   "cell_type": "code",
   "execution_count": 115,
   "metadata": {
    "collapsed": false
   },
   "outputs": [
    {
     "name": "stdout",
     "output_type": "stream",
     "text": [
      "False\n",
      "True\n",
      "False\n"
     ]
    }
   ],
   "source": [
    "class Word(object):\n",
    "    def __init__(self, text):\n",
    "        self.text = text\n",
    "        \n",
    "    def compare(self,word2):\n",
    "        return self.text == word2.text\n",
    "    \n",
    "    def __eq__(self, word2):        #w1==w2 처럼 연산자로 표현할 수 있도록, special method정의! ->w1.compare(w2)보다 직관적임\n",
    "        return self.text.lower() == word2.text.lower()\n",
    "    \n",
    "w1 = Word('aaron')\n",
    "w2 = Word('Aaron')\n",
    "w3 = Word('Bob')\n",
    "\n",
    "print w1.compare(w2)\n",
    "print w1 == w2\n",
    "print w1 == w3\n",
    "\n",
    "# w1 == w2\n"
   ]
  },
  {
   "cell_type": "code",
   "execution_count": 1,
   "metadata": {
    "collapsed": false
   },
   "outputs": [
    {
     "name": "stdout",
     "output_type": "stream",
     "text": [
      "True\n",
      "aaronAaron\n",
      "10\n",
      "[Word(\"aaron\"), Word(\"Aaron\"), Word(\"aaronAaron\")]\n"
     ]
    }
   ],
   "source": [
    "class Word(object):\n",
    "    def __init__(self, text):\n",
    "        self.text = text\n",
    "        \n",
    "    def __eq__(self, word2):\n",
    "        return self.text.lower() == word2.text.lower()\n",
    "    \n",
    "    def __add__(self, word2):\n",
    "        return Word(self.text + word2.text)\n",
    "    \n",
    "    def __repr__(self):        #__repr__, __str__ 두개 동일하게 많이씀 \n",
    "        return 'Word(\"' + self.text + '\")'     #__repr__은 print 안쓸때 호출됨  __str__은 print 만날때 호출\n",
    "    \n",
    "    def __str__(self):\n",
    "        return self.text\n",
    "    \n",
    "    def __len__(self):\n",
    "        return len(self.text)\n",
    "\n",
    "    \n",
    "w1 = Word('aaron')\n",
    "w2 = Word('Aaron')\n",
    "w3 = Word('Bob')\n",
    "\n",
    "print w1 == w2\n",
    "\n",
    "w3 = w1 + w2\n",
    "print w3   #__str__ 호출됨!\n",
    "\n",
    "w3  #__repr__ 호출됨!\n",
    "print len(w3)\n",
    "\n",
    "a= [w1,w2,w3]             #__repr__함수 호출됨\n",
    "print a"
   ]
  },
  {
   "cell_type": "markdown",
   "metadata": {},
   "source": [
    "* 연습문제 \n",
    "  - Word 클래스를 생성하여 Word를 원소로 갖는 리스트를 생성하세요.\n",
    "   1. 문자의 길이를 기준으로 정렬해보세요. ( __len__(self)를 정의하면 len(w1)을 사용 할 수 있습니다. )\n",
    "   2. 두번째 문자를 기준으로 정렬해보세요. ( __getitem__(self, key)를 정의하면 w1[]을 사용 할 수 있습니다. )"
   ]
  },
  {
   "cell_type": "code",
   "execution_count": 2,
   "metadata": {
    "collapsed": true
   },
   "outputs": [],
   "source": [
    "class Word(object):\n",
    "    def __init__(self,text):\n",
    "        self.text = text\n",
    "    def __len__(self):\n",
    "        return len(self.text)\n",
    "    def __getitem__(self,key):\n",
    "        return self.text[key]\n",
    "    \n",
    "#  def __str__(self):\n",
    "#       return self.text\n",
    "    def __repr__(self):\n",
    "        return self.text"
   ]
  },
  {
   "cell_type": "code",
   "execution_count": 3,
   "metadata": {
    "collapsed": false
   },
   "outputs": [
    {
     "name": "stdout",
     "output_type": "stream",
     "text": [
      "[hb, Bob, aaron, Akronhaha]\n",
      "[aaron, hb, Akronhaha, Bob]\n"
     ]
    }
   ],
   "source": [
    "w1 = Word('aaron')\n",
    "w2 = Word('Akronhaha')\n",
    "w3 = Word('Bob')\n",
    "w4 = Word('hb')\n",
    "\n",
    "words = [w1, w2, w3, w4]\n",
    "\n",
    "print sorted(words, key = lambda x : len(x))\n",
    "print sorted(words, key = lambda x : x[1])"
   ]
  },
  {
   "cell_type": "markdown",
   "metadata": {},
   "source": [
    "* composition\n",
    " - 다른 클래스의 기능을 그대로 이용하고 싶으나, 상속을 피하고 싶을 때 사용\n",
    " - 컴포지션, 또는 어그리게이션(aggregation)이라고 한다.\n",
    " - 주로 의미적으로 is-a 관계가 맞지 않을 때 사용한다\n",
    " \n",
    " is - a관계에서는 상속/ has-a 포함관계 많이 썼었음 \n",
    " 요즘 추세는 상속보다 포함관계 많이 씀\n",
    " \n",
    " 상속의 문제점\n",
    " - 부모클래스의 메소드 잘못 호출할 수 있음"
   ]
  },
  {
   "cell_type": "code",
   "execution_count": 1,
   "metadata": {
    "collapsed": true
   },
   "outputs": [
    {
     "ename": "NameError",
     "evalue": "name 'List' is not defined",
     "output_type": "error",
     "traceback": [
      "\u001b[0;31m---------------------------------------------------------------------------\u001b[0m",
      "\u001b[0;31mNameError\u001b[0m                                 Traceback (most recent call last)",
      "\u001b[0;32m<ipython-input-1-7c3089a81d08>\u001b[0m in \u001b[0;36m<module>\u001b[0;34m()\u001b[0m\n\u001b[1;32m      1\u001b[0m \u001b[1;31m#상속의 문제점\u001b[0m\u001b[1;33m\u001b[0m\u001b[1;33m\u001b[0m\u001b[0m\n\u001b[0;32m----> 2\u001b[0;31m \u001b[1;32mclass\u001b[0m \u001b[0mDuck\u001b[0m\u001b[1;33m(\u001b[0m\u001b[0mList\u001b[0m\u001b[1;33m)\u001b[0m\u001b[1;33m:\u001b[0m\u001b[1;33m\u001b[0m\u001b[0m\n\u001b[0m\u001b[1;32m      3\u001b[0m     \u001b[1;32mdef\u001b[0m \u001b[0madd\u001b[0m\u001b[1;33m(\u001b[0m\u001b[0mself\u001b[0m\u001b[1;33m)\u001b[0m\u001b[1;33m:\u001b[0m\u001b[1;33m\u001b[0m\u001b[0m\n\u001b[1;32m      4\u001b[0m         \u001b[1;32mpass\u001b[0m\u001b[1;33m\u001b[0m\u001b[0m\n\u001b[1;32m      5\u001b[0m \u001b[1;33m\u001b[0m\u001b[0m\n",
      "\u001b[0;31mNameError\u001b[0m: name 'List' is not defined"
     ]
    }
   ],
   "source": [
    "#상속의 문제점\n",
    "class Duck(List):\n",
    "    def add(self):\n",
    "        pass\n",
    "\n",
    "duck=Duck()\n",
    "duck.append()            #add 메소드 써야 하는데, List 객체 상속받았으므로 append 함수 사용하다가 버그 발생 가능"
   ]
  },
  {
   "cell_type": "code",
   "execution_count": 7,
   "metadata": {
    "collapsed": false
   },
   "outputs": [
    {
     "name": "stdout",
     "output_type": "stream",
     "text": [
      "aaron has a bill and it is very good and a tail length of 8\n"
     ]
    }
   ],
   "source": [
    "class Bill(object):\n",
    "    def __init__(self, desc):\n",
    "        self.desc = desc\n",
    "        \n",
    "class Tail(object):\n",
    "    def __init__(self, length):\n",
    "        self.length = length\n",
    "    def print_length(self):\n",
    "        print self.length\n",
    "        \n",
    "class Duck(object):\n",
    "    def __init__(self, bill, tail, name):\n",
    "        self.bill = bill\n",
    "        self.tail = tail\n",
    "        self.name = name\n",
    "        \n",
    "    def about(self):\n",
    "        print self.name, 'has a bill and it is', self.bill.desc, 'and a tail length of', self.tail.length\n",
    "        \n",
    "tail = Tail(8)\n",
    "bill = Bill('very good')\n",
    "\n",
    "duck = Duck(bill, tail, 'aaron')\n",
    "duck.about()\n",
    "#duck.print_length()                #상속처럼 외부에서 부모 클래스 함수 사용 못함"
   ]
  },
  {
   "cell_type": "code",
   "execution_count": 8,
   "metadata": {
    "collapsed": true
   },
   "outputs": [
    {
     "ename": "TypeError",
     "evalue": "__init__() takes exactly 2 arguments (4 given)",
     "output_type": "error",
     "traceback": [
      "\u001b[0;31m---------------------------------------------------------------------------\u001b[0m",
      "\u001b[0;31mTypeError\u001b[0m                                 Traceback (most recent call last)",
      "\u001b[0;32m<ipython-input-8-b363f5b20eef>\u001b[0m in \u001b[0;36m<module>\u001b[0;34m()\u001b[0m\n\u001b[1;32m     21\u001b[0m \u001b[0mbill\u001b[0m \u001b[1;33m=\u001b[0m \u001b[0mBill\u001b[0m\u001b[1;33m(\u001b[0m\u001b[1;34m'very good'\u001b[0m\u001b[1;33m)\u001b[0m\u001b[1;33m\u001b[0m\u001b[0m\n\u001b[1;32m     22\u001b[0m \u001b[1;33m\u001b[0m\u001b[0m\n\u001b[0;32m---> 23\u001b[0;31m \u001b[0mduck\u001b[0m \u001b[1;33m=\u001b[0m \u001b[0mDuck\u001b[0m\u001b[1;33m(\u001b[0m\u001b[0mbill\u001b[0m\u001b[1;33m,\u001b[0m \u001b[0mtail\u001b[0m\u001b[1;33m,\u001b[0m \u001b[1;34m'aaron'\u001b[0m\u001b[1;33m)\u001b[0m\u001b[1;33m\u001b[0m\u001b[0m\n\u001b[0m\u001b[1;32m     24\u001b[0m \u001b[0mduck\u001b[0m\u001b[1;33m.\u001b[0m\u001b[0mabout\u001b[0m\u001b[1;33m(\u001b[0m\u001b[1;33m)\u001b[0m\u001b[1;33m\u001b[0m\u001b[0m\n",
      "\u001b[0;31mTypeError\u001b[0m: __init__() takes exactly 2 arguments (4 given)"
     ]
    }
   ],
   "source": [
    "#방법 2\n",
    "        \n",
    "class Duck(object):\n",
    "    def __init__(self, name):\n",
    "        self.bill = Bill()\n",
    "        self.tail = Tail()\n",
    "        self.name = name\n",
    "        \n",
    "    def about(self):\n",
    "        print self.name, 'has a bill and it is', self.bill.desc, 'and a tail length of', self.tail.length\n",
    "        \n",
    "tail = Tail(8)\n",
    "bill = Bill('very good')\n",
    "\n",
    "duck = Duck(bill, tail, 'aaron')\n",
    "duck.about()"
   ]
  },
  {
   "cell_type": "markdown",
   "metadata": {},
   "source": [
    "* 파이썬의 경우, 복소수를 지원하지만, 직접 만들어 봅시다"
   ]
  },
  {
   "cell_type": "code",
   "execution_count": 13,
   "metadata": {
    "collapsed": true
   },
   "outputs": [
    {
     "data": {
      "text/plain": [
       "(3+9j)"
      ]
     },
     "execution_count": 13,
     "metadata": {},
     "output_type": "execute_result"
    }
   ],
   "source": [
    "import math\n",
    "1 + 4j + 2 + 5j\n",
    "#(1+4j)(3-2j) = 11+10j\n",
    "\n",
    "#루트 구하는 법\n",
    "math.sqrt(5)\n",
    "5 ** 0.5\n",
    "math.pow(5,0.5)     #pow-> 몇승이냐 구하는 함수"
   ]
  },
  {
   "cell_type": "code",
   "execution_count": 32,
   "metadata": {
    "collapsed": false
   },
   "outputs": [
    {
     "name": "stdout",
     "output_type": "stream",
     "text": [
      "5+9j\n",
      "1+-1j\n",
      "-14+23j\n",
      "5\n"
     ]
    }
   ],
   "source": [
    "import math\n",
    "class ComplexNumber(object):\n",
    "    def __init__(self,num,img):\n",
    "        self.num = num\n",
    "        self.img = img\n",
    "    def __add__(self,other):\n",
    "        sum_num = self.num + other.num\n",
    "        sum_img = self.img + other.img\n",
    "        return ComplexNumber(sum_num, sum_img)\n",
    "    def __sub__(self,other):\n",
    "        sub_num = self.num - other.num\n",
    "        sub_img = self.img - other.img\n",
    "        return ComplexNumber(sub_num, sub_img)\n",
    "    def __mul__(self,other):\n",
    "        mul_num = self.num * other.num - self.img * other.img\n",
    "        mul_img = self.num * other.img + self.img * other.num\n",
    "        return ComplexNumber(mul_num,mul_img)\n",
    "    def __len__(self):        #len은 정수만 출력?\n",
    "        return (self.num**2 + self.img**2) ** 0.5 \n",
    "    def __str__(self): #음수일경우 if문 출력\n",
    "        return '{}+{}j'.format(self.num, self.img)\n",
    "#    def __repr__(self):   \n",
    "#        return '{}+{}j'.format(self.num, self.img)\n",
    "c1 = ComplexNumber(3, 4)\n",
    "c2 = ComplexNumber(2, 5)\n",
    "c3 = ComplexNumber(2, 5)\n",
    "\n",
    "print c1 + c2\n",
    "print c1 - c2\n",
    "print c1 * c2\n",
    "\n",
    "print len(c1)"
   ]
  },
  {
   "cell_type": "markdown",
   "metadata": {},
   "source": [
    "* 연습문제)\n",
    " - 복소수 클래스를 정의 해봅시다.\n",
    " - 덧셈, 뺄셈, 곱셈 연산자 지원\n",
    " - 길이 (복소수의 크기) 지원 \n",
    " - 복소수 출력 '1 + 4j'와 같이 표현\n",
    " - 비교 연산 ==, != 지원\n",
    " - >=, <= , <, > 연산 지원\n"
   ]
  },
  {
   "cell_type": "code",
   "execution_count": 2,
   "metadata": {
    "collapsed": false
   },
   "outputs": [
    {
     "name": "stdout",
     "output_type": "stream",
     "text": [
      "3 + 4j\n",
      "True\n",
      "False\n",
      "True\n",
      "5 + 9j\n",
      "1 + -1j\n",
      "-14 + 23j\n",
      "5\n"
     ]
    }
   ],
   "source": [
    "import math\n",
    "\n",
    "class ComplexNumber(object):\n",
    "    def __init__(self, num, img):\n",
    "        self.num = num\n",
    "        self.img = img\n",
    "        \n",
    "    def __repr__(self):\n",
    "        return '{} + {}j'.format(self.num, self.img)\n",
    "        \n",
    "    def __str__(self):\n",
    "        return '{} + {}j'.format(self.num, self.img)\n",
    "    \n",
    "    def __eq__(self, cn):\n",
    "        return self.num == cn.num and self.img == cn.img\n",
    "    \n",
    "    def __ne__(self, cn):\n",
    "        return not (self.num == cn.num and self.img == cn.img)\n",
    "    \n",
    "    def __add__(self, cn):\n",
    "        return ComplexNumber(self.num + cn.num, self.img + cn.img)\n",
    "    \n",
    "    def __sub__(self, cn):\n",
    "        return ComplexNumber(self.num - cn.num, self.img - cn.img)\n",
    "    \n",
    "    def __mul__(self, cn):\n",
    "        mul_num = self.num * cn.num - self.img * cn.img\n",
    "        mul_img = self.img * cn.num + self.num * cn.img\n",
    "        \n",
    "        return ComplexNumber(mul_num, mul_img)\n",
    "    \n",
    "    def __len__(self):\n",
    "        return math.sqrt(self.num ** 2 + self.img ** 2)\n",
    "        \n",
    "        \n",
    "c1 = ComplexNumber(3, 4)\n",
    "c2 = ComplexNumber(2, 5)\n",
    "c3 = ComplexNumber(2, 5)\n",
    "\n",
    "print c1\n",
    "print c2 == c3\n",
    "print c1 == c3\n",
    "print c1 != c3\n",
    "\n",
    "print c1 + c2\n",
    "print c1 - c2\n",
    "print c1 * c2\n",
    "\n",
    "print len(c1)"
   ]
  },
  {
   "cell_type": "markdown",
   "metadata": {},
   "source": [
    "* class 설계를\n",
    " - 기능명세 작성\n",
    " - 기능을 담당할 클래스 추출\n",
    " - 멤버함수 정의\n",
    " \n",
    " \n",
    "* 연습문제\n",
    "* news를 crawling하여 해당 뉴스가 스포츠인지, 시사인지 경제인지 분류하는 소프트웨어 설계\n",
    " - 어떤 역할이 필요할까요?\n",
    " - 해당 역할을 클래스로 나누어 보세요\n",
    " - 클래스가 그려지면 각 클래스의 멤버함수는 어떻게 구성할 수 있을까요?"
   ]
  },
  {
   "cell_type": "code",
   "execution_count": 5,
   "metadata": {
    "collapsed": false
   },
   "outputs": [
    {
     "ename": "IndentationError",
     "evalue": "expected an indented block (<ipython-input-5-6325a5157526>, line 12)",
     "output_type": "error",
     "traceback": [
      "\u001b[0;36m  File \u001b[0;32m\"<ipython-input-5-6325a5157526>\"\u001b[0;36m, line \u001b[0;32m12\u001b[0m\n\u001b[0;31m    class SportsClassification(object):\u001b[0m\n\u001b[0m                                       ^\u001b[0m\n\u001b[0;31mIndentationError\u001b[0m\u001b[0;31m:\u001b[0m expected an indented block\n"
     ]
    }
   ],
   "source": [
    "class DoCrawling(object):\n",
    "    def __init__(self,url):\n",
    "        this.url =url\n",
    "\n",
    "class CalculateWordFrequency(object):\n",
    "    def __init__(self):\n",
    "        word_dict = {}\n",
    "\n",
    "class ClassificationManager(object):\n",
    "    def __init__(self):\n",
    "        \n",
    "class SportsClassification(object):\n",
    "    def __init__(self):\n",
    "        sprorts_dict ={}\n",
    "\n",
    "class CurrentEventsClassification(object):\n",
    "l    def __init__(self):\n",
    "        current_events_dict ={}\n",
    "\n",
    "class EconomyClassification(object):\n",
    "    def __init__(self):\n",
    "        economy_dict={}\n"
   ]
  },
  {
   "cell_type": "markdown",
   "metadata": {},
   "source": [
    "* 연습문제)\n",
    "  - OrderedList 클래스를 만드세요\n",
    "  - 숫자 리스트를 속성으로 갖습니다.\n",
    "  - append(self, num), print(self), find(self, num) 멤버 함수를 갖습니다.\n",
    "  - print는 전체 리스트 출력\n",
    "  - append(num)은 새로운 숫자를 리스트에 추가하는데, 정렬된 상태로 추가합니다. 예를들어 [1, 3, 4, 7, 9]에 5를 추가하면 [1, 3, 4, 5, 7, 9] 가 됩니다.\n",
    "  - find(num)은 해당 숫자가 있는지 검색합니다."
   ]
  },
  {
   "cell_type": "code",
   "execution_count": 4,
   "metadata": {
    "collapsed": false
   },
   "outputs": [
    {
     "name": "stdout",
     "output_type": "stream",
     "text": [
      "[1, 3, 4, 7, 9]\n",
      "3\n",
      "[1, 3, 4, 5, 7, 9]\n",
      "True\n",
      "False\n"
     ]
    }
   ],
   "source": [
    "class OrderedList(object):\n",
    "    def __init__(self,numbers):\n",
    "        self.numbers = numbers\n",
    "        \n",
    "    def append(self,num):\n",
    "        for i, n in enumerate(self.numbers):\n",
    "            if n >= num:\n",
    "                print i\n",
    "                self.numbers.insert(i, num)\n",
    "                break\n",
    "             \n",
    "    def __str__(self):\n",
    "        return str(self.numbers)\n",
    "    \n",
    "    def find(self,num):\n",
    "        return num in self.numbers\n",
    "            \n",
    "\n",
    "l1= OrderedList([1, 3, 4, 7, 9])\n",
    "print l1\n",
    "l1.append(5)\n",
    "print l1\n",
    "\n",
    "print l1.find(3)\n",
    "print l1.find(10)"
   ]
  },
  {
   "cell_type": "code",
   "execution_count": null,
   "metadata": {
    "collapsed": false
   },
   "outputs": [],
   "source": [
    "numbers = [1, 3, 4, 7, 9]\n",
    "for i, n in enumerate(numbers):\n",
    "    #print i,n\n",
    "    #numbers.append(5)\n",
    "    numbers.insert(3,5)"
   ]
  },
  {
   "cell_type": "code",
   "execution_count": null,
   "metadata": {
    "collapsed": true
   },
   "outputs": [],
   "source": []
  }
 ],
 "metadata": {
  "kernelspec": {
   "display_name": "Python 2",
   "language": "python",
   "name": "python2"
  },
  "language_info": {
   "codemirror_mode": {
    "name": "ipython",
    "version": 2
   },
   "file_extension": ".py",
   "mimetype": "text/x-python",
   "name": "python",
   "nbconvert_exporter": "python",
   "pygments_lexer": "ipython2",
   "version": "2.7.13"
  }
 },
 "nbformat": 4,
 "nbformat_minor": 1
}
